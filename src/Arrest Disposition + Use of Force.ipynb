{
 "cells": [
  {
   "cell_type": "markdown",
   "metadata": {},
   "source": [
    "This notebook looks at data from the State of California Department of Justice's Open Justice [site](https://openjustice.doj.ca.gov) in an attempt to analyze the role played by race in determining the outcomes -- \"dispositions\" -- of arrests and the use of force during arrests. Below is the code used to experiment and investigate."
   ]
  },
  {
   "cell_type": "code",
   "execution_count": 1,
   "metadata": {},
   "outputs": [],
   "source": [
    "#import CA DOJ data on arrest dispositions"
   ]
  },
  {
   "cell_type": "code",
   "execution_count": 2,
   "metadata": {},
   "outputs": [],
   "source": [
    "import pandas as pd\n",
    "df = pd.read_csv('./OnlineArrestDispoData1980-2020.csv')"
   ]
  },
  {
   "cell_type": "code",
   "execution_count": 3,
   "metadata": {},
   "outputs": [],
   "source": [
    "#select for arrests after the year 2010\n",
    "#separate the data by the race of people arrested and the disposition code"
   ]
  },
  {
   "cell_type": "code",
   "execution_count": 4,
   "metadata": {},
   "outputs": [],
   "source": [
    "df = df[df['YEAR'] > 2010]\n",
    "df['TOTAL'] = df['F_TOTAL'] + df['M_TOTAL'] + df['S_TOTAL']"
   ]
  },
  {
   "cell_type": "code",
   "execution_count": 5,
   "metadata": {},
   "outputs": [],
   "source": [
    "import matplotlib.pyplot as plt\n",
    "\n",
    "df_race = df[df['RACE'] == \"Black\"]\n",
    "\n",
    "df_release = df_race[df_race['ARREST_DISP_CODE'] == \"Released\"]\n",
    "df_complaint_sought = df_race[df_race['ARREST_DISP_CODE'] == \"Complaint Sought\"]\n",
    "df_to_other = df_race[df_race['ARREST_DISP_CODE'] == \"To Other Agency\"]\n",
    "df_within_dept = df_race[df_race['ARREST_DISP_CODE'] == \"Within Department\"]\n",
    "df_probation = df_race[df_race['ARREST_DISP_CODE'] == \"Juvenile Probation\"]\n",
    "\n",
    "total_arrest = df_race['TOTAL'].sum()\n",
    "\n",
    "total_release = df_release['TOTAL'].sum()\n",
    "total_complaint_sought = df_complaint_sought['TOTAL'].sum()\n",
    "total_to_other = df_to_other['TOTAL'].sum()\n",
    "total_within_dept = df_within_dept['TOTAL'].sum()\n",
    "total_probation = df_probation['TOTAL'].sum()\n",
    "\n",
    "# initialize list of lists\n",
    "data = [['Black',(total_release/total_arrest)*100,\n",
    "         (total_to_other/total_arrest)*100, (total_within_dept/total_arrest)*100, \n",
    "          (total_probation/total_arrest)*100, (total_complaint_sought/total_arrest)*100]]\n",
    "  \n",
    "df_data_black = pd.DataFrame(data, columns = ['Race', 'Released', 'To Other Agency', \n",
    "                                         'Within Department', 'Juvenile Probation', 'Complaint Sought'])\n",
    "                        \n"
   ]
  },
  {
   "cell_type": "code",
   "execution_count": 6,
   "metadata": {},
   "outputs": [],
   "source": [
    "df_race = df[df['RACE'] == \"White\"]\n",
    "\n",
    "df_release = df_race[df_race['ARREST_DISP_CODE'] == \"Released\"]\n",
    "df_complaint_sought = df_race[df_race['ARREST_DISP_CODE'] == \"Complaint Sought\"]\n",
    "df_to_other = df_race[df_race['ARREST_DISP_CODE'] == \"To Other Agency\"]\n",
    "df_within_dept = df_race[df_race['ARREST_DISP_CODE'] == \"Within Department\"]\n",
    "df_probation = df_race[df_race['ARREST_DISP_CODE'] == \"Juvenile Probation\"]\n",
    "\n",
    "total_arrest = df_race['TOTAL'].sum()\n",
    "\n",
    "total_release = df_release['TOTAL'].sum()\n",
    "total_complaint_sought = df_complaint_sought['TOTAL'].sum()\n",
    "total_to_other = df_to_other['TOTAL'].sum()\n",
    "total_within_dept = df_within_dept['TOTAL'].sum()\n",
    "total_probation = df_probation['TOTAL'].sum()\n",
    "\n",
    "# initialize list of lists\n",
    "data = [['White',(total_release/total_arrest)*100,\n",
    "         (total_to_other/total_arrest)*100, (total_within_dept/total_arrest)*100, \n",
    "          (total_probation/total_arrest)*100, (total_complaint_sought/total_arrest)*100]]\n",
    "  \n",
    "df_data_white = pd.DataFrame(data, columns = ['Race', 'Released', 'To Other Agency', \n",
    "                                         'Within Department', 'Juvenile Probation', 'Complaint Sought'])\n",
    "                    \n"
   ]
  },
  {
   "cell_type": "code",
   "execution_count": 7,
   "metadata": {},
   "outputs": [],
   "source": [
    "df_race = df[df['RACE'] == \"Hispanic\"]\n",
    "\n",
    "df_release = df_race[df_race['ARREST_DISP_CODE'] == \"Released\"]\n",
    "df_complaint_sought = df_race[df_race['ARREST_DISP_CODE'] == \"Complaint Sought\"]\n",
    "df_to_other = df_race[df_race['ARREST_DISP_CODE'] == \"To Other Agency\"]\n",
    "df_within_dept = df_race[df_race['ARREST_DISP_CODE'] == \"Within Department\"]\n",
    "df_probation = df_race[df_race['ARREST_DISP_CODE'] == \"Juvenile Probation\"]\n",
    "\n",
    "total_arrest = df_race['TOTAL'].sum()\n",
    "\n",
    "total_release = df_release['TOTAL'].sum()\n",
    "total_complaint_sought = df_complaint_sought['TOTAL'].sum()\n",
    "total_to_other = df_to_other['TOTAL'].sum()\n",
    "total_within_dept = df_within_dept['TOTAL'].sum()\n",
    "total_probation = df_probation['TOTAL'].sum()\n",
    "\n",
    "# initialize list of lists\n",
    "data = [['Hispanic',(total_release/total_arrest)*100,\n",
    "         (total_to_other/total_arrest)*100, (total_within_dept/total_arrest)*100, \n",
    "          (total_probation/total_arrest)*100, (total_complaint_sought/total_arrest)*100]]\n",
    "  \n",
    "df_data_hispanic = pd.DataFrame(data, columns = ['Race', 'Released', 'To Other Agency', \n",
    "                                         'Within Department', 'Juvenile Probation', 'Complaint Sought'])\n",
    "                    \n"
   ]
  },
  {
   "cell_type": "code",
   "execution_count": 8,
   "metadata": {},
   "outputs": [],
   "source": [
    "df_race = df[df['RACE'] == \"Other\"]\n",
    "\n",
    "df_release = df_race[df_race['ARREST_DISP_CODE'] == \"Released\"]\n",
    "df_complaint_sought = df_race[df_race['ARREST_DISP_CODE'] == \"Complaint Sought\"]\n",
    "df_to_other = df_race[df_race['ARREST_DISP_CODE'] == \"To Other Agency\"]\n",
    "df_within_dept = df_race[df_race['ARREST_DISP_CODE'] == \"Within Department\"]\n",
    "df_probation = df_race[df_race['ARREST_DISP_CODE'] == \"Juvenile Probation\"]\n",
    "\n",
    "total_arrest = df_race['TOTAL'].sum()\n",
    "\n",
    "total_release = df_release['TOTAL'].sum()\n",
    "total_complaint_sought = df_complaint_sought['TOTAL'].sum()\n",
    "total_to_other = df_to_other['TOTAL'].sum()\n",
    "total_within_dept = df_within_dept['TOTAL'].sum()\n",
    "total_probation = df_probation['TOTAL'].sum()\n",
    "\n",
    "# initialize list of lists\n",
    "data = [['Other',(total_release/total_arrest)*100,\n",
    "         (total_to_other/total_arrest)*100, (total_within_dept/total_arrest)*100, \n",
    "          (total_probation/total_arrest)*100, (total_complaint_sought/total_arrest)*100]]\n",
    "  \n",
    "df_data_others = pd.DataFrame(data, columns = ['Race', 'Released', 'To Other Agency', \n",
    "                                         'Within Department', 'Juvenile Probation', 'Complaint Sought'])\n",
    "                    \n"
   ]
  },
  {
   "cell_type": "code",
   "execution_count": 9,
   "metadata": {},
   "outputs": [],
   "source": [
    "#display the disposition data, now sorted by race & disposition"
   ]
  },
  {
   "cell_type": "code",
   "execution_count": 10,
   "metadata": {},
   "outputs": [
    {
     "data": {
      "text/plain": [
       "<AxesSubplot:ylabel='Race'>"
      ]
     },
     "execution_count": 10,
     "metadata": {},
     "output_type": "execute_result"
    },
    {
     "data": {
      "image/png": "[encoded data removed]",
      "text/plain": [
       "<Figure size 432x288 with 1 Axes>"
      ]
     },
     "metadata": {
      "needs_background": "light"
     },
     "output_type": "display_data"
    }
   ],
   "source": [
    "df_final = pd.concat([df_data_black, df_data_white, df_data_hispanic, df_data_others])\n",
    "df_final = df_final.set_index('Race')\n",
    "df_final.plot.barh(stacked=True)"
   ]
  },
  {
   "cell_type": "markdown",
   "metadata": {},
   "source": [
    "The majority of arrests by far result in a complaint sought, regardless of race. For the disposition of a referral to juvenile probation, Black and Hispanic individuals dominate numerically."
   ]
  },
  {
   "cell_type": "code",
   "execution_count": 11,
   "metadata": {},
   "outputs": [],
   "source": [
    "#import CA DOJ data on use of force during arrests "
   ]
  },
  {
   "cell_type": "code",
   "execution_count": 12,
   "metadata": {},
   "outputs": [],
   "source": [
    "force_df = pd.read_csv('./URSUS_Civilian-Officer_2020.csv')"
   ]
  },
  {
   "cell_type": "code",
   "execution_count": 13,
   "metadata": {},
   "outputs": [],
   "source": [
    "#break down the population of victims of force during arrests by race"
   ]
  },
  {
   "cell_type": "code",
   "execution_count": 14,
   "metadata": {},
   "outputs": [
    {
     "data": {
      "text/plain": [
       "<AxesSubplot:ylabel='Race_Ethnic_Group'>"
      ]
     },
     "execution_count": 14,
     "metadata": {},
     "output_type": "execute_result"
    },
    {
     "data": {
      "image/png": "[encoded data removed]",
      "text/plain": [
       "<Figure size 432x288 with 1 Axes>"
      ]
     },
     "metadata": {
      "needs_background": "light"
     },
     "output_type": "display_data"
    }
   ],
   "source": [
    "officer_force_df = force_df[force_df['Civilian_Officer'] ==  \"Civilian\"]\n",
    "force_racial_breakdown_df = officer_force_df.groupby(['Race_Ethnic_Group'], as_index=True).size()\n",
    "force_racial_breakdown_df.plot.barh()"
   ]
  },
  {
   "cell_type": "markdown",
   "metadata": {},
   "source": [
    "Hispanic individuals are clearly the victims of force during arrests at a far greater rate than individuals of any other race or ethnic group, with white people coming at second."
   ]
  },
  {
   "cell_type": "code",
   "execution_count": 15,
   "metadata": {},
   "outputs": [],
   "source": [
    "#break down the (assaultive) resistance of defendants during arrests by race"
   ]
  },
  {
   "cell_type": "code",
   "execution_count": 16,
   "metadata": {},
   "outputs": [
    {
     "data": {
      "text/plain": [
       "<AxesSubplot:ylabel='Race_Ethnic_Group'>"
      ]
     },
     "execution_count": 16,
     "metadata": {},
     "output_type": "execute_result"
    },
    {
     "data": {
      "image/png": "[encoded data removed]",
      "text/plain": [
       "<Figure size 432x288 with 1 Axes>"
      ]
     },
     "metadata": {
      "needs_background": "light"
     },
     "output_type": "display_data"
    }
   ],
   "source": [
    "civilian_resistance_df = force_df[force_df['Civilian_Officer'] ==  \"Civilian\"]\n",
    "civilian_resistance_df = civilian_resistance_df[civilian_resistance_df['CIVILIAN_Resistance_Type'] ==\"assaultive\"]\n",
    "racial_breakdown_df = civilian_resistance_df.groupby(['Race_Ethnic_Group'], as_index=True).size()\n",
    "racial_breakdown_df.plot.barh(stacked= True)"
   ]
  },
  {
   "cell_type": "markdown",
   "metadata": {},
   "source": [
    "Here, too, Hispanics outnumber every other racial and ethnic group."
   ]
  },
  {
   "cell_type": "code",
   "execution_count": null,
   "metadata": {},
   "outputs": [],
   "source": []
  }
 ],
 "metadata": {
  "kernelspec": {
   "display_name": "Python 3 (ipykernel)",
   "language": "python",
   "name": "python3"
  },
  "language_info": {
   "codemirror_mode": {
    "name": "ipython",
    "version": 3
   },
   "file_extension": ".py",
   "mimetype": "text/x-python",
   "name": "python",
   "nbconvert_exporter": "python",
   "pygments_lexer": "ipython3",
   "version": "3.9.9"
  }
 },
 "nbformat": 4,
 "nbformat_minor": 4
}
