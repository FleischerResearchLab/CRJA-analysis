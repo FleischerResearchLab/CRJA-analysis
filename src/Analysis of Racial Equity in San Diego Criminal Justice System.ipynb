{
 "cells": [
  {
   "cell_type": "markdown",
   "id": "493503cc",
   "metadata": {},
   "source": [
    "# Analysis of Racial Equity in San Diego Criminal Justice System\n",
    "\n",
    "Jiayi Zhao (A15814036)\n",
    "\n",
    "Chancellor's Research Scholarship for Social Sciences"
   ]
  },
  {
   "cell_type": "markdown",
   "id": "221d2187",
   "metadata": {},
   "source": [
    "## Abstract \n",
    "\n",
    "The California Racial Justice Act (RJA) approved in 2020 which prohibits state prosecutors from racially discriminating against suspects, prosecutors are not allowed to prosecute suspects as long as they can prove that law enforcement officials discriminated against them; even if a suspect is convicted, a retrial is available. However, the RJA does not mandate the publication of aggregated data on racial disparity allegations, convictions, and sentences, as well as defining acceptable statistical methods to demonstrate racial disparity. This project is a preliminary search to find out what aspects of criminal justice data might be useful to those citing the CRJA. Accordingly, this project aims to seek and disclose data on the racial composition of charges, convictions, and sentences in San Diego County and its municipalities through the submission of Public Records Act (PRA) and Freedom of Information Act (FOIA) requests, as well as data analyzed using the Pandas python library. \n",
    "\n",
    "To some extent, this project will include a precise analysis on the traffic stop reason and resultant charges related in Homlessness in San Diego from traffic stop data collected under the Racial and Identity Profiling Act of 2015 (RIPA) to investigate any statistical evidence of racial bias affecting the outcomes of different stop reasons and their resultant charges. However, we aren’t yet sure if this preliminary analysis has conclusively demonstrated there may be a racial disparity in the traffic stop enforcement."
   ]
  },
  {
   "cell_type": "markdown",
   "id": "b7cda435",
   "metadata": {},
   "source": [
    "## Table of Contents\n",
    "\n",
    "1. ### [Introduction](#intro)\n",
    "2. ### [Methods](#methods)\n",
    "3. ### [Preliminary Analysis on Targeted Enforcement for Homlessness](#ripa_homeless)\n",
    "    - #### [Automated Keyword Parsing System](#keyword)\n",
    "    - #### [Exploratory Data Analysis](#eda)\n",
    "    - #### [Geospatial Analysis](#geo)\n",
    "4. ### [Preliminary CDCR Data Breakdowns and Analysis](#cdcr)\n",
    "5. ### [Results & Discussion](#res)\n",
    "4. ### [References](#ref)"
   ]
  },
  {
   "cell_type": "markdown",
   "id": "09fc0a08",
   "metadata": {},
   "source": [
    "## Introduction <a id='intro'></a>\n",
    "\n",
    "California Governor Gavin Newsom signed several laws after taking office in 2019 to promote racial equality and justice. Among them, the California Racial Justice Act (AB 2542), proposed by Assemblyman Ash Kalra in the South Bay constituency, was also signed by Newsom in September 2020, which would prohibit the use of race or ethnicity to seek or obtain a conviction or sentence. This new law prohibits state prosecutors from racially discriminating against suspects, prosecutors are not allowed to prosecute suspects as long as they can prove that law enforcement officials discriminated against them; even if a suspect is convicted, a retrial is available.\n",
    "\n",
    "However, the only public race and ethnicity related data set in San Diego county is the traffic stop data under the Racial and Identity Profiling Act (RIPA) from the San Diego Police Department. There are researchers and journalists utilizing the traffic stop data to analyze whether there exists racial “bias affecting the outcomes of police stops and the resultant charges” [[2](#ref2)]. \"Stopped by police in San Diego? A lot depends on where you live, drive\" by data reporters Greg Moran, et al from the San Diego Union-Tribune found out that police over-patrol was found in large minority population neighborhood which means that some areas with large minority populations saw more enforcement than mostly White areas with similar crime totals [[1](#ref1)]. In addition, the Black/African American community was vastly overrepresented in the stop data comparing to overall population of San Diego according to “The California Racial Justice Act & San Diego PD RIPA Data” by Sreetama Chowdhury.\n",
    "\n",
    "However, the results of the two projects are not necessarily applicable to the entire court system. Data from traffic stops is far from the only source that enters the criminal justice system. Even if any evidence of bias were found, it would not necessarily stand up in court.\n",
    "\n",
    "We are the first team that tries to find out what aspects of criminal justice data might be helpful to those citing the RJA. The goal of this research is to seek acceptable statistical methods for demonstrating racial disparities by starting with the homelessness group in San Diego. We argue that by intentionally targeting the homeless, law enforcement is intentionally targeting minorities, who are known to be overrepresented in the homeless population. RJA motions can get the demographics before the court and the public to help influence the policymakers to end the criminalization of homeless people. In the meantime, we are seeking and disclosing more data on the racial composition of charges, convictions, and sentences in San Diego County and its municipalities through the submission of Public Records Act (PRA) and Freedom of Information Act (FOIA) requests, as well as data analyzed using the Pandas python library."
   ]
  },
  {
   "cell_type": "markdown",
   "id": "06721b3f",
   "metadata": {},
   "source": [
    "## Methods <a id='methods'></a>\n",
    "\n",
    "In this project, we are mainly using Python’s Pandas software library for data manipulation and analysis.\n",
    "\n",
    "Using the RIPA stop data, we created an automated keyword parsing system that pulls out data involved with the penal code that might be used against homeless people. After we pulled out homless-related data, we ran an exploratory data analysis (EDA) and geospatial analysis to have a preliminary analysis on targeted enforcement for homelessness.\n",
    "\n",
    "On the other hand, we cleaned and had a preliminary analysis on the CA Department of Corrections and Rehabilitation sentencing data within 10 years that we just received on August 24th, 2022."
   ]
  },
  {
   "cell_type": "markdown",
   "id": "e2dac912",
   "metadata": {},
   "source": [
    "## Preliminary Analysis on Targeted Enforcement for Homlessness <a id='ripa_homeless'></a>\n",
    "\n",
    "### Import RIPA Data\n",
    "Note: RIPA traffic stop data used can be found, explained, and downloaded [here](https://data.sandiego.gov/datasets/police-ripa-stops/)."
   ]
  },
  {
   "cell_type": "code",
   "execution_count": null,
   "id": "351b37bd",
   "metadata": {},
   "outputs": [],
   "source": [
    "# import + consolidate San Diego RIPA data into one massive dataframe (df)"
   ]
  },
  {
   "cell_type": "code",
   "execution_count": 1,
   "id": "607bfaaf",
   "metadata": {},
   "outputs": [],
   "source": [
    "import pandas as pd\n",
    "import numpy as np\n",
    "import missingno as msno\n",
    "import matplotlib.pyplot as plt\n",
    "import seaborn as sns\n",
    "import datetime\n",
    "from datetime import date\n",
    "import warnings\n",
    "warnings.filterwarnings(\"ignore\")"
   ]
  },
  {
   "cell_type": "code",
   "execution_count": 2,
   "id": "16db1b8d",
   "metadata": {},
   "outputs": [],
   "source": [
    "from loadRIPA import *\n",
    "df = loadRIPA()\n",
    "df['year-month'] = pd.to_datetime(df.date_stop, format='%Y-%m-%d').dt.strftime(\"%Y-%m\")"
   ]
  },
  {
   "cell_type": "code",
   "execution_count": 3,
   "id": "d3f2a66f",
   "metadata": {},
   "outputs": [
    {
     "data": {
      "text/plain": [
       "(Timestamp('2018-07-01 00:00:00'), Timestamp('2022-12-31 00:00:00'))"
      ]
     },
     "execution_count": 3,
     "metadata": {},
     "output_type": "execute_result"
    }
   ],
   "source": [
    "pd.to_datetime(df['date_stop']).min(), pd.to_datetime(df['date_stop']).max()"
   ]
  },
  {
   "cell_type": "code",
   "execution_count": 4,
   "id": "51279155",
   "metadata": {
    "scrolled": true
   },
   "outputs": [
    {
     "data": {
      "text/html": [
       "<div>\n",
       "<style scoped>\n",
       "    .dataframe tbody tr th:only-of-type {\n",
       "        vertical-align: middle;\n",
       "    }\n",
       "\n",
       "    .dataframe tbody tr th {\n",
       "        vertical-align: top;\n",
       "    }\n",
       "\n",
       "    .dataframe thead th {\n",
       "        text-align: right;\n",
       "    }\n",
       "</style>\n",
       "<table border=\"1\" class=\"dataframe\">\n",
       "  <thead>\n",
       "    <tr style=\"text-align: right;\">\n",
       "      <th></th>\n",
       "      <th>stop_id</th>\n",
       "      <th>pid</th>\n",
       "      <th>disability</th>\n",
       "      <th>gender</th>\n",
       "      <th>race</th>\n",
       "      <th>resultkey</th>\n",
       "      <th>result</th>\n",
       "      <th>code</th>\n",
       "      <th>resulttext</th>\n",
       "      <th>reason_for_stop</th>\n",
       "      <th>...</th>\n",
       "      <th>gender_nonconforming</th>\n",
       "      <th>gend</th>\n",
       "      <th>gend_nc</th>\n",
       "      <th>perceived_lgbt</th>\n",
       "      <th>basis_for_search</th>\n",
       "      <th>basis_for_search_explanation</th>\n",
       "      <th>contraband</th>\n",
       "      <th>basisforpropertyseizure</th>\n",
       "      <th>type_of_property_seized</th>\n",
       "      <th>year-month</th>\n",
       "    </tr>\n",
       "  </thead>\n",
       "  <tbody>\n",
       "    <tr>\n",
       "      <th>0</th>\n",
       "      <td>10000</td>\n",
       "      <td>1</td>\n",
       "      <td>None</td>\n",
       "      <td>Male</td>\n",
       "      <td>White</td>\n",
       "      <td>3</td>\n",
       "      <td>Citation for infraction</td>\n",
       "      <td>65002.0</td>\n",
       "      <td>65002 ZZ - LOCAL ORDINANCE VIOL (I) 65002</td>\n",
       "      <td>Traffic Violation</td>\n",
       "      <td>...</td>\n",
       "      <td>0</td>\n",
       "      <td>1</td>\n",
       "      <td>NaN</td>\n",
       "      <td>No</td>\n",
       "      <td>NaN</td>\n",
       "      <td>NaN</td>\n",
       "      <td>None</td>\n",
       "      <td></td>\n",
       "      <td></td>\n",
       "      <td>2018-07</td>\n",
       "    </tr>\n",
       "    <tr>\n",
       "      <th>1</th>\n",
       "      <td>100000</td>\n",
       "      <td>1</td>\n",
       "      <td>None</td>\n",
       "      <td>Male</td>\n",
       "      <td>White</td>\n",
       "      <td>7</td>\n",
       "      <td>Field interview card completed</td>\n",
       "      <td>NaN</td>\n",
       "      <td>NaN</td>\n",
       "      <td>Reasonable Suspicion</td>\n",
       "      <td>...</td>\n",
       "      <td>0</td>\n",
       "      <td>1</td>\n",
       "      <td>NaN</td>\n",
       "      <td>No</td>\n",
       "      <td>NaN</td>\n",
       "      <td>NaN</td>\n",
       "      <td>None</td>\n",
       "      <td></td>\n",
       "      <td></td>\n",
       "      <td>2019-02</td>\n",
       "    </tr>\n",
       "    <tr>\n",
       "      <th>2</th>\n",
       "      <td>100000</td>\n",
       "      <td>1</td>\n",
       "      <td>None</td>\n",
       "      <td>Male</td>\n",
       "      <td>White</td>\n",
       "      <td>7</td>\n",
       "      <td>Field interview card completed</td>\n",
       "      <td>NaN</td>\n",
       "      <td>NaN</td>\n",
       "      <td>Reasonable Suspicion</td>\n",
       "      <td>...</td>\n",
       "      <td>0</td>\n",
       "      <td>1</td>\n",
       "      <td>NaN</td>\n",
       "      <td>No</td>\n",
       "      <td>NaN</td>\n",
       "      <td>NaN</td>\n",
       "      <td>None</td>\n",
       "      <td></td>\n",
       "      <td></td>\n",
       "      <td>2019-02</td>\n",
       "    </tr>\n",
       "    <tr>\n",
       "      <th>3</th>\n",
       "      <td>100000</td>\n",
       "      <td>2</td>\n",
       "      <td>None</td>\n",
       "      <td>Male</td>\n",
       "      <td>White</td>\n",
       "      <td>7</td>\n",
       "      <td>Field interview card completed</td>\n",
       "      <td>NaN</td>\n",
       "      <td>NaN</td>\n",
       "      <td>Reasonable Suspicion</td>\n",
       "      <td>...</td>\n",
       "      <td>0</td>\n",
       "      <td>1</td>\n",
       "      <td>NaN</td>\n",
       "      <td>No</td>\n",
       "      <td>NaN</td>\n",
       "      <td>NaN</td>\n",
       "      <td>None</td>\n",
       "      <td></td>\n",
       "      <td></td>\n",
       "      <td>2019-02</td>\n",
       "    </tr>\n",
       "    <tr>\n",
       "      <th>4</th>\n",
       "      <td>100000</td>\n",
       "      <td>2</td>\n",
       "      <td>None</td>\n",
       "      <td>Male</td>\n",
       "      <td>White</td>\n",
       "      <td>7</td>\n",
       "      <td>Field interview card completed</td>\n",
       "      <td>NaN</td>\n",
       "      <td>NaN</td>\n",
       "      <td>Reasonable Suspicion</td>\n",
       "      <td>...</td>\n",
       "      <td>0</td>\n",
       "      <td>1</td>\n",
       "      <td>NaN</td>\n",
       "      <td>No</td>\n",
       "      <td>NaN</td>\n",
       "      <td>NaN</td>\n",
       "      <td>None</td>\n",
       "      <td></td>\n",
       "      <td></td>\n",
       "      <td>2019-02</td>\n",
       "    </tr>\n",
       "  </tbody>\n",
       "</table>\n",
       "<p>5 rows × 47 columns</p>\n",
       "</div>"
      ],
      "text/plain": [
       "   stop_id  pid disability gender   race  resultkey  \\\n",
       "0    10000    1       None   Male  White          3   \n",
       "1   100000    1       None   Male  White          7   \n",
       "2   100000    1       None   Male  White          7   \n",
       "3   100000    2       None   Male  White          7   \n",
       "4   100000    2       None   Male  White          7   \n",
       "\n",
       "                           result     code  \\\n",
       "0         Citation for infraction  65002.0   \n",
       "1  Field interview card completed      NaN   \n",
       "2  Field interview card completed      NaN   \n",
       "3  Field interview card completed      NaN   \n",
       "4  Field interview card completed      NaN   \n",
       "\n",
       "                                  resulttext       reason_for_stop  ...  \\\n",
       "0  65002 ZZ - LOCAL ORDINANCE VIOL (I) 65002     Traffic Violation  ...   \n",
       "1                                        NaN  Reasonable Suspicion  ...   \n",
       "2                                        NaN  Reasonable Suspicion  ...   \n",
       "3                                        NaN  Reasonable Suspicion  ...   \n",
       "4                                        NaN  Reasonable Suspicion  ...   \n",
       "\n",
       "   gender_nonconforming gend gend_nc perceived_lgbt basis_for_search  \\\n",
       "0                     0    1     NaN             No              NaN   \n",
       "1                     0    1     NaN             No              NaN   \n",
       "2                     0    1     NaN             No              NaN   \n",
       "3                     0    1     NaN             No              NaN   \n",
       "4                     0    1     NaN             No              NaN   \n",
       "\n",
       "  basis_for_search_explanation  contraband basisforpropertyseizure  \\\n",
       "0                          NaN        None                           \n",
       "1                          NaN        None                           \n",
       "2                          NaN        None                           \n",
       "3                          NaN        None                           \n",
       "4                          NaN        None                           \n",
       "\n",
       "  type_of_property_seized  year-month  \n",
       "0                             2018-07  \n",
       "1                             2019-02  \n",
       "2                             2019-02  \n",
       "3                             2019-02  \n",
       "4                             2019-02  \n",
       "\n",
       "[5 rows x 47 columns]"
      ]
     },
     "execution_count": 4,
     "metadata": {},
     "output_type": "execute_result"
    }
   ],
   "source": [
    "df.head()"
   ]
  },
  {
   "cell_type": "markdown",
   "id": "06e6ffa1",
   "metadata": {},
   "source": [
    "After storing the dataframe, we want to check how much data is missing in each column."
   ]
  },
  {
   "cell_type": "code",
   "execution_count": 5,
   "id": "9321259c",
   "metadata": {},
   "outputs": [],
   "source": [
    "# missingno package allows for visualization of missing data within df"
   ]
  },
  {
   "cell_type": "code",
   "execution_count": 6,
   "id": "17f2adde",
   "metadata": {},
   "outputs": [
    {
     "data": {
      "text/plain": [
       "<AxesSubplot:>"
      ]
     },
     "execution_count": 6,
     "metadata": {},
     "output_type": "execute_result"
    },
    {
     "data": {
      "image/png": "[encoded data removed]",
      "text/plain": [
       "<Figure size 1800x720 with 3 Axes>"
      ]
     },
     "metadata": {
      "needs_background": "light"
     },
     "output_type": "display_data"
    }
   ],
   "source": [
    "msno.bar(df)"
   ]
  },
  {
   "cell_type": "markdown",
   "id": "0dba5102",
   "metadata": {},
   "source": [
    "By above, we see that there are 925829 traffic stop cases in City of San Diego from July 1st, 2018 to September 30th, 2022. There is no missing information in most columns, however, we notice that there are some address information element missing which might affect our following geospatial analysis on the potential homlessness stops. In addition, there are around 35% information missing in `code` and `resulttext`, the code and description of \"specific violation if stop outcome is warning, citation or custodial arrest\", which may lead to less extraction on homeless-related data. We will then look for the homelessness-related data from `reason_for_stop_explanation`."
   ]
  },
  {
   "cell_type": "markdown",
   "id": "543d06c6",
   "metadata": {},
   "source": [
    "### Automated Keyword Parsing System <a id='keyword'></a>\n",
    "\n",
    "In this section, I am going to filter stops that are likely to be unhoused individuals by using keywords and most common code violations that are potentially homelessness-related in `resulttext`. We will first check the top common stop reason and result and then get the homeless-related keywords from the stop explanation. By using the keywords, I can extract the homelessness-related traffic stops."
   ]
  },
  {
   "cell_type": "code",
   "execution_count": null,
   "id": "8dabde04",
   "metadata": {},
   "outputs": [],
   "source": [
    "# goal: finding out the racial distribution of stops that were (likely to be) carried out on an unhoused person \n",
    "# step 1: filtering out stops that were likely to be unhoused individuals\n",
    "# create a new dataframe grouping by resulttext (penal code) to find \n",
    "# most common code violations that are potentially homelessness-related"
   ]
  },
  {
   "cell_type": "markdown",
   "id": "a5e8e31b",
   "metadata": {},
   "source": [
    "First, we need to check what is the most frequent penal code that cited in the reason to stop and the stop results."
   ]
  },
  {
   "cell_type": "code",
   "execution_count": null,
   "id": "7724bdd1",
   "metadata": {},
   "outputs": [],
   "source": [
    "# create a temporary dataframe to check the frequency of top 15 penal code in the stop reason\n",
    "reason_df = df.groupby(['reason_for_stop_code_text'], as_index=False).size()\n",
    "reason_df = reason_df.sort_values(['size'], ascending=False).reset_index(drop=True)\n",
    "reason_df[:15]"
   ]
  },
  {
   "cell_type": "code",
   "execution_count": null,
   "id": "6098fb5f",
   "metadata": {},
   "outputs": [],
   "source": [
    "# sample plot of the 10 most common reason \n",
    "temp = reason_df.head(10)\n",
    "temp.plot.barh(x=\"reason_for_stop_code_text\", y=[\"size\"])\n",
    "plt.show()"
   ]
  },
  {
   "cell_type": "code",
   "execution_count": null,
   "id": "b8e54905",
   "metadata": {},
   "outputs": [],
   "source": [
    "# create a temporary dataframe to check the frequency of top 15 penal code in the stop result\n",
    "resulttext_df = df.groupby(['resulttext'], as_index=False).size()\n",
    "resulttext_df = resulttext_df.sort_values(['size'], ascending=False).reset_index(drop=True)\n",
    "resulttext_df[:15]"
   ]
  },
  {
   "cell_type": "code",
   "execution_count": null,
   "id": "185c04ea",
   "metadata": {},
   "outputs": [],
   "source": [
    "# sample plot of the 10 most common resulttexts \n",
    "temp = resulttext_df.head(10)\n",
    "temp.plot.barh(x=\"resulttext\", y=[\"size\"])\n",
    "plt.show()"
   ]
  },
  {
   "cell_type": "markdown",
   "id": "a50a00b4",
   "metadata": {},
   "source": [
    "According to Defense Attorney Coleen Cusack, there are 4 primary penal codes that are frequently used by officer involved with homelessness: \n",
    "- San Diego Municipal Code 86.0137(f)  Vehicle Habitation,\n",
    "- San Diego Municipal Code 54.0110  Encroachment,\n",
    "- San Diego Municipal Code 63.0102(b)(12)  Overnight Camping,\n",
    "- Penal Code 647(e)  Illegal Lodging.\n",
    "\n",
    "**Local violation** is the most frequent penal code exist in the reason to stop and stop results, however, police officer can include this penal code with various violations of local and city ordinances, such as noise violations, illegal burning, illegal camping, etc. **Trespassing** is the 2nd most common stop reason and **Lodging without consent** is the 4th. It is possible to use some of the columns of the data and some human judgement to figure out whether a ticket for trespass is one against an unhoused person or not. On the other hand, **Trespassing** is the 10th most common stop outcome and **Lodging without consent** is the 15th."
   ]
  },
  {
   "cell_type": "markdown",
   "id": "a2a2ba54",
   "metadata": {},
   "source": [
    "In order to come up with a set of keywords that >90% of the time result in picking violations that seem likely to be given to unhoused people, we need to manually check the stop reason for the trespassing and illegal lodging violation result."
   ]
  },
  {
   "cell_type": "code",
   "execution_count": null,
   "id": "4eb94b0b",
   "metadata": {},
   "outputs": [],
   "source": [
    "# trespassoing\n",
    "df.query('code == 32022')[['reason_for_stop_explanation']].drop_duplicates().iloc[:20]"
   ]
  },
  {
   "cell_type": "code",
   "execution_count": null,
   "id": "a5a59d81",
   "metadata": {},
   "outputs": [],
   "source": [
    "# illegal lodging\n",
    "df.query('code == 32111')[['reason_for_stop_explanation']].drop_duplicates().iloc[:20]"
   ]
  },
  {
   "cell_type": "markdown",
   "id": "7e24c9d0",
   "metadata": {},
   "source": [
    "After scrolling through all the explanations, we now know some keywords and penal code that refer to unhoused people so that we can using these keywords to extract most of the homeless-related traffic stop from the RIPA data."
   ]
  },
  {
   "cell_type": "code",
   "execution_count": 7,
   "id": "ee1d8d06",
   "metadata": {},
   "outputs": [
    {
     "name": "stdout",
     "output_type": "stream",
     "text": [
      "homelessness-related stops: 103613\n",
      "percentage of homelessness-related stops: 0.10380035964916674\n",
      "Specifically, 56020 stops covering 76194 persons and 103613 charges\n"
     ]
    }
   ],
   "source": [
    "# create a new df filtering out only those rows which contain the homeless-related penal code or keywords\n",
    "\n",
    "keywords =  '86.0137\\(f\\)|86.0137 \\(f\\)|86.0137 f|habitation|habitating|inhabit|habitaion|'\n",
    "keywords = keywords + '647e|647\\(e\\)|647 e|647 \\(e\\)|lodging|lodged|'\n",
    "keywords = keywords + 'encroachment|54.0110|encroach|incroach|encroch|incroch|'\n",
    "keywords = keywords + '63.0102\\(b\\)\\(12\\)|63.0102 b 12|63.0102b12|63.0102 \\(b\\) \\(12\\)|camp|encampment|transient|'\n",
    "keywords = keywords + 'sleep|tent|property|transient|bags|homeless'\n",
    "\n",
    "these = df['reason_for_stop_explanation'].str.lower().str.contains(keywords).fillna(False)\n",
    "\n",
    "result_df = df.loc[these]\n",
    "\n",
    "print(\"homelessness-related stops:\", result_df.shape[0])\n",
    "print(\"percentage of homelessness-related stops:\", result_df.shape[0] / df.shape[0])\n",
    "print('Specifically,', '{} stops covering {} persons and {} charges'.format( \n",
    "          result_df.loc[these,'stop_id'].unique().shape[0], \n",
    "          result_df.loc[these,['stop_id','pid']].drop_duplicates().shape[0],\n",
    "          these.sum()\n",
    "      ) \n",
    ")"
   ]
  },
  {
   "cell_type": "markdown",
   "id": "d5438be0",
   "metadata": {},
   "source": [
    "After the extraction, there are 97283 total potentially related to homelessness charges involved with 52801 stops and 71645 persons, which is **10.51%** of the entire traffic stop data. Again, there is no guarantee that we are not missing other homelessness related charges that slipped through the keyword search. However, even if 1/3 or 1/2 of these are NOT homeless-related, this still is one of the biggest single source of stops that SDPD has. The biggest named stop violation source Failure To Stop  Vehicle is at 31598. This validates the original intent of starting our investigation with the homeless population by arguing that by intentionally targeting the homeless, law enforcement is intentionally targeting minorities."
   ]
  },
  {
   "cell_type": "markdown",
   "id": "6247610d",
   "metadata": {},
   "source": [
    "### Exploratory Data Analysis (EDA) <a id='eda'></a>\n",
    "\n",
    "In this section, I will have a preliminary data analysis on homelessness-related stop in racial and action distribution in homless-related offenses."
   ]
  },
  {
   "cell_type": "markdown",
   "id": "84620989",
   "metadata": {},
   "source": [
    "To begin with, knowing the overall racial breakdown in the homeless-related stops can be useful to make a rough interpretation on the existence of racial disparity in the homeless enforcement."
   ]
  },
  {
   "cell_type": "code",
   "execution_count": 8,
   "id": "26630094",
   "metadata": {},
   "outputs": [],
   "source": [
    "# breaking down + graphing racial distribution of these select set of stops\n",
    "race_df =  result_df.groupby(['race'], as_index=False).size()\n",
    "race_df['proportion'] = race_df['size'] / race_df['size'].sum() * 100"
   ]
  },
  {
   "cell_type": "code",
   "execution_count": 9,
   "id": "b7cf3281",
   "metadata": {},
   "outputs": [
    {
     "data": {
      "text/html": [
       "<div>\n",
       "<style scoped>\n",
       "    .dataframe tbody tr th:only-of-type {\n",
       "        vertical-align: middle;\n",
       "    }\n",
       "\n",
       "    .dataframe tbody tr th {\n",
       "        vertical-align: top;\n",
       "    }\n",
       "\n",
       "    .dataframe thead th {\n",
       "        text-align: right;\n",
       "    }\n",
       "</style>\n",
       "<table border=\"1\" class=\"dataframe\">\n",
       "  <thead>\n",
       "    <tr style=\"text-align: right;\">\n",
       "      <th></th>\n",
       "      <th>race</th>\n",
       "      <th>size</th>\n",
       "      <th>proportion</th>\n",
       "    </tr>\n",
       "  </thead>\n",
       "  <tbody>\n",
       "    <tr>\n",
       "      <th>0</th>\n",
       "      <td>Asian</td>\n",
       "      <td>2044</td>\n",
       "      <td>1.972725</td>\n",
       "    </tr>\n",
       "    <tr>\n",
       "      <th>1</th>\n",
       "      <td>Black/African American</td>\n",
       "      <td>24517</td>\n",
       "      <td>23.662089</td>\n",
       "    </tr>\n",
       "    <tr>\n",
       "      <th>2</th>\n",
       "      <td>Hispanic/Latino/a</td>\n",
       "      <td>21564</td>\n",
       "      <td>20.812060</td>\n",
       "    </tr>\n",
       "    <tr>\n",
       "      <th>3</th>\n",
       "      <td>Middle Eastern or South Asian</td>\n",
       "      <td>764</td>\n",
       "      <td>0.737359</td>\n",
       "    </tr>\n",
       "    <tr>\n",
       "      <th>4</th>\n",
       "      <td>Native American</td>\n",
       "      <td>401</td>\n",
       "      <td>0.387017</td>\n",
       "    </tr>\n",
       "    <tr>\n",
       "      <th>5</th>\n",
       "      <td>Pacific Islander</td>\n",
       "      <td>843</td>\n",
       "      <td>0.813604</td>\n",
       "    </tr>\n",
       "    <tr>\n",
       "      <th>6</th>\n",
       "      <td>White</td>\n",
       "      <td>53480</td>\n",
       "      <td>51.615145</td>\n",
       "    </tr>\n",
       "  </tbody>\n",
       "</table>\n",
       "</div>"
      ],
      "text/plain": [
       "                            race   size  proportion\n",
       "0                          Asian   2044    1.972725\n",
       "1         Black/African American  24517   23.662089\n",
       "2              Hispanic/Latino/a  21564   20.812060\n",
       "3  Middle Eastern or South Asian    764    0.737359\n",
       "4                Native American    401    0.387017\n",
       "5               Pacific Islander    843    0.813604\n",
       "6                          White  53480   51.615145"
      ]
     },
     "execution_count": 9,
     "metadata": {},
     "output_type": "execute_result"
    }
   ],
   "source": [
    "# proportionally, African-Americans make up 24% of these results\n",
    "race_df"
   ]
  },
  {
   "cell_type": "code",
   "execution_count": 10,
   "id": "2a60c138",
   "metadata": {},
   "outputs": [
    {
     "data": {
      "text/html": [
       "<div>\n",
       "<style scoped>\n",
       "    .dataframe tbody tr th:only-of-type {\n",
       "        vertical-align: middle;\n",
       "    }\n",
       "\n",
       "    .dataframe tbody tr th {\n",
       "        vertical-align: top;\n",
       "    }\n",
       "\n",
       "    .dataframe thead th {\n",
       "        text-align: right;\n",
       "    }\n",
       "</style>\n",
       "<table border=\"1\" class=\"dataframe\">\n",
       "  <thead>\n",
       "    <tr style=\"text-align: right;\">\n",
       "      <th></th>\n",
       "      <th>Race</th>\n",
       "      <th>Homelessness Stops Count</th>\n",
       "      <th>Homelessness Stops Proportion (%)</th>\n",
       "      <th>County Demographics (%)</th>\n",
       "      <th>County Homeless Population (%)</th>\n",
       "    </tr>\n",
       "  </thead>\n",
       "  <tbody>\n",
       "    <tr>\n",
       "      <th>0</th>\n",
       "      <td>Asian</td>\n",
       "      <td>2044</td>\n",
       "      <td>1.972725</td>\n",
       "      <td>17.3</td>\n",
       "      <td>2.0</td>\n",
       "    </tr>\n",
       "    <tr>\n",
       "      <th>1</th>\n",
       "      <td>Black/African American</td>\n",
       "      <td>24517</td>\n",
       "      <td>23.662089</td>\n",
       "      <td>6.1</td>\n",
       "      <td>24.0</td>\n",
       "    </tr>\n",
       "    <tr>\n",
       "      <th>2</th>\n",
       "      <td>Hispanic/Latino/a</td>\n",
       "      <td>21564</td>\n",
       "      <td>20.812060</td>\n",
       "      <td>30.1</td>\n",
       "      <td>NaN</td>\n",
       "    </tr>\n",
       "    <tr>\n",
       "      <th>3</th>\n",
       "      <td>Middle Eastern or South Asian</td>\n",
       "      <td>764</td>\n",
       "      <td>0.737359</td>\n",
       "      <td>NaN</td>\n",
       "      <td>NaN</td>\n",
       "    </tr>\n",
       "    <tr>\n",
       "      <th>4</th>\n",
       "      <td>Native American</td>\n",
       "      <td>401</td>\n",
       "      <td>0.387017</td>\n",
       "      <td>0.5</td>\n",
       "      <td>3.0</td>\n",
       "    </tr>\n",
       "    <tr>\n",
       "      <th>5</th>\n",
       "      <td>Pacific Islander</td>\n",
       "      <td>843</td>\n",
       "      <td>0.813604</td>\n",
       "      <td>0.4</td>\n",
       "      <td>2.0</td>\n",
       "    </tr>\n",
       "    <tr>\n",
       "      <th>6</th>\n",
       "      <td>White</td>\n",
       "      <td>53480</td>\n",
       "      <td>51.615145</td>\n",
       "      <td>62.0</td>\n",
       "      <td>66.0</td>\n",
       "    </tr>\n",
       "  </tbody>\n",
       "</table>\n",
       "</div>"
      ],
      "text/plain": [
       "                            Race  Homelessness Stops Count  \\\n",
       "0                          Asian                      2044   \n",
       "1         Black/African American                     24517   \n",
       "2              Hispanic/Latino/a                     21564   \n",
       "3  Middle Eastern or South Asian                       764   \n",
       "4                Native American                       401   \n",
       "5               Pacific Islander                       843   \n",
       "6                          White                     53480   \n",
       "\n",
       "   Homelessness Stops Proportion (%)  County Demographics (%)  \\\n",
       "0                           1.972725                     17.3   \n",
       "1                          23.662089                      6.1   \n",
       "2                          20.812060                     30.1   \n",
       "3                           0.737359                      NaN   \n",
       "4                           0.387017                      0.5   \n",
       "5                           0.813604                      0.4   \n",
       "6                          51.615145                     62.0   \n",
       "\n",
       "   County Homeless Population (%)  \n",
       "0                             2.0  \n",
       "1                            24.0  \n",
       "2                             NaN  \n",
       "3                             NaN  \n",
       "4                             3.0  \n",
       "5                             2.0  \n",
       "6                            66.0  "
      ]
     },
     "execution_count": 10,
     "metadata": {},
     "output_type": "execute_result"
    }
   ],
   "source": [
    "race_df['County Demographics (%)'] = [17.3, 6.1, 30.1, None, 0.5, 0.4, 62]\n",
    "race_df['County Homeless Population (%)'] = [2, 24, None, None, 3, 2, 66]\n",
    "race_df.rename(columns={'race':'Race', 'size': 'Homelessness Stops Count', 'proportion': 'Homelessness Stops Proportion (%)'})"
   ]
  },
  {
   "cell_type": "code",
   "execution_count": 11,
   "id": "0c44197d",
   "metadata": {},
   "outputs": [
    {
     "data": {
      "image/png": "[encoded data removed]",
      "text/plain": [
       "<Figure size 432x288 with 1 Axes>"
      ]
     },
     "metadata": {
      "needs_background": "light"
     },
     "output_type": "display_data"
    }
   ],
   "source": [
    "race_df.plot.barh(x=\"race\", y=[\"size\"])\n",
    "plt.show()"
   ]
  },
  {
   "cell_type": "markdown",
   "id": "4803ac45",
   "metadata": {},
   "source": [
    "The above chart and graph represent the racial distribution of the homelessness-related stops. We see that African Americans, who make up under 5% of the total population in San Diego County, made up 24% of these results that match to the racial breakdown of the region’s unhoused population [[3](#ref3)]. The 51% Whites figure is less than the total San Diego County population 62% figure and unhoused population 66% figure. This leads us not to make a definite statement that there exists a racial disparity in traffic stop enforcement in homlessness."
   ]
  },
  {
   "cell_type": "markdown",
   "id": "7add6888",
   "metadata": {},
   "source": [
    "Furthermore, visualizing the distribution of homeless-related stops in month helps to figure out the time pattern of enforcement on the unhoused people."
   ]
  },
  {
   "cell_type": "code",
   "execution_count": 12,
   "id": "4847d609",
   "metadata": {},
   "outputs": [
    {
     "data": {
      "image/png": "[encoded data removed]",
      "text/plain": [
       "<Figure size 648x432 with 1 Axes>"
      ]
     },
     "metadata": {
      "needs_background": "light"
     },
     "output_type": "display_data"
    }
   ],
   "source": [
    "plt.rcParams[\"figure.figsize\"] = (9, 6)\n",
    "plt.rcParams.update({'font.size': 10})\n",
    "g  = sns.histplot(data = result_df, x = 'year-month')#, stat='density', multiple='dodge', common_norm=False);\n",
    "g.set_xticklabels(sorted(result_df['year-month'].unique()), rotation=40, fontsize=8)\n",
    "g.set_xlabel('');\n",
    "g.set_title('Homless-related Charges');"
   ]
  },
  {
   "cell_type": "markdown",
   "id": "ac2f93b3",
   "metadata": {},
   "source": [
    "This graph shows the temporal changes in all homelessness-related charges. These kinds of graphs show the months along the bottom, and “how many stops” for that month on the vertical axis. We noticed that there exists peaks that are happened around May each year since July 2018. In addition, San Diego police have issued less tickets during the coronavirus pandemic, however, homelessness ticketing is strongly on the rise again this year."
   ]
  },
  {
   "cell_type": "markdown",
   "id": "2d7136a9",
   "metadata": {},
   "source": [
    "We should seperately analyze stops with and without actions since stops without action are potential harrasment/policing predjudice."
   ]
  },
  {
   "cell_type": "code",
   "execution_count": 13,
   "id": "32ac99e2",
   "metadata": {},
   "outputs": [],
   "source": [
    "act = result_df\n",
    "temp = act['resulttext'].str.split().apply( lambda x: x[-2][-2] if type(x)==list else 'X')\n",
    "trans = {'M':'misdemeanor', 'X':'no action', 'I':'infraction', 'F':'felony'}\n",
    "act['type'] = temp.apply( lambda x: trans[x])\n",
    "\n",
    "# do we care about no action? probably not.  \n",
    "act = act.query('type != \"no action\"')"
   ]
  },
  {
   "cell_type": "code",
   "execution_count": 14,
   "id": "320b78dc",
   "metadata": {},
   "outputs": [
    {
     "data": {
      "image/png": "[encoded data removed]",
      "text/plain": [
       "<Figure size 648x432 with 1 Axes>"
      ]
     },
     "metadata": {
      "needs_background": "light"
     },
     "output_type": "display_data"
    }
   ],
   "source": [
    "g  = sns.histplot(data=act, hue='type', hue_order=['felony','misdemeanor','infraction'], x='year-month', multiple='stack')\n",
    "g.set_xticklabels(sorted(act['year-month'].unique()), rotation=40, fontsize=8)\n",
    "g.set_xlabel('');\n",
    "g.set_title('Homless-related Tickets (w/ actions)');"
   ]
  },
  {
   "cell_type": "markdown",
   "id": "e04ba81f",
   "metadata": {},
   "source": [
    "Compared to all homeless-related stops, the temporal trend in stops result in action is very similar to the overall stop trend."
   ]
  },
  {
   "cell_type": "code",
   "execution_count": 15,
   "id": "b6075952",
   "metadata": {},
   "outputs": [
    {
     "data": {
      "text/plain": [
       "<AxesSubplot:xlabel='year-month'>"
      ]
     },
     "execution_count": 15,
     "metadata": {},
     "output_type": "execute_result"
    },
    {
     "data": {
      "image/png": "[encoded data removed]",
      "text/plain": [
       "<Figure size 432x288 with 1 Axes>"
      ]
     },
     "metadata": {
      "needs_background": "light"
     },
     "output_type": "display_data"
    }
   ],
   "source": [
    "plt.rcParams[\"figure.figsize\"] = (6, 4)\n",
    "noact = result_df.query('type == \"no action\"')\n",
    "act_stops_month = act.groupby(['year-month','stop_id']).count().reset_index().groupby('year-month').count()['stop_id'].rename('actions taken')\n",
    "noact_stops_month = noact.groupby(['year-month','stop_id']).count().reset_index().groupby('year-month').count()['stop_id'].rename('noactions taken')\n",
    "noact_stops_month.to_frame().join(act_stops_month).plot()"
   ]
  },
  {
   "cell_type": "markdown",
   "id": "853bcf22",
   "metadata": {},
   "source": [
    "This graph indicates the difference of homeless-related stops with and without actions in temporal changes. The stop result in no actions occurs more than in actions. Moreover, the shape of both distribution results looks similar."
   ]
  },
  {
   "cell_type": "markdown",
   "id": "cc4bf8a1",
   "metadata": {},
   "source": [
    "#### Outcome Test\n",
    "\n",
    "We are going to explore whether or not there exists a racial disparity in homeless-related stops by using the outcome test to see which violation expresses an unusual result."
   ]
  },
  {
   "cell_type": "code",
   "execution_count": 16,
   "id": "d68684e8",
   "metadata": {},
   "outputs": [],
   "source": [
    "# First, we categorized each stop outcome into 3 groups: arrested, citation, and warning\n",
    "trans = {'Citation for infraction':'Citation', 'In-field cite and release':'Citation', \n",
    "         'Custodial Arrest without warrant':'Arrested', 'Contacted U.S. Department of Homeland Security':'Arrested',\n",
    "         'Psychiatric hold':'Arrested', 'Custodial Arrest pursuant to outstanding warrant':'Arrested', \n",
    "         'Warning (verbal or written)':'Warning', 'Field interview card completed':'No Action', 'No Action':'No Action',\n",
    "         'Noncriminal transport or caretaking transport':'Transported',  \n",
    "         'Contacted parent/legal guardian or other person responsible for the minor':'Parents Contacted',\n",
    "         'Referral to school administrator':'Referred to school', \n",
    "         'Referral to school counselor or other support staff':'Referred to school'}"
   ]
  },
  {
   "cell_type": "markdown",
   "id": "8bf220ab",
   "metadata": {},
   "source": [
    "**Homeless-related Offense**"
   ]
  },
  {
   "cell_type": "code",
   "execution_count": 17,
   "id": "4178520e",
   "metadata": {},
   "outputs": [],
   "source": [
    "###reordered from least extreme to most extreme"
   ]
  },
  {
   "cell_type": "code",
   "execution_count": 18,
   "id": "5868d545",
   "metadata": {},
   "outputs": [
    {
     "data": {
      "text/html": [
       "<div>\n",
       "<style scoped>\n",
       "    .dataframe tbody tr th:only-of-type {\n",
       "        vertical-align: middle;\n",
       "    }\n",
       "\n",
       "    .dataframe tbody tr th {\n",
       "        vertical-align: top;\n",
       "    }\n",
       "\n",
       "    .dataframe thead th {\n",
       "        text-align: right;\n",
       "    }\n",
       "</style>\n",
       "<table border=\"1\" class=\"dataframe\">\n",
       "  <thead>\n",
       "    <tr style=\"text-align: right;\">\n",
       "      <th></th>\n",
       "      <th>total</th>\n",
       "      <th>(percent, Asian)</th>\n",
       "      <th>(percent, Black/African American)</th>\n",
       "      <th>(percent, Hispanic/Latino/a)</th>\n",
       "      <th>(percent, Middle Eastern or South Asian)</th>\n",
       "      <th>(percent, Native American)</th>\n",
       "      <th>(percent, Pacific Islander)</th>\n",
       "      <th>(percent, White)</th>\n",
       "    </tr>\n",
       "    <tr>\n",
       "      <th>action</th>\n",
       "      <th></th>\n",
       "      <th></th>\n",
       "      <th></th>\n",
       "      <th></th>\n",
       "      <th></th>\n",
       "      <th></th>\n",
       "      <th></th>\n",
       "      <th></th>\n",
       "    </tr>\n",
       "  </thead>\n",
       "  <tbody>\n",
       "    <tr>\n",
       "      <th>No Action</th>\n",
       "      <td>42700</td>\n",
       "      <td>1</td>\n",
       "      <td>25</td>\n",
       "      <td>20</td>\n",
       "      <td>0</td>\n",
       "      <td>0</td>\n",
       "      <td>0</td>\n",
       "      <td>50</td>\n",
       "    </tr>\n",
       "    <tr>\n",
       "      <th>Warning</th>\n",
       "      <td>12288</td>\n",
       "      <td>2</td>\n",
       "      <td>23</td>\n",
       "      <td>18</td>\n",
       "      <td>0</td>\n",
       "      <td>0</td>\n",
       "      <td>0</td>\n",
       "      <td>53</td>\n",
       "    </tr>\n",
       "    <tr>\n",
       "      <th>Citation</th>\n",
       "      <td>11069</td>\n",
       "      <td>2</td>\n",
       "      <td>25</td>\n",
       "      <td>19</td>\n",
       "      <td>0</td>\n",
       "      <td>0</td>\n",
       "      <td>0</td>\n",
       "      <td>50</td>\n",
       "    </tr>\n",
       "    <tr>\n",
       "      <th>Arrested</th>\n",
       "      <td>9265</td>\n",
       "      <td>1</td>\n",
       "      <td>19</td>\n",
       "      <td>23</td>\n",
       "      <td>0</td>\n",
       "      <td>0</td>\n",
       "      <td>1</td>\n",
       "      <td>53</td>\n",
       "    </tr>\n",
       "  </tbody>\n",
       "</table>\n",
       "</div>"
      ],
      "text/plain": [
       "           total  (percent, Asian)  (percent, Black/African American)  \\\n",
       "action                                                                  \n",
       "No Action  42700                 1                                 25   \n",
       "Warning    12288                 2                                 23   \n",
       "Citation   11069                 2                                 25   \n",
       "Arrested    9265                 1                                 19   \n",
       "\n",
       "           (percent, Hispanic/Latino/a)  \\\n",
       "action                                    \n",
       "No Action                            20   \n",
       "Warning                              18   \n",
       "Citation                             19   \n",
       "Arrested                             23   \n",
       "\n",
       "           (percent, Middle Eastern or South Asian)  \\\n",
       "action                                                \n",
       "No Action                                         0   \n",
       "Warning                                           0   \n",
       "Citation                                          0   \n",
       "Arrested                                          0   \n",
       "\n",
       "           (percent, Native American)  (percent, Pacific Islander)  \\\n",
       "action                                                               \n",
       "No Action                           0                            0   \n",
       "Warning                             0                            0   \n",
       "Citation                            0                            0   \n",
       "Arrested                            0                            1   \n",
       "\n",
       "           (percent, White)  \n",
       "action                       \n",
       "No Action                50  \n",
       "Warning                  53  \n",
       "Citation                 50  \n",
       "Arrested                 53  "
      ]
     },
     "execution_count": 18,
     "metadata": {},
     "output_type": "execute_result"
    }
   ],
   "source": [
    "result_df['action'] = result_df['result'].apply( lambda x: trans[x])\n",
    "( result_df.drop_duplicates(subset = ['stop_id', 'pid'])\n",
    "     .groupby('action')['stop_id']\n",
    "     .count()\n",
    "     .rename('total')\n",
    "     .to_frame()\n",
    "     .join(\n",
    "         result_df.groupby(['action','race'])['stop_id']\n",
    "         .count()\n",
    "         .rename('percent')\n",
    "         .to_frame()\n",
    "         .unstack()\n",
    "         .fillna(0)\n",
    "         .apply(lambda x: (100*x/x.sum()).astype(int) , axis=1)\n",
    "     )\n",
    ").drop( ['Referred to school', 'Parents Contacted']).reindex([\"No Action\", \"Warning\", \"Citation\", \"Arrested\"])"
   ]
  },
  {
   "cell_type": "code",
   "execution_count": 19,
   "id": "30fc3bf4",
   "metadata": {},
   "outputs": [
    {
     "data": {
      "text/html": [
       "<div>\n",
       "<style scoped>\n",
       "    .dataframe tbody tr th:only-of-type {\n",
       "        vertical-align: middle;\n",
       "    }\n",
       "\n",
       "    .dataframe tbody tr th {\n",
       "        vertical-align: top;\n",
       "    }\n",
       "\n",
       "    .dataframe thead th {\n",
       "        text-align: right;\n",
       "    }\n",
       "</style>\n",
       "<table border=\"1\" class=\"dataframe\">\n",
       "  <thead>\n",
       "    <tr style=\"text-align: right;\">\n",
       "      <th></th>\n",
       "      <th>total</th>\n",
       "      <th>(percent, Arrested)</th>\n",
       "      <th>(percent, Citation)</th>\n",
       "      <th>(percent, No Action)</th>\n",
       "      <th>(percent, Parents Contacted)</th>\n",
       "      <th>(percent, Referred to school)</th>\n",
       "      <th>(percent, Transported)</th>\n",
       "      <th>(percent, Warning)</th>\n",
       "    </tr>\n",
       "    <tr>\n",
       "      <th>race</th>\n",
       "      <th></th>\n",
       "      <th></th>\n",
       "      <th></th>\n",
       "      <th></th>\n",
       "      <th></th>\n",
       "      <th></th>\n",
       "      <th></th>\n",
       "      <th></th>\n",
       "    </tr>\n",
       "  </thead>\n",
       "  <tbody>\n",
       "    <tr>\n",
       "      <th>Black/African American</th>\n",
       "      <td>18821</td>\n",
       "      <td>18</td>\n",
       "      <td>16</td>\n",
       "      <td>49</td>\n",
       "      <td>0</td>\n",
       "      <td>0</td>\n",
       "      <td>1</td>\n",
       "      <td>14</td>\n",
       "    </tr>\n",
       "    <tr>\n",
       "      <th>Hispanic/Latino/a</th>\n",
       "      <td>15477</td>\n",
       "      <td>24</td>\n",
       "      <td>13</td>\n",
       "      <td>46</td>\n",
       "      <td>0</td>\n",
       "      <td>0</td>\n",
       "      <td>1</td>\n",
       "      <td>12</td>\n",
       "    </tr>\n",
       "    <tr>\n",
       "      <th>White</th>\n",
       "      <td>39056</td>\n",
       "      <td>23</td>\n",
       "      <td>14</td>\n",
       "      <td>46</td>\n",
       "      <td>0</td>\n",
       "      <td>0</td>\n",
       "      <td>1</td>\n",
       "      <td>14</td>\n",
       "    </tr>\n",
       "  </tbody>\n",
       "</table>\n",
       "</div>"
      ],
      "text/plain": [
       "                        total  (percent, Arrested)  (percent, Citation)  \\\n",
       "race                                                                      \n",
       "Black/African American  18821                   18                   16   \n",
       "Hispanic/Latino/a       15477                   24                   13   \n",
       "White                   39056                   23                   14   \n",
       "\n",
       "                        (percent, No Action)  (percent, Parents Contacted)  \\\n",
       "race                                                                         \n",
       "Black/African American                    49                             0   \n",
       "Hispanic/Latino/a                         46                             0   \n",
       "White                                     46                             0   \n",
       "\n",
       "                        (percent, Referred to school)  (percent, Transported)  \\\n",
       "race                                                                            \n",
       "Black/African American                              0                       1   \n",
       "Hispanic/Latino/a                                   0                       1   \n",
       "White                                               0                       1   \n",
       "\n",
       "                        (percent, Warning)  \n",
       "race                                        \n",
       "Black/African American                  14  \n",
       "Hispanic/Latino/a                       12  \n",
       "White                                   14  "
      ]
     },
     "execution_count": 19,
     "metadata": {},
     "output_type": "execute_result"
    }
   ],
   "source": [
    "( result_df.drop_duplicates(subset = ['stop_id', 'pid'])\n",
    "     .groupby('race')['stop_id']\n",
    "     .count()\n",
    "     .rename('total')\n",
    "     .to_frame()\n",
    "     .join(\n",
    "         result_df.groupby(['race','action'])['stop_id']\n",
    "         .count()\n",
    "         .rename('percent')\n",
    "         .to_frame()\n",
    "         .unstack()\n",
    "         .fillna(0)\n",
    "         .apply(lambda x: (100*x/x.sum()).astype(int) , axis=1)\n",
    "     )\n",
    ").drop( ['Asian','Middle Eastern or South Asian','Native American','Pacific Islander'])"
   ]
  },
  {
   "cell_type": "markdown",
   "id": "e4763aab",
   "metadata": {},
   "source": [
    "The above charts shows racial proportion of potential unhoused perspon in the stop outcomes (stopped, arrested, cited, or warned). Given you are getting a warning and arrest, you are more likely to be White and less likely to be Latino."
   ]
  },
  {
   "cell_type": "markdown",
   "id": "f5b8ca0b",
   "metadata": {},
   "source": [
    "***Illegal Lodging Stop Reason Outcome Test***\n",
    "\n",
    "Let's specifically explore the distribution of the racial breakdown and temporal changes of illegal lodging and encroachment that cited in local violation and their penal code. We will start by looking at illegal lodging."
   ]
  },
  {
   "cell_type": "code",
   "execution_count": 20,
   "id": "9d50158e",
   "metadata": {},
   "outputs": [],
   "source": [
    "# extract local violations of illegal lodging\n",
    "lodge_keywords = '647e|647\\(e\\)|647 e|647 \\(e\\)|lodg'\n",
    "lodge_local = df['reason_for_stop_explanation'].str.lower().str.contains(lodge_keywords, na=False)\n",
    "# extract tickets citied in illegal lodging penal code\n",
    "lodge_code = df['reason_for_stop_code_text'].str.contains('32111', na=False)\n",
    "lodge = pd.concat([df.loc[lodge_local], df.loc[lodge_code]],ignore_index=True)\n",
    "lodge = lodge[~lodge.index.duplicated(keep='first')]"
   ]
  },
  {
   "cell_type": "code",
   "execution_count": 21,
   "id": "77cfe509",
   "metadata": {},
   "outputs": [
    {
     "name": "stdout",
     "output_type": "stream",
     "text": [
      "Specifically labelled illegal lodging OR 647(e):\n",
      " 19349 stops covering 47287 persons which is 4.737250737581334% of the entire dataset\n"
     ]
    }
   ],
   "source": [
    "lodge['action'] = lodge['result'].apply( lambda x: trans[x])\n",
    "print('Specifically labelled illegal lodging OR 647(e):\\n',\n",
    "      '{} stops covering {} persons which is {}% of the entire dataset'.format( \n",
    "          lodge['stop_id'].unique().shape[0], \n",
    "          lodge.shape[0],\n",
    "          lodge.shape[0]/df.shape[0] * 100) \n",
    "     )"
   ]
  },
  {
   "cell_type": "markdown",
   "id": "4dde7cff",
   "metadata": {},
   "source": [
    "This graph shows ticketing for local violations of illegal lodging as determined by keyword search (variations on 647e and the root term “lodg”).  Note there may be a fair few tickets missed this way as officers do not have to write anything particular in these text boxes and sometimes they misspell and write useless information. We see that the distribution of local violations of illegal lodging is more likely to be random since there is no clear pattern in the data."
   ]
  },
  {
   "cell_type": "code",
   "execution_count": 22,
   "id": "ac6b9b01",
   "metadata": {},
   "outputs": [],
   "source": [
    "temp = lodge['resulttext'].str.split().apply( lambda x: x[-2][-2] if type(x)==list else 'X')\n",
    "result = {'M':'misdemeanor', 'X':'no action', 'I':'infraction', 'F':'felony'}\n",
    "lodge['type'] = temp.apply( lambda x: result[x])"
   ]
  },
  {
   "cell_type": "code",
   "execution_count": 23,
   "id": "068cde5b",
   "metadata": {},
   "outputs": [
    {
     "data": {
      "image/png": "[encoded data removed]",
      "text/plain": [
       "<Figure size 864x576 with 1 Axes>"
      ]
     },
     "metadata": {
      "needs_background": "light"
     },
     "output_type": "display_data"
    }
   ],
   "source": [
    "# graph the distribution of data citied in illegal lodging penal code\n",
    "plt.rcParams[\"figure.figsize\"] = (12, 8)\n",
    "g  = sns.histplot(data=lodge, x='year-month', hue='type', multiple='stack')\n",
    "g.set_xticklabels(sorted(lodge['year-month'].unique()), rotation=40, fontsize=8)\n",
    "g.set_xlabel('');\n",
    "g.set_title('Illegal Lodging');"
   ]
  },
  {
   "cell_type": "markdown",
   "id": "66a9eb17",
   "metadata": {},
   "source": [
    "Here is the separated category of illegal lodging that appears to be all the violations of 647e and are not LOCAL VIOLATIONS. Based on the following line plot, there are more illegal lodging cited as its own penal code than as local violations. In addition, the number of ticketings greatly decreased at the start of coronavirus pandemic. Moreoever, the results of violations of 647e are all misdemeanor. The results of local violations of illegal lodging, on the other hand, are more misdemanor before the pandemic and more infraction after the start of the pandemic."
   ]
  },
  {
   "cell_type": "markdown",
   "id": "6d0ac450",
   "metadata": {},
   "source": [
    "By printing out the racial breakdown of illegal lodging offense, illegal lodging are less Hispanic and more Black and White than expected from city census of races, but similar to the city homelessness population."
   ]
  },
  {
   "cell_type": "code",
   "execution_count": 24,
   "id": "88b87aea",
   "metadata": {},
   "outputs": [
    {
     "data": {
      "text/html": [
       "<div>\n",
       "<style scoped>\n",
       "    .dataframe tbody tr th:only-of-type {\n",
       "        vertical-align: middle;\n",
       "    }\n",
       "\n",
       "    .dataframe tbody tr th {\n",
       "        vertical-align: top;\n",
       "    }\n",
       "\n",
       "    .dataframe thead th {\n",
       "        text-align: right;\n",
       "    }\n",
       "</style>\n",
       "<table border=\"1\" class=\"dataframe\">\n",
       "  <thead>\n",
       "    <tr style=\"text-align: right;\">\n",
       "      <th></th>\n",
       "      <th>race</th>\n",
       "      <th>size</th>\n",
       "      <th>proportion</th>\n",
       "    </tr>\n",
       "  </thead>\n",
       "  <tbody>\n",
       "    <tr>\n",
       "      <th>0</th>\n",
       "      <td>Asian</td>\n",
       "      <td>931</td>\n",
       "      <td>1.968829</td>\n",
       "    </tr>\n",
       "    <tr>\n",
       "      <th>1</th>\n",
       "      <td>Black/African American</td>\n",
       "      <td>11870</td>\n",
       "      <td>25.102037</td>\n",
       "    </tr>\n",
       "    <tr>\n",
       "      <th>2</th>\n",
       "      <td>Hispanic/Latino/a</td>\n",
       "      <td>9675</td>\n",
       "      <td>20.460169</td>\n",
       "    </tr>\n",
       "    <tr>\n",
       "      <th>3</th>\n",
       "      <td>Middle Eastern or South Asian</td>\n",
       "      <td>261</td>\n",
       "      <td>0.551949</td>\n",
       "    </tr>\n",
       "    <tr>\n",
       "      <th>4</th>\n",
       "      <td>Native American</td>\n",
       "      <td>256</td>\n",
       "      <td>0.541375</td>\n",
       "    </tr>\n",
       "    <tr>\n",
       "      <th>5</th>\n",
       "      <td>Pacific Islander</td>\n",
       "      <td>345</td>\n",
       "      <td>0.729587</td>\n",
       "    </tr>\n",
       "    <tr>\n",
       "      <th>6</th>\n",
       "      <td>White</td>\n",
       "      <td>23949</td>\n",
       "      <td>50.646055</td>\n",
       "    </tr>\n",
       "  </tbody>\n",
       "</table>\n",
       "</div>"
      ],
      "text/plain": [
       "                            race   size  proportion\n",
       "0                          Asian    931    1.968829\n",
       "1         Black/African American  11870   25.102037\n",
       "2              Hispanic/Latino/a   9675   20.460169\n",
       "3  Middle Eastern or South Asian    261    0.551949\n",
       "4                Native American    256    0.541375\n",
       "5               Pacific Islander    345    0.729587\n",
       "6                          White  23949   50.646055"
      ]
     },
     "execution_count": 24,
     "metadata": {},
     "output_type": "execute_result"
    }
   ],
   "source": [
    "# check the racial distribution of illegal lodging violation\n",
    "lodge_race =  lodge.groupby(['race'], as_index=False).size()\n",
    "lodge_race['proportion'] = lodge_race['size'] / lodge_race['size'].sum() * 100\n",
    "lodge_race"
   ]
  },
  {
   "cell_type": "code",
   "execution_count": 25,
   "id": "e109ab2c",
   "metadata": {},
   "outputs": [
    {
     "data": {
      "text/html": [
       "<div>\n",
       "<style scoped>\n",
       "    .dataframe tbody tr th:only-of-type {\n",
       "        vertical-align: middle;\n",
       "    }\n",
       "\n",
       "    .dataframe tbody tr th {\n",
       "        vertical-align: top;\n",
       "    }\n",
       "\n",
       "    .dataframe thead th {\n",
       "        text-align: right;\n",
       "    }\n",
       "</style>\n",
       "<table border=\"1\" class=\"dataframe\">\n",
       "  <thead>\n",
       "    <tr style=\"text-align: right;\">\n",
       "      <th></th>\n",
       "      <th>total</th>\n",
       "      <th>(percent, Asian)</th>\n",
       "      <th>(percent, Black/African American)</th>\n",
       "      <th>(percent, Hispanic/Latino/a)</th>\n",
       "      <th>(percent, Middle Eastern or South Asian)</th>\n",
       "      <th>(percent, Native American)</th>\n",
       "      <th>(percent, Pacific Islander)</th>\n",
       "      <th>(percent, White)</th>\n",
       "    </tr>\n",
       "    <tr>\n",
       "      <th>action</th>\n",
       "      <th></th>\n",
       "      <th></th>\n",
       "      <th></th>\n",
       "      <th></th>\n",
       "      <th></th>\n",
       "      <th></th>\n",
       "      <th></th>\n",
       "      <th></th>\n",
       "    </tr>\n",
       "  </thead>\n",
       "  <tbody>\n",
       "    <tr>\n",
       "      <th>No Action</th>\n",
       "      <td>16337</td>\n",
       "      <td>1</td>\n",
       "      <td>25</td>\n",
       "      <td>20</td>\n",
       "      <td>0</td>\n",
       "      <td>0</td>\n",
       "      <td>0</td>\n",
       "      <td>50</td>\n",
       "    </tr>\n",
       "    <tr>\n",
       "      <th>Warning</th>\n",
       "      <td>4289</td>\n",
       "      <td>2</td>\n",
       "      <td>22</td>\n",
       "      <td>18</td>\n",
       "      <td>0</td>\n",
       "      <td>0</td>\n",
       "      <td>0</td>\n",
       "      <td>54</td>\n",
       "    </tr>\n",
       "    <tr>\n",
       "      <th>Citation</th>\n",
       "      <td>3056</td>\n",
       "      <td>2</td>\n",
       "      <td>25</td>\n",
       "      <td>21</td>\n",
       "      <td>0</td>\n",
       "      <td>0</td>\n",
       "      <td>1</td>\n",
       "      <td>47</td>\n",
       "    </tr>\n",
       "    <tr>\n",
       "      <th>Arrested</th>\n",
       "      <td>3622</td>\n",
       "      <td>1</td>\n",
       "      <td>26</td>\n",
       "      <td>19</td>\n",
       "      <td>0</td>\n",
       "      <td>1</td>\n",
       "      <td>0</td>\n",
       "      <td>50</td>\n",
       "    </tr>\n",
       "  </tbody>\n",
       "</table>\n",
       "</div>"
      ],
      "text/plain": [
       "           total  (percent, Asian)  (percent, Black/African American)  \\\n",
       "action                                                                  \n",
       "No Action  16337                 1                                 25   \n",
       "Warning     4289                 2                                 22   \n",
       "Citation    3056                 2                                 25   \n",
       "Arrested    3622                 1                                 26   \n",
       "\n",
       "           (percent, Hispanic/Latino/a)  \\\n",
       "action                                    \n",
       "No Action                            20   \n",
       "Warning                              18   \n",
       "Citation                             21   \n",
       "Arrested                             19   \n",
       "\n",
       "           (percent, Middle Eastern or South Asian)  \\\n",
       "action                                                \n",
       "No Action                                         0   \n",
       "Warning                                           0   \n",
       "Citation                                          0   \n",
       "Arrested                                          0   \n",
       "\n",
       "           (percent, Native American)  (percent, Pacific Islander)  \\\n",
       "action                                                               \n",
       "No Action                           0                            0   \n",
       "Warning                             0                            0   \n",
       "Citation                            0                            1   \n",
       "Arrested                            1                            0   \n",
       "\n",
       "           (percent, White)  \n",
       "action                       \n",
       "No Action                50  \n",
       "Warning                  54  \n",
       "Citation                 47  \n",
       "Arrested                 50  "
      ]
     },
     "execution_count": 25,
     "metadata": {},
     "output_type": "execute_result"
    }
   ],
   "source": [
    "( lodge.drop_duplicates(subset = ['stop_id', 'pid'])\n",
    "     .groupby('action')['stop_id']\n",
    "     .count()\n",
    "     .rename('total')\n",
    "     .to_frame()\n",
    "     .join(\n",
    "         lodge.groupby(['action','race'])['stop_id']\n",
    "         .count()\n",
    "         .rename('percent')\n",
    "         .to_frame()\n",
    "         .unstack()\n",
    "         .fillna(0)\n",
    "         .apply(lambda x: (100*x/x.sum()).astype(int) , axis=1)\n",
    "     )\n",
    ").drop(['Parents Contacted', 'Transported']).reindex([\"No Action\", \"Warning\", \"Citation\", \"Arrested\"])"
   ]
  },
  {
   "cell_type": "code",
   "execution_count": 26,
   "id": "84613e6b",
   "metadata": {},
   "outputs": [
    {
     "data": {
      "text/html": [
       "<div>\n",
       "<style scoped>\n",
       "    .dataframe tbody tr th:only-of-type {\n",
       "        vertical-align: middle;\n",
       "    }\n",
       "\n",
       "    .dataframe tbody tr th {\n",
       "        vertical-align: top;\n",
       "    }\n",
       "\n",
       "    .dataframe thead th {\n",
       "        text-align: right;\n",
       "    }\n",
       "</style>\n",
       "<table border=\"1\" class=\"dataframe\">\n",
       "  <thead>\n",
       "    <tr style=\"text-align: right;\">\n",
       "      <th></th>\n",
       "      <th>total</th>\n",
       "      <th>(percent, Arrested)</th>\n",
       "      <th>(percent, Citation)</th>\n",
       "      <th>(percent, No Action)</th>\n",
       "      <th>(percent, Parents Contacted)</th>\n",
       "      <th>(percent, Transported)</th>\n",
       "      <th>(percent, Warning)</th>\n",
       "    </tr>\n",
       "    <tr>\n",
       "      <th>race</th>\n",
       "      <th></th>\n",
       "      <th></th>\n",
       "      <th></th>\n",
       "      <th></th>\n",
       "      <th></th>\n",
       "      <th></th>\n",
       "      <th></th>\n",
       "    </tr>\n",
       "  </thead>\n",
       "  <tbody>\n",
       "    <tr>\n",
       "      <th>Black/African American</th>\n",
       "      <td>6845</td>\n",
       "      <td>20</td>\n",
       "      <td>12</td>\n",
       "      <td>51</td>\n",
       "      <td>0</td>\n",
       "      <td>1</td>\n",
       "      <td>14</td>\n",
       "    </tr>\n",
       "    <tr>\n",
       "      <th>Hispanic/Latino/a</th>\n",
       "      <td>5651</td>\n",
       "      <td>19</td>\n",
       "      <td>12</td>\n",
       "      <td>52</td>\n",
       "      <td>0</td>\n",
       "      <td>1</td>\n",
       "      <td>14</td>\n",
       "    </tr>\n",
       "    <tr>\n",
       "      <th>White</th>\n",
       "      <td>14114</td>\n",
       "      <td>19</td>\n",
       "      <td>11</td>\n",
       "      <td>50</td>\n",
       "      <td>0</td>\n",
       "      <td>0</td>\n",
       "      <td>17</td>\n",
       "    </tr>\n",
       "  </tbody>\n",
       "</table>\n",
       "</div>"
      ],
      "text/plain": [
       "                        total  (percent, Arrested)  (percent, Citation)  \\\n",
       "race                                                                      \n",
       "Black/African American   6845                   20                   12   \n",
       "Hispanic/Latino/a        5651                   19                   12   \n",
       "White                   14114                   19                   11   \n",
       "\n",
       "                        (percent, No Action)  (percent, Parents Contacted)  \\\n",
       "race                                                                         \n",
       "Black/African American                    51                             0   \n",
       "Hispanic/Latino/a                         52                             0   \n",
       "White                                     50                             0   \n",
       "\n",
       "                        (percent, Transported)  (percent, Warning)  \n",
       "race                                                                \n",
       "Black/African American                       1                  14  \n",
       "Hispanic/Latino/a                            1                  14  \n",
       "White                                        0                  17  "
      ]
     },
     "execution_count": 26,
     "metadata": {},
     "output_type": "execute_result"
    }
   ],
   "source": [
    "( lodge.drop_duplicates(subset = ['stop_id', 'pid'])\n",
    "     .groupby('race')['stop_id']\n",
    "     .count()\n",
    "     .rename('total')\n",
    "     .to_frame()\n",
    "     .join(\n",
    "         lodge.groupby(['race','action'])['stop_id']\n",
    "         .count()\n",
    "         .rename('percent')\n",
    "         .to_frame()\n",
    "         .unstack()\n",
    "         .fillna(0)\n",
    "         .apply(lambda x: (100*x/x.sum()).astype(int) , axis=1)\n",
    "     )\n",
    ").drop( ['Asian','Middle Eastern or South Asian','Native American','Pacific Islander'])"
   ]
  },
  {
   "cell_type": "markdown",
   "id": "52dffa89",
   "metadata": {},
   "source": [
    "The table above shows evidence that, given you are getting a warning and not some other action, you are more likely to be White and less likely to be Latino. Lations hold steady at roughly the same percentage no matter what the action."
   ]
  },
  {
   "cell_type": "code",
   "execution_count": 62,
   "id": "0a108f23",
   "metadata": {},
   "outputs": [
    {
     "name": "stdout",
     "output_type": "stream",
     "text": [
      "Specifically resulted match labelled illegal lodging OR 647(e):\n",
      " 18740 stops covering 42294 persons which is 89.44107259923446% of the entire lodge table\n"
     ]
    }
   ],
   "source": [
    "homeless_code = [32111,32022,65000,65002,99999,32103,32027,32102, np.nan]\n",
    "lodge_match = pd.concat([lodge[lodge.resulttext == lodge.reason_for_stop_code_text], \n",
    "                         lodge[lodge.code.isin(homeless_code)]])\n",
    "\n",
    "lodge_match = lodge_match[~lodge_match.index.duplicated(keep='first')]\n",
    "\n",
    "print('Specifically resulted match labelled illegal lodging OR 647(e):\\n',\n",
    "      '{} stops covering {} persons which is {}% of the entire lodge table'.format( \n",
    "          lodge_match['stop_id'].unique().shape[0], \n",
    "          lodge_match.shape[0],\n",
    "          lodge_match.shape[0]/lodge.shape[0] * 100) \n",
    "     )"
   ]
  },
  {
   "cell_type": "code",
   "execution_count": 63,
   "id": "ec023457",
   "metadata": {},
   "outputs": [
    {
     "name": "stdout",
     "output_type": "stream",
     "text": [
      "Specifically resulted unmatch labelled illegal lodging OR 647(e):\n",
      " 1215 stops covering 4993 persons which is 10.558927400765539% of the entire lodge table\n"
     ]
    }
   ],
   "source": [
    "lodge_unmatch = lodge[~lodge.index.isin(lodge_match.index)]\n",
    "print('Specifically resulted unmatch labelled illegal lodging OR 647(e):\\n',\n",
    "      '{} stops covering {} persons which is {}% of the entire lodge table'.format( \n",
    "          lodge_unmatch['stop_id'].unique().shape[0], \n",
    "          lodge_unmatch.shape[0],\n",
    "          lodge_unmatch.shape[0]/lodge.shape[0] * 100) \n",
    "     )"
   ]
  },
  {
   "cell_type": "code",
   "execution_count": 64,
   "id": "ce333926",
   "metadata": {},
   "outputs": [
    {
     "data": {
      "text/html": [
       "<div>\n",
       "<style scoped>\n",
       "    .dataframe tbody tr th:only-of-type {\n",
       "        vertical-align: middle;\n",
       "    }\n",
       "\n",
       "    .dataframe tbody tr th {\n",
       "        vertical-align: top;\n",
       "    }\n",
       "\n",
       "    .dataframe thead th {\n",
       "        text-align: right;\n",
       "    }\n",
       "</style>\n",
       "<table border=\"1\" class=\"dataframe\">\n",
       "  <thead>\n",
       "    <tr style=\"text-align: right;\">\n",
       "      <th></th>\n",
       "      <th>race</th>\n",
       "      <th>size</th>\n",
       "      <th>proportion</th>\n",
       "    </tr>\n",
       "  </thead>\n",
       "  <tbody>\n",
       "    <tr>\n",
       "      <th>0</th>\n",
       "      <td>Asian</td>\n",
       "      <td>839</td>\n",
       "      <td>1.983733</td>\n",
       "    </tr>\n",
       "    <tr>\n",
       "      <th>1</th>\n",
       "      <td>Black/African American</td>\n",
       "      <td>10469</td>\n",
       "      <td>24.752920</td>\n",
       "    </tr>\n",
       "    <tr>\n",
       "      <th>2</th>\n",
       "      <td>Hispanic/Latino/a</td>\n",
       "      <td>8613</td>\n",
       "      <td>20.364591</td>\n",
       "    </tr>\n",
       "    <tr>\n",
       "      <th>3</th>\n",
       "      <td>Middle Eastern or South Asian</td>\n",
       "      <td>232</td>\n",
       "      <td>0.548541</td>\n",
       "    </tr>\n",
       "    <tr>\n",
       "      <th>4</th>\n",
       "      <td>Native American</td>\n",
       "      <td>191</td>\n",
       "      <td>0.451601</td>\n",
       "    </tr>\n",
       "    <tr>\n",
       "      <th>5</th>\n",
       "      <td>Pacific Islander</td>\n",
       "      <td>263</td>\n",
       "      <td>0.621838</td>\n",
       "    </tr>\n",
       "    <tr>\n",
       "      <th>6</th>\n",
       "      <td>White</td>\n",
       "      <td>21687</td>\n",
       "      <td>51.276777</td>\n",
       "    </tr>\n",
       "  </tbody>\n",
       "</table>\n",
       "</div>"
      ],
      "text/plain": [
       "                            race   size  proportion\n",
       "0                          Asian    839    1.983733\n",
       "1         Black/African American  10469   24.752920\n",
       "2              Hispanic/Latino/a   8613   20.364591\n",
       "3  Middle Eastern or South Asian    232    0.548541\n",
       "4                Native American    191    0.451601\n",
       "5               Pacific Islander    263    0.621838\n",
       "6                          White  21687   51.276777"
      ]
     },
     "execution_count": 64,
     "metadata": {},
     "output_type": "execute_result"
    }
   ],
   "source": [
    "# check the racial distribution of illegal lodging violation\n",
    "lodge_match_race = lodge_match.groupby(['race'], as_index=False).size()\n",
    "lodge_match_race['proportion'] = lodge_match_race['size'] / lodge_match_race['size'].sum() * 100\n",
    "lodge_match_race"
   ]
  },
  {
   "cell_type": "code",
   "execution_count": 65,
   "id": "07675602",
   "metadata": {},
   "outputs": [
    {
     "data": {
      "text/html": [
       "<div>\n",
       "<style scoped>\n",
       "    .dataframe tbody tr th:only-of-type {\n",
       "        vertical-align: middle;\n",
       "    }\n",
       "\n",
       "    .dataframe tbody tr th {\n",
       "        vertical-align: top;\n",
       "    }\n",
       "\n",
       "    .dataframe thead th {\n",
       "        text-align: right;\n",
       "    }\n",
       "</style>\n",
       "<table border=\"1\" class=\"dataframe\">\n",
       "  <thead>\n",
       "    <tr style=\"text-align: right;\">\n",
       "      <th></th>\n",
       "      <th>race</th>\n",
       "      <th>proportion_x</th>\n",
       "      <th>proportion_match</th>\n",
       "    </tr>\n",
       "  </thead>\n",
       "  <tbody>\n",
       "    <tr>\n",
       "      <th>0</th>\n",
       "      <td>Asian</td>\n",
       "      <td>1.968829</td>\n",
       "      <td>1.983733</td>\n",
       "    </tr>\n",
       "    <tr>\n",
       "      <th>1</th>\n",
       "      <td>Black/African American</td>\n",
       "      <td>25.102037</td>\n",
       "      <td>24.752920</td>\n",
       "    </tr>\n",
       "    <tr>\n",
       "      <th>2</th>\n",
       "      <td>Hispanic/Latino/a</td>\n",
       "      <td>20.460169</td>\n",
       "      <td>20.364591</td>\n",
       "    </tr>\n",
       "    <tr>\n",
       "      <th>3</th>\n",
       "      <td>Middle Eastern or South Asian</td>\n",
       "      <td>0.551949</td>\n",
       "      <td>0.548541</td>\n",
       "    </tr>\n",
       "    <tr>\n",
       "      <th>4</th>\n",
       "      <td>Native American</td>\n",
       "      <td>0.541375</td>\n",
       "      <td>0.451601</td>\n",
       "    </tr>\n",
       "    <tr>\n",
       "      <th>5</th>\n",
       "      <td>Pacific Islander</td>\n",
       "      <td>0.729587</td>\n",
       "      <td>0.621838</td>\n",
       "    </tr>\n",
       "    <tr>\n",
       "      <th>6</th>\n",
       "      <td>White</td>\n",
       "      <td>50.646055</td>\n",
       "      <td>51.276777</td>\n",
       "    </tr>\n",
       "  </tbody>\n",
       "</table>\n",
       "</div>"
      ],
      "text/plain": [
       "                            race  proportion_x  proportion_match\n",
       "0                          Asian      1.968829          1.983733\n",
       "1         Black/African American     25.102037         24.752920\n",
       "2              Hispanic/Latino/a     20.460169         20.364591\n",
       "3  Middle Eastern or South Asian      0.551949          0.548541\n",
       "4                Native American      0.541375          0.451601\n",
       "5               Pacific Islander      0.729587          0.621838\n",
       "6                          White     50.646055         51.276777"
      ]
     },
     "execution_count": 65,
     "metadata": {},
     "output_type": "execute_result"
    }
   ],
   "source": [
    "pd.merge(lodge_race, lodge_match_race, on = ['race']).drop(columns=['size_x', 'size_y']).rename(columns={'proportion_y':'proportion_match'})"
   ]
  },
  {
   "cell_type": "code",
   "execution_count": 66,
   "id": "979b7a50",
   "metadata": {},
   "outputs": [
    {
     "data": {
      "text/html": [
       "<div>\n",
       "<style scoped>\n",
       "    .dataframe tbody tr th:only-of-type {\n",
       "        vertical-align: middle;\n",
       "    }\n",
       "\n",
       "    .dataframe tbody tr th {\n",
       "        vertical-align: top;\n",
       "    }\n",
       "\n",
       "    .dataframe thead th {\n",
       "        text-align: right;\n",
       "    }\n",
       "</style>\n",
       "<table border=\"1\" class=\"dataframe\">\n",
       "  <thead>\n",
       "    <tr style=\"text-align: right;\">\n",
       "      <th></th>\n",
       "      <th>total</th>\n",
       "      <th>(percent, Asian)</th>\n",
       "      <th>(percent, Black/African American)</th>\n",
       "      <th>(percent, Hispanic/Latino/a)</th>\n",
       "      <th>(percent, Middle Eastern or South Asian)</th>\n",
       "      <th>(percent, Native American)</th>\n",
       "      <th>(percent, Pacific Islander)</th>\n",
       "      <th>(percent, White)</th>\n",
       "    </tr>\n",
       "    <tr>\n",
       "      <th>action</th>\n",
       "      <th></th>\n",
       "      <th></th>\n",
       "      <th></th>\n",
       "      <th></th>\n",
       "      <th></th>\n",
       "      <th></th>\n",
       "      <th></th>\n",
       "      <th></th>\n",
       "    </tr>\n",
       "  </thead>\n",
       "  <tbody>\n",
       "    <tr>\n",
       "      <th>No Action</th>\n",
       "      <td>15660</td>\n",
       "      <td>1</td>\n",
       "      <td>25</td>\n",
       "      <td>20</td>\n",
       "      <td>0</td>\n",
       "      <td>0</td>\n",
       "      <td>0</td>\n",
       "      <td>50</td>\n",
       "    </tr>\n",
       "    <tr>\n",
       "      <th>Warning</th>\n",
       "      <td>4929</td>\n",
       "      <td>2</td>\n",
       "      <td>22</td>\n",
       "      <td>18</td>\n",
       "      <td>0</td>\n",
       "      <td>0</td>\n",
       "      <td>0</td>\n",
       "      <td>54</td>\n",
       "    </tr>\n",
       "    <tr>\n",
       "      <th>Citation</th>\n",
       "      <td>2647</td>\n",
       "      <td>2</td>\n",
       "      <td>27</td>\n",
       "      <td>20</td>\n",
       "      <td>0</td>\n",
       "      <td>0</td>\n",
       "      <td>0</td>\n",
       "      <td>48</td>\n",
       "    </tr>\n",
       "    <tr>\n",
       "      <th>Arrested</th>\n",
       "      <td>3202</td>\n",
       "      <td>1</td>\n",
       "      <td>23</td>\n",
       "      <td>20</td>\n",
       "      <td>0</td>\n",
       "      <td>0</td>\n",
       "      <td>0</td>\n",
       "      <td>53</td>\n",
       "    </tr>\n",
       "  </tbody>\n",
       "</table>\n",
       "</div>"
      ],
      "text/plain": [
       "           total  (percent, Asian)  (percent, Black/African American)  \\\n",
       "action                                                                  \n",
       "No Action  15660                 1                                 25   \n",
       "Warning     4929                 2                                 22   \n",
       "Citation    2647                 2                                 27   \n",
       "Arrested    3202                 1                                 23   \n",
       "\n",
       "           (percent, Hispanic/Latino/a)  \\\n",
       "action                                    \n",
       "No Action                            20   \n",
       "Warning                              18   \n",
       "Citation                             20   \n",
       "Arrested                             20   \n",
       "\n",
       "           (percent, Middle Eastern or South Asian)  \\\n",
       "action                                                \n",
       "No Action                                         0   \n",
       "Warning                                           0   \n",
       "Citation                                          0   \n",
       "Arrested                                          0   \n",
       "\n",
       "           (percent, Native American)  (percent, Pacific Islander)  \\\n",
       "action                                                               \n",
       "No Action                           0                            0   \n",
       "Warning                             0                            0   \n",
       "Citation                            0                            0   \n",
       "Arrested                            0                            0   \n",
       "\n",
       "           (percent, White)  \n",
       "action                       \n",
       "No Action                50  \n",
       "Warning                  54  \n",
       "Citation                 48  \n",
       "Arrested                 53  "
      ]
     },
     "execution_count": 66,
     "metadata": {},
     "output_type": "execute_result"
    }
   ],
   "source": [
    "( lodge_match.drop_duplicates(subset = ['stop_id', 'pid'])\n",
    "     .groupby('action')['stop_id']\n",
    "     .count()\n",
    "     .rename('total')\n",
    "     .to_frame()\n",
    "     .join(\n",
    "         lodge_match.groupby(['action','race'])['stop_id']\n",
    "         .count()\n",
    "         .rename('percent')\n",
    "         .to_frame()\n",
    "         .unstack()\n",
    "         .fillna(0)\n",
    "         .apply(lambda x: (100*x/x.sum()).astype(int) , axis=1)\n",
    "     )\n",
    ").reindex([\"No Action\", \"Warning\", \"Citation\", \"Arrested\"])"
   ]
  },
  {
   "cell_type": "code",
   "execution_count": 67,
   "id": "9ab7ef0b",
   "metadata": {},
   "outputs": [
    {
     "data": {
      "text/html": [
       "<div>\n",
       "<style scoped>\n",
       "    .dataframe tbody tr th:only-of-type {\n",
       "        vertical-align: middle;\n",
       "    }\n",
       "\n",
       "    .dataframe tbody tr th {\n",
       "        vertical-align: top;\n",
       "    }\n",
       "\n",
       "    .dataframe thead th {\n",
       "        text-align: right;\n",
       "    }\n",
       "</style>\n",
       "<table border=\"1\" class=\"dataframe\">\n",
       "  <thead>\n",
       "    <tr style=\"text-align: right;\">\n",
       "      <th></th>\n",
       "      <th>total</th>\n",
       "      <th>(percent, Arrested)</th>\n",
       "      <th>(percent, Citation)</th>\n",
       "      <th>(percent, No Action)</th>\n",
       "      <th>(percent, Parents Contacted)</th>\n",
       "      <th>(percent, Transported)</th>\n",
       "      <th>(percent, Warning)</th>\n",
       "    </tr>\n",
       "    <tr>\n",
       "      <th>race</th>\n",
       "      <th></th>\n",
       "      <th></th>\n",
       "      <th></th>\n",
       "      <th></th>\n",
       "      <th></th>\n",
       "      <th></th>\n",
       "      <th></th>\n",
       "    </tr>\n",
       "  </thead>\n",
       "  <tbody>\n",
       "    <tr>\n",
       "      <th>Black/African American</th>\n",
       "      <td>6627</td>\n",
       "      <td>13</td>\n",
       "      <td>10</td>\n",
       "      <td>58</td>\n",
       "      <td>0</td>\n",
       "      <td>1</td>\n",
       "      <td>15</td>\n",
       "    </tr>\n",
       "    <tr>\n",
       "      <th>Hispanic/Latino/a</th>\n",
       "      <td>5434</td>\n",
       "      <td>14</td>\n",
       "      <td>9</td>\n",
       "      <td>58</td>\n",
       "      <td>0</td>\n",
       "      <td>1</td>\n",
       "      <td>16</td>\n",
       "    </tr>\n",
       "    <tr>\n",
       "      <th>White</th>\n",
       "      <td>13700</td>\n",
       "      <td>14</td>\n",
       "      <td>9</td>\n",
       "      <td>56</td>\n",
       "      <td>0</td>\n",
       "      <td>1</td>\n",
       "      <td>18</td>\n",
       "    </tr>\n",
       "  </tbody>\n",
       "</table>\n",
       "</div>"
      ],
      "text/plain": [
       "                        total  (percent, Arrested)  (percent, Citation)  \\\n",
       "race                                                                      \n",
       "Black/African American   6627                   13                   10   \n",
       "Hispanic/Latino/a        5434                   14                    9   \n",
       "White                   13700                   14                    9   \n",
       "\n",
       "                        (percent, No Action)  (percent, Parents Contacted)  \\\n",
       "race                                                                         \n",
       "Black/African American                    58                             0   \n",
       "Hispanic/Latino/a                         58                             0   \n",
       "White                                     56                             0   \n",
       "\n",
       "                        (percent, Transported)  (percent, Warning)  \n",
       "race                                                                \n",
       "Black/African American                       1                  15  \n",
       "Hispanic/Latino/a                            1                  16  \n",
       "White                                        1                  18  "
      ]
     },
     "execution_count": 67,
     "metadata": {},
     "output_type": "execute_result"
    }
   ],
   "source": [
    "( lodge_match.drop_duplicates(subset = ['stop_id', 'pid'])\n",
    "     .groupby('race')['stop_id']\n",
    "     .count()\n",
    "     .rename('total')\n",
    "     .to_frame()\n",
    "     .join(\n",
    "         lodge_match.groupby(['race','action'])['stop_id']\n",
    "         .count()\n",
    "         .rename('percent')\n",
    "         .to_frame()\n",
    "         .unstack()\n",
    "         .fillna(0)\n",
    "         .apply(lambda x: (100*x/x.sum()).astype(int) , axis=1)\n",
    "     )\n",
    ").drop( ['Asian','Middle Eastern or South Asian','Native American','Pacific Islander'])"
   ]
  },
  {
   "cell_type": "markdown",
   "id": "876706c5",
   "metadata": {},
   "source": [
    "****Encroachment****\n",
    "\n",
    "Let's look at enroachment:"
   ]
  },
  {
   "cell_type": "code",
   "execution_count": 33,
   "id": "8d56529e",
   "metadata": {},
   "outputs": [],
   "source": [
    "# extract local violations of enroachment\n",
    "encroach_keywords = '54.0110|encroach|incroach|encroch|incroch'\n",
    "encroach_local = df['reason_for_stop_explanation'].str.lower().str.contains(encroach_keywords, na=False)\n",
    "# extract reason citied in encroachment penal code \n",
    "encroach_code = df['reason_for_stop_code_text'].str.contains('66134', na=False)\n",
    "encroach = pd.concat([df.loc[encroach_local], df.loc[encroach_code]],ignore_index=True)\n",
    "encroach = encroach[~encroach.index.duplicated(keep='first')]"
   ]
  },
  {
   "cell_type": "code",
   "execution_count": 34,
   "id": "5c90a2aa",
   "metadata": {},
   "outputs": [
    {
     "name": "stdout",
     "output_type": "stream",
     "text": [
      "Specifically labelled encroachment:\n",
      " 14117 stops covering 26974 persons, which is 2.702277611088014% of the entire dataset\n"
     ]
    }
   ],
   "source": [
    "encroach['action'] = encroach['result'].apply( lambda x: trans[x])\n",
    "print('Specifically labelled encroachment:\\n',\n",
    "      '{} stops covering {} persons, which is {}% of the entire dataset'.format( \n",
    "          encroach['stop_id'].unique().shape[0], \n",
    "          encroach.shape[0],\n",
    "          encroach.shape[0] / df.shape[0] * 100) \n",
    "     )"
   ]
  },
  {
   "cell_type": "code",
   "execution_count": 35,
   "id": "aa468160",
   "metadata": {},
   "outputs": [],
   "source": [
    "temp = encroach['resulttext'].str.split().apply( lambda x: x[-2][-2] if type(x)==list else 'X')\n",
    "result = {'M':'misdemeanor', 'X':'no action', 'I':'infraction', 'F':'felony'}\n",
    "encroach['type'] = temp.apply( lambda x: result[x])"
   ]
  },
  {
   "cell_type": "code",
   "execution_count": 36,
   "id": "4c5bd070",
   "metadata": {},
   "outputs": [
    {
     "data": {
      "image/png": "[encoded data removed]",
      "text/plain": [
       "<Figure size 864x576 with 1 Axes>"
      ]
     },
     "metadata": {
      "needs_background": "light"
     },
     "output_type": "display_data"
    }
   ],
   "source": [
    "# graph the distribution of encroachment\n",
    "plt.rcParams[\"figure.figsize\"] = (12, 8)\n",
    "g  = sns.histplot(data=encroach, x='year-month', hue='type', multiple='stack')\n",
    "g.set_xticklabels(sorted(encroach['year-month'].unique()), rotation=40, fontsize=8)\n",
    "g.set_xlabel('');\n",
    "g.set_title('Encroachment');"
   ]
  },
  {
   "cell_type": "code",
   "execution_count": null,
   "id": "3b040ebf",
   "metadata": {},
   "outputs": [],
   "source": []
  },
  {
   "cell_type": "markdown",
   "id": "404a0806",
   "metadata": {},
   "source": [
    "Here is the separated category of encroachment under its own heading of 1460(B). Different than illegal lodging, there are more illegal lodging cited as local violation than under its own heading. But still, the number of ticketings greatly decreased at the start of coronavirus pandemic. Moreoever, the results of violations of 1460(B) are all misdemeanor."
   ]
  },
  {
   "cell_type": "code",
   "execution_count": 37,
   "id": "3c599f98",
   "metadata": {},
   "outputs": [
    {
     "data": {
      "text/html": [
       "<div>\n",
       "<style scoped>\n",
       "    .dataframe tbody tr th:only-of-type {\n",
       "        vertical-align: middle;\n",
       "    }\n",
       "\n",
       "    .dataframe tbody tr th {\n",
       "        vertical-align: top;\n",
       "    }\n",
       "\n",
       "    .dataframe thead th {\n",
       "        text-align: right;\n",
       "    }\n",
       "</style>\n",
       "<table border=\"1\" class=\"dataframe\">\n",
       "  <thead>\n",
       "    <tr style=\"text-align: right;\">\n",
       "      <th></th>\n",
       "      <th>race</th>\n",
       "      <th>size</th>\n",
       "      <th>proportion</th>\n",
       "    </tr>\n",
       "  </thead>\n",
       "  <tbody>\n",
       "    <tr>\n",
       "      <th>0</th>\n",
       "      <td>Asian</td>\n",
       "      <td>425</td>\n",
       "      <td>1.575591</td>\n",
       "    </tr>\n",
       "    <tr>\n",
       "      <th>1</th>\n",
       "      <td>Black/African American</td>\n",
       "      <td>7483</td>\n",
       "      <td>27.741529</td>\n",
       "    </tr>\n",
       "    <tr>\n",
       "      <th>2</th>\n",
       "      <td>Hispanic/Latino/a</td>\n",
       "      <td>5109</td>\n",
       "      <td>18.940461</td>\n",
       "    </tr>\n",
       "    <tr>\n",
       "      <th>3</th>\n",
       "      <td>Middle Eastern or South Asian</td>\n",
       "      <td>130</td>\n",
       "      <td>0.481946</td>\n",
       "    </tr>\n",
       "    <tr>\n",
       "      <th>4</th>\n",
       "      <td>Native American</td>\n",
       "      <td>85</td>\n",
       "      <td>0.315118</td>\n",
       "    </tr>\n",
       "    <tr>\n",
       "      <th>5</th>\n",
       "      <td>Pacific Islander</td>\n",
       "      <td>348</td>\n",
       "      <td>1.290131</td>\n",
       "    </tr>\n",
       "    <tr>\n",
       "      <th>6</th>\n",
       "      <td>White</td>\n",
       "      <td>13394</td>\n",
       "      <td>49.655224</td>\n",
       "    </tr>\n",
       "  </tbody>\n",
       "</table>\n",
       "</div>"
      ],
      "text/plain": [
       "                            race   size  proportion\n",
       "0                          Asian    425    1.575591\n",
       "1         Black/African American   7483   27.741529\n",
       "2              Hispanic/Latino/a   5109   18.940461\n",
       "3  Middle Eastern or South Asian    130    0.481946\n",
       "4                Native American     85    0.315118\n",
       "5               Pacific Islander    348    1.290131\n",
       "6                          White  13394   49.655224"
      ]
     },
     "execution_count": 37,
     "metadata": {},
     "output_type": "execute_result"
    }
   ],
   "source": [
    "# check the racial distribution of encroachment suspect\n",
    "encroach_race =  encroach.groupby(['race'], as_index=False).size()\n",
    "encroach_race['proportion'] = encroach_race['size'] / encroach_race['size'].sum() * 100\n",
    "encroach_race"
   ]
  },
  {
   "cell_type": "code",
   "execution_count": 38,
   "id": "7003094c",
   "metadata": {},
   "outputs": [
    {
     "data": {
      "text/html": [
       "<div>\n",
       "<style scoped>\n",
       "    .dataframe tbody tr th:only-of-type {\n",
       "        vertical-align: middle;\n",
       "    }\n",
       "\n",
       "    .dataframe tbody tr th {\n",
       "        vertical-align: top;\n",
       "    }\n",
       "\n",
       "    .dataframe thead th {\n",
       "        text-align: right;\n",
       "    }\n",
       "</style>\n",
       "<table border=\"1\" class=\"dataframe\">\n",
       "  <thead>\n",
       "    <tr style=\"text-align: right;\">\n",
       "      <th></th>\n",
       "      <th>total</th>\n",
       "      <th>(percent, Asian)</th>\n",
       "      <th>(percent, Black/African American)</th>\n",
       "      <th>(percent, Hispanic/Latino/a)</th>\n",
       "      <th>(percent, Middle Eastern or South Asian)</th>\n",
       "      <th>(percent, Native American)</th>\n",
       "      <th>(percent, Pacific Islander)</th>\n",
       "      <th>(percent, White)</th>\n",
       "    </tr>\n",
       "    <tr>\n",
       "      <th>action</th>\n",
       "      <th></th>\n",
       "      <th></th>\n",
       "      <th></th>\n",
       "      <th></th>\n",
       "      <th></th>\n",
       "      <th></th>\n",
       "      <th></th>\n",
       "      <th></th>\n",
       "    </tr>\n",
       "  </thead>\n",
       "  <tbody>\n",
       "    <tr>\n",
       "      <th>No Action</th>\n",
       "      <td>11019</td>\n",
       "      <td>1</td>\n",
       "      <td>27</td>\n",
       "      <td>18</td>\n",
       "      <td>0</td>\n",
       "      <td>0</td>\n",
       "      <td>0</td>\n",
       "      <td>50</td>\n",
       "    </tr>\n",
       "    <tr>\n",
       "      <th>Warning</th>\n",
       "      <td>2873</td>\n",
       "      <td>1</td>\n",
       "      <td>26</td>\n",
       "      <td>18</td>\n",
       "      <td>0</td>\n",
       "      <td>0</td>\n",
       "      <td>0</td>\n",
       "      <td>51</td>\n",
       "    </tr>\n",
       "    <tr>\n",
       "      <th>Citation</th>\n",
       "      <td>4550</td>\n",
       "      <td>1</td>\n",
       "      <td>28</td>\n",
       "      <td>18</td>\n",
       "      <td>0</td>\n",
       "      <td>0</td>\n",
       "      <td>0</td>\n",
       "      <td>48</td>\n",
       "    </tr>\n",
       "    <tr>\n",
       "      <th>Arrested</th>\n",
       "      <td>2033</td>\n",
       "      <td>1</td>\n",
       "      <td>26</td>\n",
       "      <td>19</td>\n",
       "      <td>0</td>\n",
       "      <td>0</td>\n",
       "      <td>4</td>\n",
       "      <td>46</td>\n",
       "    </tr>\n",
       "  </tbody>\n",
       "</table>\n",
       "</div>"
      ],
      "text/plain": [
       "           total  (percent, Asian)  (percent, Black/African American)  \\\n",
       "action                                                                  \n",
       "No Action  11019                 1                                 27   \n",
       "Warning     2873                 1                                 26   \n",
       "Citation    4550                 1                                 28   \n",
       "Arrested    2033                 1                                 26   \n",
       "\n",
       "           (percent, Hispanic/Latino/a)  \\\n",
       "action                                    \n",
       "No Action                            18   \n",
       "Warning                              18   \n",
       "Citation                             18   \n",
       "Arrested                             19   \n",
       "\n",
       "           (percent, Middle Eastern or South Asian)  \\\n",
       "action                                                \n",
       "No Action                                         0   \n",
       "Warning                                           0   \n",
       "Citation                                          0   \n",
       "Arrested                                          0   \n",
       "\n",
       "           (percent, Native American)  (percent, Pacific Islander)  \\\n",
       "action                                                               \n",
       "No Action                           0                            0   \n",
       "Warning                             0                            0   \n",
       "Citation                            0                            0   \n",
       "Arrested                            0                            4   \n",
       "\n",
       "           (percent, White)  \n",
       "action                       \n",
       "No Action                50  \n",
       "Warning                  51  \n",
       "Citation                 48  \n",
       "Arrested                 46  "
      ]
     },
     "execution_count": 38,
     "metadata": {},
     "output_type": "execute_result"
    }
   ],
   "source": [
    "( encroach.drop_duplicates(subset = ['stop_id', 'pid'])\n",
    "     .groupby('action')['stop_id']\n",
    "     .count()\n",
    "     .rename('total')\n",
    "     .to_frame()\n",
    "     .join(\n",
    "         encroach.groupby(['action','race'])['stop_id']\n",
    "         .count()\n",
    "         .rename('percent')\n",
    "         .to_frame()\n",
    "         .unstack()\n",
    "         .fillna(0)\n",
    "         .apply(lambda x: (100*x/x.sum()).astype(int) , axis=1)\n",
    "     )\n",
    ").reindex([\"No Action\", \"Warning\", \"Citation\", \"Arrested\"])"
   ]
  },
  {
   "cell_type": "code",
   "execution_count": 39,
   "id": "0ed67a97",
   "metadata": {},
   "outputs": [
    {
     "data": {
      "text/html": [
       "<div>\n",
       "<style scoped>\n",
       "    .dataframe tbody tr th:only-of-type {\n",
       "        vertical-align: middle;\n",
       "    }\n",
       "\n",
       "    .dataframe tbody tr th {\n",
       "        vertical-align: top;\n",
       "    }\n",
       "\n",
       "    .dataframe thead th {\n",
       "        text-align: right;\n",
       "    }\n",
       "</style>\n",
       "<table border=\"1\" class=\"dataframe\">\n",
       "  <thead>\n",
       "    <tr style=\"text-align: right;\">\n",
       "      <th></th>\n",
       "      <th>total</th>\n",
       "      <th>(percent, Arrested)</th>\n",
       "      <th>(percent, Citation)</th>\n",
       "      <th>(percent, No Action)</th>\n",
       "      <th>(percent, Parents Contacted)</th>\n",
       "      <th>(percent, Transported)</th>\n",
       "      <th>(percent, Warning)</th>\n",
       "    </tr>\n",
       "    <tr>\n",
       "      <th>race</th>\n",
       "      <th></th>\n",
       "      <th></th>\n",
       "      <th></th>\n",
       "      <th></th>\n",
       "      <th></th>\n",
       "      <th></th>\n",
       "      <th></th>\n",
       "    </tr>\n",
       "  </thead>\n",
       "  <tbody>\n",
       "    <tr>\n",
       "      <th>Black/African American</th>\n",
       "      <td>5766</td>\n",
       "      <td>16</td>\n",
       "      <td>22</td>\n",
       "      <td>48</td>\n",
       "      <td>0</td>\n",
       "      <td>0</td>\n",
       "      <td>12</td>\n",
       "    </tr>\n",
       "    <tr>\n",
       "      <th>Hispanic/Latino/a</th>\n",
       "      <td>3825</td>\n",
       "      <td>17</td>\n",
       "      <td>21</td>\n",
       "      <td>47</td>\n",
       "      <td>0</td>\n",
       "      <td>0</td>\n",
       "      <td>12</td>\n",
       "    </tr>\n",
       "    <tr>\n",
       "      <th>White</th>\n",
       "      <td>10395</td>\n",
       "      <td>15</td>\n",
       "      <td>20</td>\n",
       "      <td>48</td>\n",
       "      <td>0</td>\n",
       "      <td>0</td>\n",
       "      <td>13</td>\n",
       "    </tr>\n",
       "  </tbody>\n",
       "</table>\n",
       "</div>"
      ],
      "text/plain": [
       "                        total  (percent, Arrested)  (percent, Citation)  \\\n",
       "race                                                                      \n",
       "Black/African American   5766                   16                   22   \n",
       "Hispanic/Latino/a        3825                   17                   21   \n",
       "White                   10395                   15                   20   \n",
       "\n",
       "                        (percent, No Action)  (percent, Parents Contacted)  \\\n",
       "race                                                                         \n",
       "Black/African American                    48                             0   \n",
       "Hispanic/Latino/a                         47                             0   \n",
       "White                                     48                             0   \n",
       "\n",
       "                        (percent, Transported)  (percent, Warning)  \n",
       "race                                                                \n",
       "Black/African American                       0                  12  \n",
       "Hispanic/Latino/a                            0                  12  \n",
       "White                                        0                  13  "
      ]
     },
     "execution_count": 39,
     "metadata": {},
     "output_type": "execute_result"
    }
   ],
   "source": [
    "( encroach.drop_duplicates(subset = ['stop_id', 'pid'])\n",
    "     .groupby('race')['stop_id']\n",
    "     .count()\n",
    "     .rename('total')\n",
    "     .to_frame()\n",
    "     .join(\n",
    "         encroach.groupby(['race','action'])['stop_id']\n",
    "         .count()\n",
    "         .rename('percent')\n",
    "         .to_frame()\n",
    "         .unstack()\n",
    "         .fillna(0)\n",
    "         .apply(lambda x: (100*x/x.sum()).astype(int) , axis=1)\n",
    "     )\n",
    ").drop( ['Asian','Middle Eastern or South Asian','Native American','Pacific Islander'])"
   ]
  },
  {
   "cell_type": "code",
   "execution_count": 40,
   "id": "ef6fcab1",
   "metadata": {},
   "outputs": [
    {
     "name": "stdout",
     "output_type": "stream",
     "text": [
      "Specifically resulted match labelled encroachment violation:\n",
      " 13679 stops covering 23923 persons which is 88.68910802995477% of the entire encroach table\n"
     ]
    }
   ],
   "source": [
    "encroach_match = pd.concat([encroach[encroach.resulttext == encroach.reason_for_stop_code_text], \n",
    "                         encroach[encroach.code.isin(homeless_code)]])\n",
    "encroach_match = encroach_match[~encroach_match.index.duplicated(keep='first')]\n",
    "\n",
    "print('Specifically resulted match labelled encroachment violation:\\n',\n",
    "      '{} stops covering {} persons which is {}% of the entire encroach table'.format( \n",
    "          encroach_match['stop_id'].unique().shape[0], \n",
    "          encroach_match.shape[0],\n",
    "          encroach_match.shape[0]/encroach.shape[0] * 100) \n",
    "     )"
   ]
  },
  {
   "cell_type": "code",
   "execution_count": 41,
   "id": "e75303dc",
   "metadata": {},
   "outputs": [
    {
     "name": "stdout",
     "output_type": "stream",
     "text": [
      "Specifically resulted unmatch labelled encroachment violation:\n",
      " 844 stops covering 3051 persons which is 11.310891970045228% of the entire encroach table\n"
     ]
    }
   ],
   "source": [
    "encroach_unmatch = encroach[~encroach.index.isin(encroach_match.index)]\n",
    "print('Specifically resulted unmatch labelled encroachment violation:\\n',\n",
    "      '{} stops covering {} persons which is {}% of the entire encroach table'.format( \n",
    "          encroach_unmatch['stop_id'].unique().shape[0], \n",
    "          encroach_unmatch.shape[0],\n",
    "          encroach_unmatch.shape[0]/encroach.shape[0] * 100) \n",
    "     )"
   ]
  },
  {
   "cell_type": "code",
   "execution_count": 42,
   "id": "392f3960",
   "metadata": {},
   "outputs": [
    {
     "data": {
      "text/html": [
       "<div>\n",
       "<style scoped>\n",
       "    .dataframe tbody tr th:only-of-type {\n",
       "        vertical-align: middle;\n",
       "    }\n",
       "\n",
       "    .dataframe tbody tr th {\n",
       "        vertical-align: top;\n",
       "    }\n",
       "\n",
       "    .dataframe thead th {\n",
       "        text-align: right;\n",
       "    }\n",
       "</style>\n",
       "<table border=\"1\" class=\"dataframe\">\n",
       "  <thead>\n",
       "    <tr style=\"text-align: right;\">\n",
       "      <th></th>\n",
       "      <th>race</th>\n",
       "      <th>size</th>\n",
       "      <th>proportion</th>\n",
       "    </tr>\n",
       "  </thead>\n",
       "  <tbody>\n",
       "    <tr>\n",
       "      <th>0</th>\n",
       "      <td>Asian</td>\n",
       "      <td>368</td>\n",
       "      <td>1.538269</td>\n",
       "    </tr>\n",
       "    <tr>\n",
       "      <th>1</th>\n",
       "      <td>Black/African American</td>\n",
       "      <td>6719</td>\n",
       "      <td>28.085942</td>\n",
       "    </tr>\n",
       "    <tr>\n",
       "      <th>2</th>\n",
       "      <td>Hispanic/Latino/a</td>\n",
       "      <td>4521</td>\n",
       "      <td>18.898132</td>\n",
       "    </tr>\n",
       "    <tr>\n",
       "      <th>3</th>\n",
       "      <td>Middle Eastern or South Asian</td>\n",
       "      <td>126</td>\n",
       "      <td>0.526690</td>\n",
       "    </tr>\n",
       "    <tr>\n",
       "      <th>4</th>\n",
       "      <td>Native American</td>\n",
       "      <td>82</td>\n",
       "      <td>0.342766</td>\n",
       "    </tr>\n",
       "    <tr>\n",
       "      <th>5</th>\n",
       "      <td>Pacific Islander</td>\n",
       "      <td>177</td>\n",
       "      <td>0.739874</td>\n",
       "    </tr>\n",
       "    <tr>\n",
       "      <th>6</th>\n",
       "      <td>White</td>\n",
       "      <td>11930</td>\n",
       "      <td>49.868328</td>\n",
       "    </tr>\n",
       "  </tbody>\n",
       "</table>\n",
       "</div>"
      ],
      "text/plain": [
       "                            race   size  proportion\n",
       "0                          Asian    368    1.538269\n",
       "1         Black/African American   6719   28.085942\n",
       "2              Hispanic/Latino/a   4521   18.898132\n",
       "3  Middle Eastern or South Asian    126    0.526690\n",
       "4                Native American     82    0.342766\n",
       "5               Pacific Islander    177    0.739874\n",
       "6                          White  11930   49.868328"
      ]
     },
     "execution_count": 42,
     "metadata": {},
     "output_type": "execute_result"
    }
   ],
   "source": [
    "# check the racial distribution of illegal lodging violation\n",
    "encroach_match_race = encroach_match.groupby(['race'], as_index=False).size()\n",
    "encroach_match_race['proportion'] = encroach_match_race['size'] / encroach_match_race['size'].sum() * 100\n",
    "encroach_match_race"
   ]
  },
  {
   "cell_type": "code",
   "execution_count": 43,
   "id": "d404ebea",
   "metadata": {},
   "outputs": [
    {
     "data": {
      "text/html": [
       "<div>\n",
       "<style scoped>\n",
       "    .dataframe tbody tr th:only-of-type {\n",
       "        vertical-align: middle;\n",
       "    }\n",
       "\n",
       "    .dataframe tbody tr th {\n",
       "        vertical-align: top;\n",
       "    }\n",
       "\n",
       "    .dataframe thead th {\n",
       "        text-align: right;\n",
       "    }\n",
       "</style>\n",
       "<table border=\"1\" class=\"dataframe\">\n",
       "  <thead>\n",
       "    <tr style=\"text-align: right;\">\n",
       "      <th></th>\n",
       "      <th>race</th>\n",
       "      <th>proportion_x</th>\n",
       "      <th>proportion_match</th>\n",
       "    </tr>\n",
       "  </thead>\n",
       "  <tbody>\n",
       "    <tr>\n",
       "      <th>0</th>\n",
       "      <td>Asian</td>\n",
       "      <td>1.575591</td>\n",
       "      <td>1.538269</td>\n",
       "    </tr>\n",
       "    <tr>\n",
       "      <th>1</th>\n",
       "      <td>Black/African American</td>\n",
       "      <td>27.741529</td>\n",
       "      <td>28.085942</td>\n",
       "    </tr>\n",
       "    <tr>\n",
       "      <th>2</th>\n",
       "      <td>Hispanic/Latino/a</td>\n",
       "      <td>18.940461</td>\n",
       "      <td>18.898132</td>\n",
       "    </tr>\n",
       "    <tr>\n",
       "      <th>3</th>\n",
       "      <td>Middle Eastern or South Asian</td>\n",
       "      <td>0.481946</td>\n",
       "      <td>0.526690</td>\n",
       "    </tr>\n",
       "    <tr>\n",
       "      <th>4</th>\n",
       "      <td>Native American</td>\n",
       "      <td>0.315118</td>\n",
       "      <td>0.342766</td>\n",
       "    </tr>\n",
       "    <tr>\n",
       "      <th>5</th>\n",
       "      <td>Pacific Islander</td>\n",
       "      <td>1.290131</td>\n",
       "      <td>0.739874</td>\n",
       "    </tr>\n",
       "    <tr>\n",
       "      <th>6</th>\n",
       "      <td>White</td>\n",
       "      <td>49.655224</td>\n",
       "      <td>49.868328</td>\n",
       "    </tr>\n",
       "  </tbody>\n",
       "</table>\n",
       "</div>"
      ],
      "text/plain": [
       "                            race  proportion_x  proportion_match\n",
       "0                          Asian      1.575591          1.538269\n",
       "1         Black/African American     27.741529         28.085942\n",
       "2              Hispanic/Latino/a     18.940461         18.898132\n",
       "3  Middle Eastern or South Asian      0.481946          0.526690\n",
       "4                Native American      0.315118          0.342766\n",
       "5               Pacific Islander      1.290131          0.739874\n",
       "6                          White     49.655224         49.868328"
      ]
     },
     "execution_count": 43,
     "metadata": {},
     "output_type": "execute_result"
    }
   ],
   "source": [
    "pd.merge(encroach_race, encroach_match_race, on = ['race']).drop(columns=['size_x', 'size_y']).rename(columns={'proportion_y':'proportion_match'})\n"
   ]
  },
  {
   "cell_type": "code",
   "execution_count": 44,
   "id": "2b67cc3b",
   "metadata": {},
   "outputs": [
    {
     "data": {
      "text/html": [
       "<div>\n",
       "<style scoped>\n",
       "    .dataframe tbody tr th:only-of-type {\n",
       "        vertical-align: middle;\n",
       "    }\n",
       "\n",
       "    .dataframe tbody tr th {\n",
       "        vertical-align: top;\n",
       "    }\n",
       "\n",
       "    .dataframe thead th {\n",
       "        text-align: right;\n",
       "    }\n",
       "</style>\n",
       "<table border=\"1\" class=\"dataframe\">\n",
       "  <thead>\n",
       "    <tr style=\"text-align: right;\">\n",
       "      <th></th>\n",
       "      <th>total</th>\n",
       "      <th>(percent, Asian)</th>\n",
       "      <th>(percent, Black/African American)</th>\n",
       "      <th>(percent, Hispanic/Latino/a)</th>\n",
       "      <th>(percent, Middle Eastern or South Asian)</th>\n",
       "      <th>(percent, Native American)</th>\n",
       "      <th>(percent, Pacific Islander)</th>\n",
       "      <th>(percent, White)</th>\n",
       "    </tr>\n",
       "    <tr>\n",
       "      <th>action</th>\n",
       "      <th></th>\n",
       "      <th></th>\n",
       "      <th></th>\n",
       "      <th></th>\n",
       "      <th></th>\n",
       "      <th></th>\n",
       "      <th></th>\n",
       "      <th></th>\n",
       "    </tr>\n",
       "  </thead>\n",
       "  <tbody>\n",
       "    <tr>\n",
       "      <th>No Action</th>\n",
       "      <td>10822</td>\n",
       "      <td>1</td>\n",
       "      <td>25</td>\n",
       "      <td>20</td>\n",
       "      <td>0</td>\n",
       "      <td>0</td>\n",
       "      <td>0</td>\n",
       "      <td>50</td>\n",
       "    </tr>\n",
       "    <tr>\n",
       "      <th>Warning</th>\n",
       "      <td>3033</td>\n",
       "      <td>2</td>\n",
       "      <td>23</td>\n",
       "      <td>18</td>\n",
       "      <td>0</td>\n",
       "      <td>0</td>\n",
       "      <td>0</td>\n",
       "      <td>54</td>\n",
       "    </tr>\n",
       "    <tr>\n",
       "      <th>Citation</th>\n",
       "      <td>4259</td>\n",
       "      <td>1</td>\n",
       "      <td>27</td>\n",
       "      <td>19</td>\n",
       "      <td>0</td>\n",
       "      <td>0</td>\n",
       "      <td>0</td>\n",
       "      <td>49</td>\n",
       "    </tr>\n",
       "    <tr>\n",
       "      <th>Arrested</th>\n",
       "      <td>1708</td>\n",
       "      <td>1</td>\n",
       "      <td>23</td>\n",
       "      <td>19</td>\n",
       "      <td>0</td>\n",
       "      <td>0</td>\n",
       "      <td>0</td>\n",
       "      <td>53</td>\n",
       "    </tr>\n",
       "  </tbody>\n",
       "</table>\n",
       "</div>"
      ],
      "text/plain": [
       "           total  (percent, Asian)  (percent, Black/African American)  \\\n",
       "action                                                                  \n",
       "No Action  10822                 1                                 25   \n",
       "Warning     3033                 2                                 23   \n",
       "Citation    4259                 1                                 27   \n",
       "Arrested    1708                 1                                 23   \n",
       "\n",
       "           (percent, Hispanic/Latino/a)  \\\n",
       "action                                    \n",
       "No Action                            20   \n",
       "Warning                              18   \n",
       "Citation                             19   \n",
       "Arrested                             19   \n",
       "\n",
       "           (percent, Middle Eastern or South Asian)  \\\n",
       "action                                                \n",
       "No Action                                         0   \n",
       "Warning                                           0   \n",
       "Citation                                          0   \n",
       "Arrested                                          0   \n",
       "\n",
       "           (percent, Native American)  (percent, Pacific Islander)  \\\n",
       "action                                                               \n",
       "No Action                           0                            0   \n",
       "Warning                             0                            0   \n",
       "Citation                            0                            0   \n",
       "Arrested                            0                            0   \n",
       "\n",
       "           (percent, White)  \n",
       "action                       \n",
       "No Action                50  \n",
       "Warning                  54  \n",
       "Citation                 49  \n",
       "Arrested                 53  "
      ]
     },
     "execution_count": 44,
     "metadata": {},
     "output_type": "execute_result"
    }
   ],
   "source": [
    "( encroach_match.drop_duplicates(subset = ['stop_id', 'pid'])\n",
    "     .groupby('action')['stop_id']\n",
    "     .count()\n",
    "     .rename('total')\n",
    "     .to_frame()\n",
    "     .join(\n",
    "         lodge_match.groupby(['action','race'])['stop_id']\n",
    "         .count()\n",
    "         .rename('percent')\n",
    "         .to_frame()\n",
    "         .unstack()\n",
    "         .fillna(0)\n",
    "         .apply(lambda x: (100*x/x.sum()).astype(int) , axis=1)\n",
    "     )\n",
    ").reindex([\"No Action\", \"Warning\", \"Citation\", \"Arrested\"])"
   ]
  },
  {
   "cell_type": "code",
   "execution_count": 45,
   "id": "b7474ec2",
   "metadata": {},
   "outputs": [
    {
     "data": {
      "text/html": [
       "<div>\n",
       "<style scoped>\n",
       "    .dataframe tbody tr th:only-of-type {\n",
       "        vertical-align: middle;\n",
       "    }\n",
       "\n",
       "    .dataframe tbody tr th {\n",
       "        vertical-align: top;\n",
       "    }\n",
       "\n",
       "    .dataframe thead th {\n",
       "        text-align: right;\n",
       "    }\n",
       "</style>\n",
       "<table border=\"1\" class=\"dataframe\">\n",
       "  <thead>\n",
       "    <tr style=\"text-align: right;\">\n",
       "      <th></th>\n",
       "      <th>total</th>\n",
       "      <th>(percent, Arrested)</th>\n",
       "      <th>(percent, Citation)</th>\n",
       "      <th>(percent, No Action)</th>\n",
       "      <th>(percent, Parents Contacted)</th>\n",
       "      <th>(percent, Transported)</th>\n",
       "      <th>(percent, Warning)</th>\n",
       "    </tr>\n",
       "    <tr>\n",
       "      <th>race</th>\n",
       "      <th></th>\n",
       "      <th></th>\n",
       "      <th></th>\n",
       "      <th></th>\n",
       "      <th></th>\n",
       "      <th></th>\n",
       "      <th></th>\n",
       "    </tr>\n",
       "  </thead>\n",
       "  <tbody>\n",
       "    <tr>\n",
       "      <th>Black/African American</th>\n",
       "      <td>5576</td>\n",
       "      <td>12</td>\n",
       "      <td>10</td>\n",
       "      <td>60</td>\n",
       "      <td>0</td>\n",
       "      <td>1</td>\n",
       "      <td>15</td>\n",
       "    </tr>\n",
       "    <tr>\n",
       "      <th>Hispanic/Latino/a</th>\n",
       "      <td>3678</td>\n",
       "      <td>13</td>\n",
       "      <td>9</td>\n",
       "      <td>60</td>\n",
       "      <td>0</td>\n",
       "      <td>1</td>\n",
       "      <td>15</td>\n",
       "    </tr>\n",
       "    <tr>\n",
       "      <th>White</th>\n",
       "      <td>10101</td>\n",
       "      <td>14</td>\n",
       "      <td>9</td>\n",
       "      <td>57</td>\n",
       "      <td>0</td>\n",
       "      <td>1</td>\n",
       "      <td>17</td>\n",
       "    </tr>\n",
       "  </tbody>\n",
       "</table>\n",
       "</div>"
      ],
      "text/plain": [
       "                        total  (percent, Arrested)  (percent, Citation)  \\\n",
       "race                                                                      \n",
       "Black/African American   5576                   12                   10   \n",
       "Hispanic/Latino/a        3678                   13                    9   \n",
       "White                   10101                   14                    9   \n",
       "\n",
       "                        (percent, No Action)  (percent, Parents Contacted)  \\\n",
       "race                                                                         \n",
       "Black/African American                    60                             0   \n",
       "Hispanic/Latino/a                         60                             0   \n",
       "White                                     57                             0   \n",
       "\n",
       "                        (percent, Transported)  (percent, Warning)  \n",
       "race                                                                \n",
       "Black/African American                       1                  15  \n",
       "Hispanic/Latino/a                            1                  15  \n",
       "White                                        1                  17  "
      ]
     },
     "execution_count": 45,
     "metadata": {},
     "output_type": "execute_result"
    }
   ],
   "source": [
    "( encroach_match.drop_duplicates(subset = ['stop_id', 'pid'])\n",
    "     .groupby('race')['stop_id']\n",
    "     .count()\n",
    "     .rename('total')\n",
    "     .to_frame()\n",
    "     .join(\n",
    "         lodge_match.groupby(['race','action'])['stop_id']\n",
    "         .count()\n",
    "         .rename('percent')\n",
    "         .to_frame()\n",
    "         .unstack()\n",
    "         .fillna(0)\n",
    "         .apply(lambda x: (100*x/x.sum()).astype(int) , axis=1)\n",
    "     )\n",
    ").drop( ['Asian','Middle Eastern or South Asian','Native American','Pacific Islander'])"
   ]
  },
  {
   "cell_type": "code",
   "execution_count": null,
   "id": "88f0092a",
   "metadata": {},
   "outputs": [],
   "source": []
  },
  {
   "cell_type": "markdown",
   "id": "28003feb",
   "metadata": {},
   "source": [
    "Things get a little interesting when we break things down into “what happened” in encroachment violations. Whites are a smaller proportion of arrests and a higher proportion of warning as African American and Hispanic are the opposite."
   ]
  },
  {
   "cell_type": "markdown",
   "id": "6c248981",
   "metadata": {},
   "source": [
    "****Vehicle Habitation****"
   ]
  },
  {
   "cell_type": "code",
   "execution_count": 46,
   "id": "d833d116",
   "metadata": {},
   "outputs": [
    {
     "name": "stdout",
     "output_type": "stream",
     "text": [
      "Specifically labelled vehicle habitation OR 86.0137(f):\n",
      " 1626 stops covering 3006 persons, which is 0.30114356413326054% of the entire dataset\n"
     ]
    }
   ],
   "source": [
    "# extract local violations of enroachment\n",
    "habit_keywords = '86.0137\\(f\\)|86.0137 \\(f\\)|86.0137 f|habitation|habitating|inhabit|habitaion'\n",
    "habit_these = df['reason_for_stop_explanation'].str.lower().str.contains(habit_keywords, na=False)\n",
    "habit = df.loc[habit_these]\n",
    "habit['action'] = habit['result'].apply( lambda x: trans[x])\n",
    "\n",
    "print('Specifically labelled vehicle habitation OR 86.0137(f):\\n',\n",
    "      '{} stops covering {} persons, which is {}% of the entire dataset'.format( \n",
    "          habit['stop_id'].unique().shape[0], \n",
    "          habit.shape[0],\n",
    "          habit.shape[0] / df.shape[0] * 100) \n",
    "     )"
   ]
  },
  {
   "cell_type": "code",
   "execution_count": 47,
   "id": "d6ec4e92",
   "metadata": {},
   "outputs": [],
   "source": [
    "temp = habit['resulttext'].str.split().apply( lambda x: x[-2][-2] if type(x)==list else 'X')\n",
    "habit['type'] = temp.apply( lambda x: result[x])"
   ]
  },
  {
   "cell_type": "code",
   "execution_count": 48,
   "id": "5cb60dba",
   "metadata": {},
   "outputs": [
    {
     "data": {
      "image/png": "[encoded data removed]",
      "text/plain": [
       "<Figure size 864x576 with 1 Axes>"
      ]
     },
     "metadata": {
      "needs_background": "light"
     },
     "output_type": "display_data"
    }
   ],
   "source": [
    "g  = sns.histplot(data=habit, x='year-month', hue='type', multiple='stack')\n",
    "g.set_xticklabels(sorted(habit['year-month'].unique()), rotation=40, fontsize=8)\n",
    "g.set_xlabel('');\n",
    "g.set_title('Vehicle Habitation');"
   ]
  },
  {
   "cell_type": "code",
   "execution_count": 49,
   "id": "9fa5095c",
   "metadata": {},
   "outputs": [],
   "source": [
    "# habit[habit['type'] == 'felony'].sort_values(by=['year-month']).iloc[:50]"
   ]
  },
  {
   "cell_type": "code",
   "execution_count": 50,
   "id": "e3255ec1",
   "metadata": {},
   "outputs": [
    {
     "data": {
      "text/html": [
       "<div>\n",
       "<style scoped>\n",
       "    .dataframe tbody tr th:only-of-type {\n",
       "        vertical-align: middle;\n",
       "    }\n",
       "\n",
       "    .dataframe tbody tr th {\n",
       "        vertical-align: top;\n",
       "    }\n",
       "\n",
       "    .dataframe thead th {\n",
       "        text-align: right;\n",
       "    }\n",
       "</style>\n",
       "<table border=\"1\" class=\"dataframe\">\n",
       "  <thead>\n",
       "    <tr style=\"text-align: right;\">\n",
       "      <th></th>\n",
       "      <th>race</th>\n",
       "      <th>size</th>\n",
       "      <th>proportion</th>\n",
       "    </tr>\n",
       "  </thead>\n",
       "  <tbody>\n",
       "    <tr>\n",
       "      <th>0</th>\n",
       "      <td>Asian</td>\n",
       "      <td>71</td>\n",
       "      <td>3.382563</td>\n",
       "    </tr>\n",
       "    <tr>\n",
       "      <th>1</th>\n",
       "      <td>Black/African American</td>\n",
       "      <td>328</td>\n",
       "      <td>15.626489</td>\n",
       "    </tr>\n",
       "    <tr>\n",
       "      <th>2</th>\n",
       "      <td>Hispanic/Latino/a</td>\n",
       "      <td>445</td>\n",
       "      <td>21.200572</td>\n",
       "    </tr>\n",
       "    <tr>\n",
       "      <th>3</th>\n",
       "      <td>Middle Eastern or South Asian</td>\n",
       "      <td>24</td>\n",
       "      <td>1.143402</td>\n",
       "    </tr>\n",
       "    <tr>\n",
       "      <th>4</th>\n",
       "      <td>Native American</td>\n",
       "      <td>4</td>\n",
       "      <td>0.190567</td>\n",
       "    </tr>\n",
       "    <tr>\n",
       "      <th>5</th>\n",
       "      <td>Pacific Islander</td>\n",
       "      <td>20</td>\n",
       "      <td>0.952835</td>\n",
       "    </tr>\n",
       "    <tr>\n",
       "      <th>6</th>\n",
       "      <td>White</td>\n",
       "      <td>1207</td>\n",
       "      <td>57.503573</td>\n",
       "    </tr>\n",
       "  </tbody>\n",
       "</table>\n",
       "</div>"
      ],
      "text/plain": [
       "                            race  size  proportion\n",
       "0                          Asian    71    3.382563\n",
       "1         Black/African American   328   15.626489\n",
       "2              Hispanic/Latino/a   445   21.200572\n",
       "3  Middle Eastern or South Asian    24    1.143402\n",
       "4                Native American     4    0.190567\n",
       "5               Pacific Islander    20    0.952835\n",
       "6                          White  1207   57.503573"
      ]
     },
     "execution_count": 50,
     "metadata": {},
     "output_type": "execute_result"
    }
   ],
   "source": [
    "# check the racial distribution of encroachment suspect\n",
    "habit_race =  habit.drop_duplicates(subset = ['stop_id', 'pid'])\n",
    "habit_race = habit_race.groupby(['race'], as_index=False).size()\n",
    "habit_race['proportion'] = habit_race['size'] / habit_race['size'].sum() * 100\n",
    "habit_race"
   ]
  },
  {
   "cell_type": "code",
   "execution_count": 51,
   "id": "adba6aea",
   "metadata": {},
   "outputs": [
    {
     "data": {
      "text/html": [
       "<div>\n",
       "<style scoped>\n",
       "    .dataframe tbody tr th:only-of-type {\n",
       "        vertical-align: middle;\n",
       "    }\n",
       "\n",
       "    .dataframe tbody tr th {\n",
       "        vertical-align: top;\n",
       "    }\n",
       "\n",
       "    .dataframe thead th {\n",
       "        text-align: right;\n",
       "    }\n",
       "</style>\n",
       "<table border=\"1\" class=\"dataframe\">\n",
       "  <thead>\n",
       "    <tr style=\"text-align: right;\">\n",
       "      <th></th>\n",
       "      <th>total</th>\n",
       "      <th>(percent, Asian)</th>\n",
       "      <th>(percent, Black/African American)</th>\n",
       "      <th>(percent, Hispanic/Latino/a)</th>\n",
       "      <th>(percent, Middle Eastern or South Asian)</th>\n",
       "      <th>(percent, Native American)</th>\n",
       "      <th>(percent, Pacific Islander)</th>\n",
       "      <th>(percent, White)</th>\n",
       "    </tr>\n",
       "    <tr>\n",
       "      <th>action</th>\n",
       "      <th></th>\n",
       "      <th></th>\n",
       "      <th></th>\n",
       "      <th></th>\n",
       "      <th></th>\n",
       "      <th></th>\n",
       "      <th></th>\n",
       "      <th></th>\n",
       "    </tr>\n",
       "  </thead>\n",
       "  <tbody>\n",
       "    <tr>\n",
       "      <th>No Action</th>\n",
       "      <td>1359</td>\n",
       "      <td>3</td>\n",
       "      <td>15</td>\n",
       "      <td>23</td>\n",
       "      <td>1</td>\n",
       "      <td>0</td>\n",
       "      <td>0</td>\n",
       "      <td>55</td>\n",
       "    </tr>\n",
       "    <tr>\n",
       "      <th>Warning</th>\n",
       "      <td>399</td>\n",
       "      <td>2</td>\n",
       "      <td>14</td>\n",
       "      <td>15</td>\n",
       "      <td>0</td>\n",
       "      <td>0</td>\n",
       "      <td>0</td>\n",
       "      <td>65</td>\n",
       "    </tr>\n",
       "    <tr>\n",
       "      <th>Citation</th>\n",
       "      <td>257</td>\n",
       "      <td>15</td>\n",
       "      <td>29</td>\n",
       "      <td>12</td>\n",
       "      <td>0</td>\n",
       "      <td>0</td>\n",
       "      <td>0</td>\n",
       "      <td>41</td>\n",
       "    </tr>\n",
       "    <tr>\n",
       "      <th>Arrested</th>\n",
       "      <td>82</td>\n",
       "      <td>1</td>\n",
       "      <td>2</td>\n",
       "      <td>11</td>\n",
       "      <td>0</td>\n",
       "      <td>0</td>\n",
       "      <td>0</td>\n",
       "      <td>84</td>\n",
       "    </tr>\n",
       "  </tbody>\n",
       "</table>\n",
       "</div>"
      ],
      "text/plain": [
       "           total  (percent, Asian)  (percent, Black/African American)  \\\n",
       "action                                                                  \n",
       "No Action   1359                 3                                 15   \n",
       "Warning      399                 2                                 14   \n",
       "Citation     257                15                                 29   \n",
       "Arrested      82                 1                                  2   \n",
       "\n",
       "           (percent, Hispanic/Latino/a)  \\\n",
       "action                                    \n",
       "No Action                            23   \n",
       "Warning                              15   \n",
       "Citation                             12   \n",
       "Arrested                             11   \n",
       "\n",
       "           (percent, Middle Eastern or South Asian)  \\\n",
       "action                                                \n",
       "No Action                                         1   \n",
       "Warning                                           0   \n",
       "Citation                                          0   \n",
       "Arrested                                          0   \n",
       "\n",
       "           (percent, Native American)  (percent, Pacific Islander)  \\\n",
       "action                                                               \n",
       "No Action                           0                            0   \n",
       "Warning                             0                            0   \n",
       "Citation                            0                            0   \n",
       "Arrested                            0                            0   \n",
       "\n",
       "           (percent, White)  \n",
       "action                       \n",
       "No Action                55  \n",
       "Warning                  65  \n",
       "Citation                 41  \n",
       "Arrested                 84  "
      ]
     },
     "execution_count": 51,
     "metadata": {},
     "output_type": "execute_result"
    }
   ],
   "source": [
    "( habit.drop_duplicates(subset = ['stop_id', 'pid'])\n",
    "     .groupby('action')['stop_id']\n",
    "     .count()\n",
    "     .rename('total')\n",
    "     .to_frame()\n",
    "     .join(\n",
    "         habit.groupby(['action','race'])['stop_id']\n",
    "         .count()\n",
    "         .rename('percent')\n",
    "         .to_frame()\n",
    "         .unstack()\n",
    "         .fillna(0)\n",
    "         .apply(lambda x: (100*x/x.sum()).astype(int) , axis=1)\n",
    "     )\n",
    ").reindex([\"No Action\", \"Warning\", \"Citation\", \"Arrested\"])"
   ]
  },
  {
   "cell_type": "code",
   "execution_count": 52,
   "id": "46330e26",
   "metadata": {},
   "outputs": [
    {
     "data": {
      "text/html": [
       "<div>\n",
       "<style scoped>\n",
       "    .dataframe tbody tr th:only-of-type {\n",
       "        vertical-align: middle;\n",
       "    }\n",
       "\n",
       "    .dataframe tbody tr th {\n",
       "        vertical-align: top;\n",
       "    }\n",
       "\n",
       "    .dataframe thead th {\n",
       "        text-align: right;\n",
       "    }\n",
       "</style>\n",
       "<table border=\"1\" class=\"dataframe\">\n",
       "  <thead>\n",
       "    <tr style=\"text-align: right;\">\n",
       "      <th></th>\n",
       "      <th>total</th>\n",
       "      <th>(percent, Arrested)</th>\n",
       "      <th>(percent, Citation)</th>\n",
       "      <th>(percent, No Action)</th>\n",
       "      <th>(percent, Transported)</th>\n",
       "      <th>(percent, Warning)</th>\n",
       "    </tr>\n",
       "    <tr>\n",
       "      <th>race</th>\n",
       "      <th></th>\n",
       "      <th></th>\n",
       "      <th></th>\n",
       "      <th></th>\n",
       "      <th></th>\n",
       "      <th></th>\n",
       "    </tr>\n",
       "  </thead>\n",
       "  <tbody>\n",
       "    <tr>\n",
       "      <th>Black/African American</th>\n",
       "      <td>328</td>\n",
       "      <td>2</td>\n",
       "      <td>32</td>\n",
       "      <td>50</td>\n",
       "      <td>0</td>\n",
       "      <td>14</td>\n",
       "    </tr>\n",
       "    <tr>\n",
       "      <th>Hispanic/Latino/a</th>\n",
       "      <td>445</td>\n",
       "      <td>8</td>\n",
       "      <td>11</td>\n",
       "      <td>66</td>\n",
       "      <td>0</td>\n",
       "      <td>13</td>\n",
       "    </tr>\n",
       "    <tr>\n",
       "      <th>White</th>\n",
       "      <td>1207</td>\n",
       "      <td>20</td>\n",
       "      <td>12</td>\n",
       "      <td>49</td>\n",
       "      <td>0</td>\n",
       "      <td>17</td>\n",
       "    </tr>\n",
       "  </tbody>\n",
       "</table>\n",
       "</div>"
      ],
      "text/plain": [
       "                        total  (percent, Arrested)  (percent, Citation)  \\\n",
       "race                                                                      \n",
       "Black/African American    328                    2                   32   \n",
       "Hispanic/Latino/a         445                    8                   11   \n",
       "White                    1207                   20                   12   \n",
       "\n",
       "                        (percent, No Action)  (percent, Transported)  \\\n",
       "race                                                                   \n",
       "Black/African American                    50                       0   \n",
       "Hispanic/Latino/a                         66                       0   \n",
       "White                                     49                       0   \n",
       "\n",
       "                        (percent, Warning)  \n",
       "race                                        \n",
       "Black/African American                  14  \n",
       "Hispanic/Latino/a                       13  \n",
       "White                                   17  "
      ]
     },
     "execution_count": 52,
     "metadata": {},
     "output_type": "execute_result"
    }
   ],
   "source": [
    "( habit.drop_duplicates(subset = ['stop_id', 'pid'])\n",
    "     .groupby('race')['stop_id']\n",
    "     .count()\n",
    "     .rename('total')\n",
    "     .to_frame()\n",
    "     .join(\n",
    "         habit.groupby(['race','action'])['stop_id']\n",
    "         .count()\n",
    "         .rename('percent')\n",
    "         .to_frame()\n",
    "         .unstack()\n",
    "         .fillna(0)\n",
    "         .apply(lambda x: (100*x/x.sum()).astype(int) , axis=1)\n",
    "     )\n",
    ").drop( ['Asian','Middle Eastern or South Asian','Native American','Pacific Islander'])"
   ]
  },
  {
   "cell_type": "code",
   "execution_count": null,
   "id": "7c459e08",
   "metadata": {},
   "outputs": [],
   "source": []
  },
  {
   "cell_type": "code",
   "execution_count": 53,
   "id": "bb6bea25",
   "metadata": {},
   "outputs": [
    {
     "name": "stdout",
     "output_type": "stream",
     "text": [
      "Specifically resulted match labelled veichle habitation:\n",
      " 1582 stops covering 2515 persons which is 83.66600133067199% of the entire habitation table\n"
     ]
    }
   ],
   "source": [
    "habit_match = pd.concat([habit[habit.resulttext == habit.reason_for_stop_code_text], \n",
    "                         habit[habit.code.isin(homeless_code)]])\n",
    "habit_match = habit_match[~habit_match.index.duplicated(keep='first')]\n",
    "\n",
    "print('Specifically resulted match labelled veichle habitation:\\n',\n",
    "      '{} stops covering {} persons which is {}% of the entire habitation table'.format( \n",
    "          habit_match['stop_id'].unique().shape[0], \n",
    "          habit_match.shape[0],\n",
    "          habit_match.shape[0]/habit.shape[0] * 100) \n",
    "     )"
   ]
  },
  {
   "cell_type": "code",
   "execution_count": 54,
   "id": "a5de23d4",
   "metadata": {},
   "outputs": [
    {
     "name": "stdout",
     "output_type": "stream",
     "text": [
      "Specifically resulted unmatch labelled veichle habitation:\n",
      " 76 stops covering 491 persons which is 16.33399866932801% of the entire habitation table\n"
     ]
    }
   ],
   "source": [
    "habit_unmatch = habit[~habit.index.isin(habit_match.index)]\n",
    "print('Specifically resulted unmatch labelled veichle habitation:\\n',\n",
    "      '{} stops covering {} persons which is {}% of the entire habitation table'.format( \n",
    "          habit_unmatch['stop_id'].unique().shape[0], \n",
    "          habit_unmatch.shape[0],\n",
    "          habit_unmatch.shape[0]/habit.shape[0] * 100) \n",
    "     )"
   ]
  },
  {
   "cell_type": "code",
   "execution_count": 55,
   "id": "f13ec061",
   "metadata": {},
   "outputs": [
    {
     "data": {
      "text/html": [
       "<div>\n",
       "<style scoped>\n",
       "    .dataframe tbody tr th:only-of-type {\n",
       "        vertical-align: middle;\n",
       "    }\n",
       "\n",
       "    .dataframe tbody tr th {\n",
       "        vertical-align: top;\n",
       "    }\n",
       "\n",
       "    .dataframe thead th {\n",
       "        text-align: right;\n",
       "    }\n",
       "</style>\n",
       "<table border=\"1\" class=\"dataframe\">\n",
       "  <thead>\n",
       "    <tr style=\"text-align: right;\">\n",
       "      <th></th>\n",
       "      <th>race</th>\n",
       "      <th>size</th>\n",
       "      <th>proportion</th>\n",
       "    </tr>\n",
       "  </thead>\n",
       "  <tbody>\n",
       "    <tr>\n",
       "      <th>0</th>\n",
       "      <td>Asian</td>\n",
       "      <td>148</td>\n",
       "      <td>5.884692</td>\n",
       "    </tr>\n",
       "    <tr>\n",
       "      <th>1</th>\n",
       "      <td>Black/African American</td>\n",
       "      <td>452</td>\n",
       "      <td>17.972167</td>\n",
       "    </tr>\n",
       "    <tr>\n",
       "      <th>2</th>\n",
       "      <td>Hispanic/Latino/a</td>\n",
       "      <td>513</td>\n",
       "      <td>20.397614</td>\n",
       "    </tr>\n",
       "    <tr>\n",
       "      <th>3</th>\n",
       "      <td>Middle Eastern or South Asian</td>\n",
       "      <td>26</td>\n",
       "      <td>1.033797</td>\n",
       "    </tr>\n",
       "    <tr>\n",
       "      <th>4</th>\n",
       "      <td>Native American</td>\n",
       "      <td>5</td>\n",
       "      <td>0.198807</td>\n",
       "    </tr>\n",
       "    <tr>\n",
       "      <th>5</th>\n",
       "      <td>Pacific Islander</td>\n",
       "      <td>21</td>\n",
       "      <td>0.834990</td>\n",
       "    </tr>\n",
       "    <tr>\n",
       "      <th>6</th>\n",
       "      <td>White</td>\n",
       "      <td>1350</td>\n",
       "      <td>53.677932</td>\n",
       "    </tr>\n",
       "  </tbody>\n",
       "</table>\n",
       "</div>"
      ],
      "text/plain": [
       "                            race  size  proportion\n",
       "0                          Asian   148    5.884692\n",
       "1         Black/African American   452   17.972167\n",
       "2              Hispanic/Latino/a   513   20.397614\n",
       "3  Middle Eastern or South Asian    26    1.033797\n",
       "4                Native American     5    0.198807\n",
       "5               Pacific Islander    21    0.834990\n",
       "6                          White  1350   53.677932"
      ]
     },
     "execution_count": 55,
     "metadata": {},
     "output_type": "execute_result"
    }
   ],
   "source": [
    "# check the racial distribution of illegal lodging violation\n",
    "habit_match_race = habit_match.groupby(['race'], as_index=False).size()\n",
    "habit_match_race['proportion'] = habit_match_race['size'] / habit_match_race['size'].sum() * 100\n",
    "habit_match_race"
   ]
  },
  {
   "cell_type": "code",
   "execution_count": 56,
   "id": "802d3ea8",
   "metadata": {},
   "outputs": [
    {
     "data": {
      "text/html": [
       "<div>\n",
       "<style scoped>\n",
       "    .dataframe tbody tr th:only-of-type {\n",
       "        vertical-align: middle;\n",
       "    }\n",
       "\n",
       "    .dataframe tbody tr th {\n",
       "        vertical-align: top;\n",
       "    }\n",
       "\n",
       "    .dataframe thead th {\n",
       "        text-align: right;\n",
       "    }\n",
       "</style>\n",
       "<table border=\"1\" class=\"dataframe\">\n",
       "  <thead>\n",
       "    <tr style=\"text-align: right;\">\n",
       "      <th></th>\n",
       "      <th>race</th>\n",
       "      <th>proportion_x</th>\n",
       "      <th>proportion_match</th>\n",
       "    </tr>\n",
       "  </thead>\n",
       "  <tbody>\n",
       "    <tr>\n",
       "      <th>0</th>\n",
       "      <td>Asian</td>\n",
       "      <td>3.382563</td>\n",
       "      <td>5.884692</td>\n",
       "    </tr>\n",
       "    <tr>\n",
       "      <th>1</th>\n",
       "      <td>Black/African American</td>\n",
       "      <td>15.626489</td>\n",
       "      <td>17.972167</td>\n",
       "    </tr>\n",
       "    <tr>\n",
       "      <th>2</th>\n",
       "      <td>Hispanic/Latino/a</td>\n",
       "      <td>21.200572</td>\n",
       "      <td>20.397614</td>\n",
       "    </tr>\n",
       "    <tr>\n",
       "      <th>3</th>\n",
       "      <td>Middle Eastern or South Asian</td>\n",
       "      <td>1.143402</td>\n",
       "      <td>1.033797</td>\n",
       "    </tr>\n",
       "    <tr>\n",
       "      <th>4</th>\n",
       "      <td>Native American</td>\n",
       "      <td>0.190567</td>\n",
       "      <td>0.198807</td>\n",
       "    </tr>\n",
       "    <tr>\n",
       "      <th>5</th>\n",
       "      <td>Pacific Islander</td>\n",
       "      <td>0.952835</td>\n",
       "      <td>0.834990</td>\n",
       "    </tr>\n",
       "    <tr>\n",
       "      <th>6</th>\n",
       "      <td>White</td>\n",
       "      <td>57.503573</td>\n",
       "      <td>53.677932</td>\n",
       "    </tr>\n",
       "  </tbody>\n",
       "</table>\n",
       "</div>"
      ],
      "text/plain": [
       "                            race  proportion_x  proportion_match\n",
       "0                          Asian      3.382563          5.884692\n",
       "1         Black/African American     15.626489         17.972167\n",
       "2              Hispanic/Latino/a     21.200572         20.397614\n",
       "3  Middle Eastern or South Asian      1.143402          1.033797\n",
       "4                Native American      0.190567          0.198807\n",
       "5               Pacific Islander      0.952835          0.834990\n",
       "6                          White     57.503573         53.677932"
      ]
     },
     "execution_count": 56,
     "metadata": {},
     "output_type": "execute_result"
    }
   ],
   "source": [
    "pd.merge(habit_race, habit_match_race, on = ['race']).drop(columns=['size_x', 'size_y']).rename(columns={'proportion_y':'proportion_match'})\n"
   ]
  },
  {
   "cell_type": "code",
   "execution_count": 57,
   "id": "54001ad8",
   "metadata": {},
   "outputs": [
    {
     "data": {
      "text/html": [
       "<div>\n",
       "<style scoped>\n",
       "    .dataframe tbody tr th:only-of-type {\n",
       "        vertical-align: middle;\n",
       "    }\n",
       "\n",
       "    .dataframe tbody tr th {\n",
       "        vertical-align: top;\n",
       "    }\n",
       "\n",
       "    .dataframe thead th {\n",
       "        text-align: right;\n",
       "    }\n",
       "</style>\n",
       "<table border=\"1\" class=\"dataframe\">\n",
       "  <thead>\n",
       "    <tr style=\"text-align: right;\">\n",
       "      <th></th>\n",
       "      <th>total</th>\n",
       "      <th>(percent, Asian)</th>\n",
       "      <th>(percent, Black/African American)</th>\n",
       "      <th>(percent, Hispanic/Latino/a)</th>\n",
       "      <th>(percent, Middle Eastern or South Asian)</th>\n",
       "      <th>(percent, Native American)</th>\n",
       "      <th>(percent, Pacific Islander)</th>\n",
       "      <th>(percent, White)</th>\n",
       "    </tr>\n",
       "    <tr>\n",
       "      <th>action</th>\n",
       "      <th></th>\n",
       "      <th></th>\n",
       "      <th></th>\n",
       "      <th></th>\n",
       "      <th></th>\n",
       "      <th></th>\n",
       "      <th></th>\n",
       "      <th></th>\n",
       "    </tr>\n",
       "  </thead>\n",
       "  <tbody>\n",
       "    <tr>\n",
       "      <th>No Action</th>\n",
       "      <td>1317</td>\n",
       "      <td>1</td>\n",
       "      <td>25</td>\n",
       "      <td>20</td>\n",
       "      <td>0</td>\n",
       "      <td>0</td>\n",
       "      <td>0</td>\n",
       "      <td>50</td>\n",
       "    </tr>\n",
       "    <tr>\n",
       "      <th>Warning</th>\n",
       "      <td>440</td>\n",
       "      <td>2</td>\n",
       "      <td>23</td>\n",
       "      <td>18</td>\n",
       "      <td>0</td>\n",
       "      <td>0</td>\n",
       "      <td>0</td>\n",
       "      <td>54</td>\n",
       "    </tr>\n",
       "    <tr>\n",
       "      <th>Citation</th>\n",
       "      <td>213</td>\n",
       "      <td>1</td>\n",
       "      <td>27</td>\n",
       "      <td>19</td>\n",
       "      <td>0</td>\n",
       "      <td>0</td>\n",
       "      <td>0</td>\n",
       "      <td>49</td>\n",
       "    </tr>\n",
       "    <tr>\n",
       "      <th>Arrested</th>\n",
       "      <td>65</td>\n",
       "      <td>1</td>\n",
       "      <td>23</td>\n",
       "      <td>19</td>\n",
       "      <td>0</td>\n",
       "      <td>0</td>\n",
       "      <td>0</td>\n",
       "      <td>53</td>\n",
       "    </tr>\n",
       "  </tbody>\n",
       "</table>\n",
       "</div>"
      ],
      "text/plain": [
       "           total  (percent, Asian)  (percent, Black/African American)  \\\n",
       "action                                                                  \n",
       "No Action   1317                 1                                 25   \n",
       "Warning      440                 2                                 23   \n",
       "Citation     213                 1                                 27   \n",
       "Arrested      65                 1                                 23   \n",
       "\n",
       "           (percent, Hispanic/Latino/a)  \\\n",
       "action                                    \n",
       "No Action                            20   \n",
       "Warning                              18   \n",
       "Citation                             19   \n",
       "Arrested                             19   \n",
       "\n",
       "           (percent, Middle Eastern or South Asian)  \\\n",
       "action                                                \n",
       "No Action                                         0   \n",
       "Warning                                           0   \n",
       "Citation                                          0   \n",
       "Arrested                                          0   \n",
       "\n",
       "           (percent, Native American)  (percent, Pacific Islander)  \\\n",
       "action                                                               \n",
       "No Action                           0                            0   \n",
       "Warning                             0                            0   \n",
       "Citation                            0                            0   \n",
       "Arrested                            0                            0   \n",
       "\n",
       "           (percent, White)  \n",
       "action                       \n",
       "No Action                50  \n",
       "Warning                  54  \n",
       "Citation                 49  \n",
       "Arrested                 53  "
      ]
     },
     "execution_count": 57,
     "metadata": {},
     "output_type": "execute_result"
    }
   ],
   "source": [
    "( habit_match.drop_duplicates(subset = ['stop_id', 'pid'])\n",
    "     .groupby('action')['stop_id']\n",
    "     .count()\n",
    "     .rename('total')\n",
    "     .to_frame()\n",
    "     .join(\n",
    "         lodge_match.groupby(['action','race'])['stop_id']\n",
    "         .count()\n",
    "         .rename('percent')\n",
    "         .to_frame()\n",
    "         .unstack()\n",
    "         .fillna(0)\n",
    "         .apply(lambda x: (100*x/x.sum()).astype(int) , axis=1)\n",
    "     )\n",
    ").reindex([\"No Action\", \"Warning\", \"Citation\", \"Arrested\"])"
   ]
  },
  {
   "cell_type": "code",
   "execution_count": 58,
   "id": "cdcc3385",
   "metadata": {},
   "outputs": [
    {
     "data": {
      "text/html": [
       "<div>\n",
       "<style scoped>\n",
       "    .dataframe tbody tr th:only-of-type {\n",
       "        vertical-align: middle;\n",
       "    }\n",
       "\n",
       "    .dataframe tbody tr th {\n",
       "        vertical-align: top;\n",
       "    }\n",
       "\n",
       "    .dataframe thead th {\n",
       "        text-align: right;\n",
       "    }\n",
       "</style>\n",
       "<table border=\"1\" class=\"dataframe\">\n",
       "  <thead>\n",
       "    <tr style=\"text-align: right;\">\n",
       "      <th></th>\n",
       "      <th>total</th>\n",
       "      <th>(percent, Arrested)</th>\n",
       "      <th>(percent, Citation)</th>\n",
       "      <th>(percent, No Action)</th>\n",
       "      <th>(percent, Parents Contacted)</th>\n",
       "      <th>(percent, Transported)</th>\n",
       "      <th>(percent, Warning)</th>\n",
       "    </tr>\n",
       "    <tr>\n",
       "      <th>race</th>\n",
       "      <th></th>\n",
       "      <th></th>\n",
       "      <th></th>\n",
       "      <th></th>\n",
       "      <th></th>\n",
       "      <th></th>\n",
       "      <th></th>\n",
       "    </tr>\n",
       "  </thead>\n",
       "  <tbody>\n",
       "    <tr>\n",
       "      <th>Black/African American</th>\n",
       "      <td>320</td>\n",
       "      <td>12</td>\n",
       "      <td>10</td>\n",
       "      <td>60</td>\n",
       "      <td>0</td>\n",
       "      <td>1</td>\n",
       "      <td>15</td>\n",
       "    </tr>\n",
       "    <tr>\n",
       "      <th>Hispanic/Latino/a</th>\n",
       "      <td>428</td>\n",
       "      <td>13</td>\n",
       "      <td>9</td>\n",
       "      <td>60</td>\n",
       "      <td>0</td>\n",
       "      <td>1</td>\n",
       "      <td>15</td>\n",
       "    </tr>\n",
       "    <tr>\n",
       "      <th>White</th>\n",
       "      <td>1173</td>\n",
       "      <td>14</td>\n",
       "      <td>9</td>\n",
       "      <td>57</td>\n",
       "      <td>0</td>\n",
       "      <td>1</td>\n",
       "      <td>17</td>\n",
       "    </tr>\n",
       "  </tbody>\n",
       "</table>\n",
       "</div>"
      ],
      "text/plain": [
       "                        total  (percent, Arrested)  (percent, Citation)  \\\n",
       "race                                                                      \n",
       "Black/African American    320                   12                   10   \n",
       "Hispanic/Latino/a         428                   13                    9   \n",
       "White                    1173                   14                    9   \n",
       "\n",
       "                        (percent, No Action)  (percent, Parents Contacted)  \\\n",
       "race                                                                         \n",
       "Black/African American                    60                             0   \n",
       "Hispanic/Latino/a                         60                             0   \n",
       "White                                     57                             0   \n",
       "\n",
       "                        (percent, Transported)  (percent, Warning)  \n",
       "race                                                                \n",
       "Black/African American                       1                  15  \n",
       "Hispanic/Latino/a                            1                  15  \n",
       "White                                        1                  17  "
      ]
     },
     "execution_count": 58,
     "metadata": {},
     "output_type": "execute_result"
    }
   ],
   "source": [
    "( habit_match.drop_duplicates(subset = ['stop_id', 'pid'])\n",
    "     .groupby('race')['stop_id']\n",
    "     .count()\n",
    "     .rename('total')\n",
    "     .to_frame()\n",
    "     .join(\n",
    "         lodge_match.groupby(['race','action'])['stop_id']\n",
    "         .count()\n",
    "         .rename('percent')\n",
    "         .to_frame()\n",
    "         .unstack()\n",
    "         .fillna(0)\n",
    "         .apply(lambda x: (100*x/x.sum()).astype(int) , axis=1)\n",
    "     )\n",
    ").drop( ['Asian','Middle Eastern or South Asian','Native American','Pacific Islander'])"
   ]
  },
  {
   "cell_type": "code",
   "execution_count": null,
   "id": "c5fef7b5",
   "metadata": {},
   "outputs": [],
   "source": []
  },
  {
   "cell_type": "markdown",
   "id": "bbfc8a46",
   "metadata": {},
   "source": [
    "When we look at the racial breakdown of these different offenses you will see that there’s some noticeable differences in racial composition for stops that are probably homelessness related and all stops or a very common traffic stop like speeding."
   ]
  },
  {
   "cell_type": "code",
   "execution_count": 59,
   "id": "7dc42a44",
   "metadata": {},
   "outputs": [
    {
     "data": {
      "text/plain": [
       "array(['602 PC - TRESPASSING (M) 32022',\n",
       "       '602(M) PC - TRESPASS:OCC PROP W/O CON (M) 32100',\n",
       "       '602(O) PC - TRESPAS:REFUSE LEAVE PROP (M) 32102',\n",
       "       '602.1(A) PC - TRESPASS OBSTR BUS OPRN (M) 32131',\n",
       "       '602(A) PC - TRESP:DESTROY STAND TIMBR (M) 32023'], dtype=object)"
      ]
     },
     "execution_count": 59,
     "metadata": {},
     "output_type": "execute_result"
    }
   ],
   "source": [
    "lodge[lodge.resulttext.str.lower().str.contains('tres', na = False)]['resulttext'].unique()"
   ]
  },
  {
   "cell_type": "code",
   "execution_count": 60,
   "id": "656dde5d",
   "metadata": {},
   "outputs": [],
   "source": [
    "lodging = ( lodge.drop_duplicates(subset=['pid','stop_id']).groupby('race')['stop_id'].count() \n",
    "    / lodge.drop_duplicates(subset=['pid','stop_id'])['stop_id'].count() \n",
    "    * 100 ).rename('illegal lodging (%)').to_frame()\n",
    "trespass = ( df[df.code.isin([32022, 32100,32102,32131])].groupby('race')['stop_id'].count() \n",
    "    / df[df.code.isin([32022, 32100,32102,32131])]['stop_id'].count() \n",
    "    * 100 ).rename('trespass (%)').to_frame()\n",
    "enroachment = ( encroach.drop_duplicates(subset=['pid','stop_id']).groupby('race')['stop_id'].count() \n",
    "    / encroach.drop_duplicates(subset=['pid','stop_id'])['stop_id'].count() \n",
    "    * 100 ).rename('encroachment (%)').to_frame()\n",
    "habitation = ( habit.drop_duplicates(subset=['pid','stop_id']).groupby('race')['stop_id'].count() \n",
    "    / habit.drop_duplicates(subset=['pid','stop_id'])['stop_id'].count() \n",
    "    * 100 ).rename('habitation (%)').to_frame()\n",
    "speeding = ( df.query('code == 54106').drop_duplicates(subset=['pid','stop_id']).groupby('race')['stop_id'].count() \n",
    "    / df.query('code == 54106').drop_duplicates(subset=['pid','stop_id'])['stop_id'].count() \n",
    "    * 100 ).rename('speeding (%)').to_frame()\n",
    "allstops =  ( df.drop_duplicates(subset=['pid','stop_id']).groupby('race')['stop_id'].count() \n",
    "    / df.drop_duplicates(subset=['pid','stop_id'])['stop_id'].count() \n",
    "    * 100 ).rename('all stops (%)').to_frame()"
   ]
  },
  {
   "cell_type": "code",
   "execution_count": null,
   "id": "39fc060e",
   "metadata": {},
   "outputs": [],
   "source": []
  },
  {
   "cell_type": "code",
   "execution_count": 61,
   "id": "2f077406",
   "metadata": {},
   "outputs": [
    {
     "data": {
      "text/html": [
       "<div>\n",
       "<style scoped>\n",
       "    .dataframe tbody tr th:only-of-type {\n",
       "        vertical-align: middle;\n",
       "    }\n",
       "\n",
       "    .dataframe tbody tr th {\n",
       "        vertical-align: top;\n",
       "    }\n",
       "\n",
       "    .dataframe thead th {\n",
       "        text-align: right;\n",
       "    }\n",
       "</style>\n",
       "<table border=\"1\" class=\"dataframe\">\n",
       "  <thead>\n",
       "    <tr style=\"text-align: right;\">\n",
       "      <th></th>\n",
       "      <th>all stops (%)</th>\n",
       "      <th>speeding (%)</th>\n",
       "      <th>trespass (%)</th>\n",
       "      <th>illegal lodging (%)</th>\n",
       "      <th>encroachment (%)</th>\n",
       "      <th>habitation (%)</th>\n",
       "    </tr>\n",
       "    <tr>\n",
       "      <th>race</th>\n",
       "      <th></th>\n",
       "      <th></th>\n",
       "      <th></th>\n",
       "      <th></th>\n",
       "      <th></th>\n",
       "      <th></th>\n",
       "    </tr>\n",
       "  </thead>\n",
       "  <tbody>\n",
       "    <tr>\n",
       "      <th>Asian</th>\n",
       "      <td>4.972261</td>\n",
       "      <td>11.287129</td>\n",
       "      <td>2.475433</td>\n",
       "      <td>1.858642</td>\n",
       "      <td>1.509489</td>\n",
       "      <td>3.382563</td>\n",
       "    </tr>\n",
       "    <tr>\n",
       "      <th>Black/African American</th>\n",
       "      <td>19.916583</td>\n",
       "      <td>9.549505</td>\n",
       "      <td>25.797014</td>\n",
       "      <td>24.848441</td>\n",
       "      <td>27.986216</td>\n",
       "      <td>15.626489</td>\n",
       "    </tr>\n",
       "    <tr>\n",
       "      <th>Hispanic/Latino/a</th>\n",
       "      <td>30.225097</td>\n",
       "      <td>30.752475</td>\n",
       "      <td>22.091366</td>\n",
       "      <td>20.514031</td>\n",
       "      <td>18.565257</td>\n",
       "      <td>21.200572</td>\n",
       "    </tr>\n",
       "    <tr>\n",
       "      <th>Middle Eastern or South Asian</th>\n",
       "      <td>2.846297</td>\n",
       "      <td>6.816832</td>\n",
       "      <td>1.177706</td>\n",
       "      <td>0.577195</td>\n",
       "      <td>0.553317</td>\n",
       "      <td>1.143402</td>\n",
       "    </tr>\n",
       "    <tr>\n",
       "      <th>Native American</th>\n",
       "      <td>0.223077</td>\n",
       "      <td>0.094059</td>\n",
       "      <td>0.435076</td>\n",
       "      <td>0.402948</td>\n",
       "      <td>0.349464</td>\n",
       "      <td>0.190567</td>\n",
       "    </tr>\n",
       "    <tr>\n",
       "      <th>Pacific Islander</th>\n",
       "      <td>0.837839</td>\n",
       "      <td>1.173267</td>\n",
       "      <td>0.547596</td>\n",
       "      <td>0.562675</td>\n",
       "      <td>0.582439</td>\n",
       "      <td>0.952835</td>\n",
       "    </tr>\n",
       "    <tr>\n",
       "      <th>White</th>\n",
       "      <td>40.978846</td>\n",
       "      <td>40.326733</td>\n",
       "      <td>47.475808</td>\n",
       "      <td>51.236069</td>\n",
       "      <td>50.453817</td>\n",
       "      <td>57.503573</td>\n",
       "    </tr>\n",
       "  </tbody>\n",
       "</table>\n",
       "</div>"
      ],
      "text/plain": [
       "                               all stops (%)  speeding (%)  trespass (%)  \\\n",
       "race                                                                       \n",
       "Asian                               4.972261     11.287129      2.475433   \n",
       "Black/African American             19.916583      9.549505     25.797014   \n",
       "Hispanic/Latino/a                  30.225097     30.752475     22.091366   \n",
       "Middle Eastern or South Asian       2.846297      6.816832      1.177706   \n",
       "Native American                     0.223077      0.094059      0.435076   \n",
       "Pacific Islander                    0.837839      1.173267      0.547596   \n",
       "White                              40.978846     40.326733     47.475808   \n",
       "\n",
       "                               illegal lodging (%)  encroachment (%)  \\\n",
       "race                                                                   \n",
       "Asian                                     1.858642          1.509489   \n",
       "Black/African American                   24.848441         27.986216   \n",
       "Hispanic/Latino/a                        20.514031         18.565257   \n",
       "Middle Eastern or South Asian             0.577195          0.553317   \n",
       "Native American                           0.402948          0.349464   \n",
       "Pacific Islander                          0.562675          0.582439   \n",
       "White                                    51.236069         50.453817   \n",
       "\n",
       "                               habitation (%)  \n",
       "race                                           \n",
       "Asian                                3.382563  \n",
       "Black/African American              15.626489  \n",
       "Hispanic/Latino/a                   21.200572  \n",
       "Middle Eastern or South Asian        1.143402  \n",
       "Native American                      0.190567  \n",
       "Pacific Islander                     0.952835  \n",
       "White                               57.503573  "
      ]
     },
     "execution_count": 61,
     "metadata": {},
     "output_type": "execute_result"
    }
   ],
   "source": [
    "allstops.join(speeding).join(trespass).join(lodging).join(enroachment).join(habitation)"
   ]
  },
  {
   "cell_type": "markdown",
   "id": "8b7b45af",
   "metadata": {},
   "source": [
    "In comparison, according to city census San Diego county population is about 6% Black, 17% Asian, 30% Hispanic, 42% White. According to county of San Diego 2022 Point-in-Time data, there is about 24% Black, 2% Asian, 66% White in homelessness population.\n",
    "\n",
    "There’s a substantial overrepresentation of Blacks in all stops and in homelessness related stops compared to the census data and homelessness racial data. However, it is notable that the overrepresentation goes away for speeding offenses.\n",
    "\n",
    "There is fewer Hispanics and Asians in homelessness related stops. Asians are notably low in every kind of stop, Hispancics are about where we’d expect them given population in all stops and speeding violations.\n",
    "\n",
    "Interestingly, there is more Whites in homelessness related stops and fewer in speeding."
   ]
  },
  {
   "cell_type": "markdown",
   "id": "ef6ee226",
   "metadata": {},
   "source": [
    "### GeoSpatial Analysis <a id='geo'></a>"
   ]
  },
  {
   "cell_type": "markdown",
   "id": "70f3eaf7",
   "metadata": {},
   "source": [
    "In this section, we will have a geospatial analysis on the homelessness-related traffic stops. We are going to create a geographic distribution on the homelessness-related traffic stops and see how it relates to the city bus stops and stations and area frequented by PEH (persons experiencing homelessness). \n",
    "\n",
    "We will first convert the address of homelessness-related stop data into coordinates and graph them in the map using folium api. Then we will load the area frequented by PEH data and city stops and stations data and add them as additional layer in the map.\n",
    "\n",
    "According to Defense Attorney Coleen Cusack, there are 8 primary area frequented by PEH: \n",
    " - 2500 - 2700 Sports Arena Blvd,\n",
    " - East Village spread over several blocks - 16th and 17th street, Imperial avenue, Market street, G street.\n",
    " \n",
    "**Note**: Bus stops and stations of San Diego City in San Diego County can be found and downloaded in [here](https://mygeodata.cloud/data/download/osm/bus-stops-and-stations/united-states-of-america--california/san-diego-county/san-diego)"
   ]
  },
  {
   "cell_type": "markdown",
   "id": "3fa6a1cc",
   "metadata": {},
   "source": [
    "**Data Preparation**\n",
    "\n",
    "We first check the missing address data in order to get the sense of how many homelessness-related stop we are going to miss in the geospatial analysis."
   ]
  },
  {
   "cell_type": "code",
   "execution_count": null,
   "id": "4674e5aa",
   "metadata": {},
   "outputs": [],
   "source": [
    "# duplicate result_df dataframe\n",
    "addr_df = result_df.copy()\n",
    "addr_ele = ['intersection','address_block', 'land_mark', 'address_street', 'address_city']\n",
    "addr_df[addr_ele] = addr_df[addr_ele].replace('', np.nan)\n",
    "\n",
    "\n",
    "# check the percentage of missing address data\n",
    "print(\"The percentage of missing data in each address element are\")\n",
    "print(addr_df[addr_ele].isna().sum() / result_df.shape[0] * 100)"
   ]
  },
  {
   "cell_type": "code",
   "execution_count": null,
   "id": "728232a0",
   "metadata": {},
   "outputs": [],
   "source": [
    "print(\"The perecent of missing both address_block and intersection is\",\n",
    "      (1 - addr_df[['address_block','intersection']].dropna(how = 'all').shape[0] / addr_df.shape[0]) * 100)\n",
    "print(\"The perecent of missing both address_block and land_mark is\",\n",
    "      (1 - addr_df[['address_block','land_mark']].dropna(how = 'all').shape[0] / addr_df.shape[0]) * 100)"
   ]
  },
  {
   "cell_type": "markdown",
   "id": "05e872fd",
   "metadata": {},
   "source": [
    "Then, we construct a new column that contains the full address of the homeless-related stops."
   ]
  },
  {
   "cell_type": "code",
   "execution_count": null,
   "id": "1e0e9818",
   "metadata": {},
   "outputs": [],
   "source": [
    "# construct a column of the full address of stops\n",
    "addr_df = addr_df.dropna(subset = addr_ele[:-1], how = 'all')\n",
    "addr_df['address_block'] = addr_df['address_block'].astype('Int64').astype(str).replace('<NA>', '')\n",
    "addr_df['full_address'] = addr_df[addr_ele[:-1]].apply(lambda x: x.str.cat(sep=' '), axis=1)\n",
    "\n",
    "# add state and country in full address to enforce the coordinates conversion\n",
    "addr_df['full_address'] = addr_df['full_address'].apply(lambda x: x + \", San Diego, California, United States\" if x != '' else '')"
   ]
  },
  {
   "cell_type": "markdown",
   "id": "3ed25932",
   "metadata": {},
   "source": [
    "Using geopy.geocoders api, we convert the full address into coordinates."
   ]
  },
  {
   "cell_type": "code",
   "execution_count": null,
   "id": "ae3414f1",
   "metadata": {},
   "outputs": [],
   "source": [
    "from geopy.geocoders import Nominatim\n",
    "from geopy.extra.rate_limiter import RateLimiter\n",
    "\n",
    "geolocator = Nominatim(timeout=10, user_agent = 'myGeolocator')#\"myGeocoder\")"
   ]
  },
  {
   "cell_type": "code",
   "execution_count": null,
   "id": "533aabac",
   "metadata": {
    "scrolled": true
   },
   "outputs": [],
   "source": [
    "addr_df['geocodes'] = addr_df['full_address'].apply(geolocator.geocode, country_codes='usa')\n",
    "\n",
    "# separate the latitude and longitude from geocode \n",
    "addr_df['lat'] = addr_df['geocodes'].apply(lambda x: x.latitude if x else None)\n",
    "addr_df['lon'] = addr_df['geocodes'].apply(lambda x: x.longitude if x else None)\n",
    "\n",
    "addr_df.drop(columns='datetime_stop').to_csv('osm_df.csv')"
   ]
  },
  {
   "cell_type": "code",
   "execution_count": null,
   "id": "06fb5b54",
   "metadata": {},
   "outputs": [],
   "source": [
    "addr_df = pd.read_csv('osm_df.csv').drop(['Unnamed: 0'], axis = 1)"
   ]
  },
  {
   "cell_type": "markdown",
   "id": "ae64b7ef",
   "metadata": {},
   "source": [
    "After conversion, we check how many stop is fail to convert into coordinates in addition to remove the stops that have incorrect coordinate (stop locations that detected by geopy api result in city is not in San Diego county)."
   ]
  },
  {
   "cell_type": "code",
   "execution_count": null,
   "id": "7db06b78",
   "metadata": {},
   "outputs": [],
   "source": [
    "# check the number of fail coordinates convertion\n",
    "geo_df = addr_df.dropna(subset = ['lon', 'lat'])\n",
    "print(\"The percent of fail to convert is:\", (1 - geo_df.shape[0] / result_df.shape[0]) * 100,\n",
    "     \"% which are\", result_df.shape[0] - geo_df.shape[0], \"stops\")"
   ]
  },
  {
   "cell_type": "markdown",
   "id": "a8d1d71f",
   "metadata": {},
   "source": [
    "**Fixing Coordinates Errors**\n",
    "\n",
    "To filter the coordinates inside San Diego boundaries we need to get these boundaries from the San Diego census tract geojson file which can be found at this [link](https://sdgis-sandag.opendata.arcgis.com/datasets/SANDAG::census-tracts/about)."
   ]
  },
  {
   "cell_type": "code",
   "execution_count": null,
   "id": "96c5a8b8",
   "metadata": {},
   "outputs": [],
   "source": [
    "# creating a geodataframe from San Diego census tract geojson\n",
    "import geopandas as gpd\n",
    "\n",
    "sd = gpd.read_file(\"Census_ZIP.geojson\")\n",
    "sd.plot()"
   ]
  },
  {
   "cell_type": "code",
   "execution_count": null,
   "id": "c4c95201",
   "metadata": {},
   "outputs": [],
   "source": [
    "sd"
   ]
  },
  {
   "cell_type": "code",
   "execution_count": null,
   "id": "0cd67ae2",
   "metadata": {},
   "outputs": [],
   "source": [
    "# create a geodataframe for the homeless-related stops\n",
    "from shapely.geometry import Point\n",
    "\n",
    "gdf = gpd.GeoDataFrame(geo_df,\n",
    "                       crs = sd.crs,\n",
    "                       geometry = [Point(xy) for xy in zip(geo_df.lon, geo_df.lat)])"
   ]
  },
  {
   "cell_type": "code",
   "execution_count": null,
   "id": "269e3bc8",
   "metadata": {},
   "outputs": [],
   "source": [
    "# separate the geodataframe by spatial relationship\n",
    "difference = gpd.overlay(gdf, sd, how = \"symmetric_difference\")\n",
    "intersection = gpd.overlay(gdf, sd, how = \"intersection\")\n",
    "\n",
    "# found 1 coordinates errors\n",
    "len(difference)"
   ]
  },
  {
   "cell_type": "code",
   "execution_count": null,
   "id": "1828cad9",
   "metadata": {},
   "outputs": [],
   "source": [
    "difference"
   ]
  },
  {
   "cell_type": "code",
   "execution_count": null,
   "id": "2d59ca59",
   "metadata": {},
   "outputs": [],
   "source": [
    "# check how much data we have for geospatial analysis \n",
    "print(\"The percent of homeless-related data we lose in the coordinate conversion:\", \n",
    "      (1 - intersection.shape[0] / result_df.shape[0]) * 100)\n",
    "print(\"We have\", intersection.shape[0], \"homeless_related stops for the following geospatial analysis\")"
   ]
  },
  {
   "cell_type": "markdown",
   "id": "ca5ff86e",
   "metadata": {},
   "source": [
    "There are 8850 stops we lost from coordinates conversion including 8849 stops fail to convert and 1 stop with incorrect coordinates. While we keeping updating our keyword parsing system to have more accurate homelessness-related stops, it is time-consuming to run the coordinate conversion. We are considering using Google Geocoding API for a faster and more accurate conversion.\n"
   ]
  },
  {
   "cell_type": "markdown",
   "id": "cb294f27",
   "metadata": {},
   "source": [
    "Import the encampment locations provided by defense attorney Coleen Cusack and bus stops and stations coordinates so that we can later visualize them in order to see the geographic relation between homless-related stops and them. "
   ]
  },
  {
   "cell_type": "code",
   "execution_count": null,
   "id": "c444cf57",
   "metadata": {},
   "outputs": [],
   "source": [
    "# get the gelocation of some big homeless encampment in San Diego\n",
    "encamp = [\"2500 Sports Arena Blvd, San Diego\", \n",
    "          \"2600 Sports Arena Blvd, San Diego\", \n",
    "          \"2700 Sports Arena Blvd, San Diego\",\n",
    "          \"16th street, San Diego\", \n",
    "          \"299 17th street, San Diego\", \n",
    "          \"Imperial avenue, San Diego\",\n",
    "          \"Market street, San Diego\", \n",
    "          \"G street, San Diego\"]\n",
    "\n",
    "encamp_lon = []\n",
    "encamp_lat = []\n",
    "for x in encamp:\n",
    "    encamp_lat.append(geolocator.geocode(x).latitude)\n",
    "    encamp_lon.append(geolocator.geocode(x).longitude)\n",
    "\n",
    "encamp_df = pd.DataFrame({'address': encamp, 'lon':encamp_lon, 'lat':encamp_lat})"
   ]
  },
  {
   "cell_type": "code",
   "execution_count": null,
   "id": "302371c0",
   "metadata": {},
   "outputs": [],
   "source": [
    "# import the San Diego bus stops and stations data\n",
    "bus_stops = pd.read_csv('bus_stop_point.csv')\n",
    "bus_stops.head()"
   ]
  },
  {
   "cell_type": "markdown",
   "id": "1feef607",
   "metadata": {},
   "source": [
    "#### Folium"
   ]
  },
  {
   "cell_type": "markdown",
   "id": "9da53813",
   "metadata": {},
   "source": [
    "Using folium api, we are able to create a geographic distribution of homelessness-related stop in to a map."
   ]
  },
  {
   "cell_type": "code",
   "execution_count": null,
   "id": "399021a0",
   "metadata": {},
   "outputs": [],
   "source": [
    "import folium\n",
    "from folium.plugins import HeatMap\n",
    "from folium.plugins import BeautifyIcon"
   ]
  },
  {
   "cell_type": "markdown",
   "id": "fb2a8838",
   "metadata": {},
   "source": [
    "The following map is the general scatter geographic plot of how the homeless-related stop spread out."
   ]
  },
  {
   "cell_type": "code",
   "execution_count": null,
   "id": "07f98100",
   "metadata": {},
   "outputs": [],
   "source": [
    "# cluster \n",
    "cluster = folium.Map(location=[32.8801,-117.2340], zoom_start=10)\n",
    "\n",
    "for i,r in intersection.iterrows():\n",
    "    folium.CircleMarker([r['lat'], r['lon']],\n",
    "                        #Make color/style changes here\n",
    "                        radius = 1,\n",
    "                        color = 'blue'\n",
    "          ).add_to(cluster)\n",
    "cluster"
   ]
  },
  {
   "cell_type": "markdown",
   "id": "521a42df",
   "metadata": {},
   "source": [
    "**HeatMap Plugin**\n",
    "\n",
    "A heat map is a data visualization technique that represents the magnitude of a phenomenon in color on two dimensions. The change in color can be a change in intensity, providing readers with obvious visual clues as to how the phenomenon aggregates or changes in space. I will use the HeatMap plugin to demonstrate how the overall homelessness-related traffic stops in San Diego are geographically distributed and where there are strong clusters."
   ]
  },
  {
   "cell_type": "code",
   "execution_count": null,
   "id": "35c1197b",
   "metadata": {},
   "outputs": [],
   "source": [
    "# heat map\n",
    "hm = folium.Map(location=[32.8801,-117.2340], zoom_start=10)\n",
    "\n",
    "# add bus stops/stations\n",
    "for i,r in bus_stops.iterrows():\n",
    "    folium.CircleMarker([r['Y'], r['X']],\n",
    "                        #Make color/style changes here\n",
    "                        radius = 1,\n",
    "                        color = 'pink',\n",
    "                        opacity = 0.3\n",
    "          ).add_to(hm)\n",
    "    \n",
    "HeatMap(\n",
    "    list(zip(intersection.lat.values, intersection.lon.values)),\n",
    "    min_opacity=0.2,\n",
    "    radius=17, \n",
    "    blur=15, \n",
    "    max_zoom=1,\n",
    ").add_to(hm)\n",
    "\n",
    "for i in range(0,len(encamp_df)):\n",
    "    folium.Marker([encamp_df['lat'][i], encamp_df['lon'][i]],\n",
    "                       radius = 4,\n",
    "                       color = \"purple\").add_to(hm)\n",
    "\n",
    "hm"
   ]
  },
  {
   "cell_type": "markdown",
   "id": "709d3cae",
   "metadata": {},
   "source": [
    "The pink dots are the bus stops and station in San Diego, and the purple dots are the areas that frequented by PEH. From the heat map we can tell that a large portion of the homeless-related stops occurred in the East Village area of San Diego, particularly in 16th and 17th Street, catering to the large homeless encampment mentioned by defense attorney Coleen Cusack. In addition to this, the distribution of stops appears to converge on the distribution of bus stops in San Diego. However, we could not yet determine the strength of their relationship until a model test is done. In the future, I will use the poisson point process to create a model to calculate how the geographic distribution of homeless-related stops is associated with bus stops or with the population size of the area."
   ]
  },
  {
   "cell_type": "markdown",
   "id": "22c26197",
   "metadata": {},
   "source": [
    "**Create Time Lapse Heat Map by HeatMapWithTime Plugin**\n",
    "\n",
    "Basically, HeatMapWithTime is an extension of HeatMap, but we display the data on heat map over time. It can also create an animation of the heat map that we can pause, play, loop, and also play at different speeds."
   ]
  },
  {
   "cell_type": "code",
   "execution_count": null,
   "id": "26d6b2ed",
   "metadata": {},
   "outputs": [],
   "source": [
    "from folium.plugins import HeatMapWithTime\n",
    "import branca.colormap\n",
    "from collections import defaultdict\n",
    "import webbrowser"
   ]
  },
  {
   "cell_type": "markdown",
   "id": "1cc55223",
   "metadata": {},
   "source": [
    "The time index can be specified with addition to the number of stops throughout a month, allowing a more meaningful representation of what the time steps mean."
   ]
  },
  {
   "cell_type": "code",
   "execution_count": null,
   "id": "f730d70b",
   "metadata": {},
   "outputs": [],
   "source": [
    "month_index = []\n",
    "for x in geo_df['year-month'].sort_values().unique():\n",
    "    month_index.append(str(x) + \" (\" + str(len(geo_df.loc[geo_df['year-month'] == x])) + \")\")"
   ]
  },
  {
   "cell_type": "markdown",
   "id": "2ade1e35",
   "metadata": {},
   "source": [
    "In order to control intensity shown on the map, each data entry needs to have a weight which should be between 0 and 1. "
   ]
  },
  {
   "cell_type": "code",
   "execution_count": null,
   "id": "226284b0",
   "metadata": {},
   "outputs": [],
   "source": [
    "intersection['conta'] = 1\n",
    "weighted_list = []\n",
    "\n",
    "for x in intersection['year-month'].sort_values().unique():\n",
    "    weighted_list.append(intersection.loc[intersection['year-month'] == x,\n",
    "                               ['lat', 'lon', 'conta']].groupby(['lat', 'lon'])\n",
    "                         .sum().reset_index().values.tolist())\n"
   ]
  },
  {
   "cell_type": "code",
   "execution_count": null,
   "id": "3e513b98",
   "metadata": {},
   "outputs": [],
   "source": [
    "color = branca.colormap.linear.Spectral_04.colors\n",
    "color.reverse()"
   ]
  },
  {
   "cell_type": "code",
   "execution_count": null,
   "id": "bf58417a",
   "metadata": {},
   "outputs": [],
   "source": [
    "# base map\n",
    "hmt = folium.Map(location=[32.8801,-117.2340], zoom_start=10)\n",
    "\n",
    "# add legend bar\n",
    "steps = 10\n",
    "colormap = branca.colormap.LinearColormap(colors=color).scale(0, 1).to_step(steps)\n",
    "gradient_map = {}\n",
    "for i in range(steps):\n",
    "    gradient_map[1/steps*i] = colormap.rgb_hex_str(1/steps*i)\n",
    "colormap.add_to(hmt) #add color bar at the top of the map  \n",
    "\n",
    "# add bus stops/stations\n",
    "for i,r in bus_stops.iterrows():\n",
    "    folium.CircleMarker([r['Y'], r['X']],\n",
    "                        #Make color/style changes here\n",
    "                        radius = 1,\n",
    "                        color = 'gray',\n",
    "                        opacity = 0.3\n",
    "          ).add_to(hmt)\n",
    "    \n",
    "# add plugin to map\n",
    "HeatMapWithTime(\n",
    "    weighted_list,\n",
    "    index = month_index,\n",
    "    radius = 10,\n",
    "    gradient = gradient_map,\n",
    "    min_opacity = 0.5,\n",
    "    max_opacity = 0.9,\n",
    "    use_local_extrema = True,\n",
    "    auto_play = True\n",
    ").add_to(hmt)\n",
    "\n",
    "# add area frequented by PEH marker\n",
    "for i in range(0,len(encamp_df)):\n",
    "    folium.CircleMarker([encamp_df['lat'][i], encamp_df['lon'][i]],\n",
    "                       radius = 4,\n",
    "                       color = \"purple\"\n",
    "                       ).add_to(hmt)\n",
    "    \n",
    "hmt.save(\"heatmapwtime.html\")\n",
    "hmt"
   ]
  },
  {
   "cell_type": "markdown",
   "id": "bd778767",
   "metadata": {},
   "source": [
    "Geospatial visualization is a powerful method of storytelling, especially with heat maps. I use HeatMapWithTime to use coordinates and time to convey intercept location changes. The gray dots are the bus stops and station in San Diego, and the purple markers are the areas that frequented by PEH. The intersection area of Imperial Avenue and 16th\\17th Street is the most crowded area followed by Sports Arena Boulevard. Furthermore, the number of stops decreases after the start of the coronavirus pandemic, but the homeless-related stops converge more on the city bus route."
   ]
  },
  {
   "cell_type": "markdown",
   "id": "f21a18ae",
   "metadata": {},
   "source": [
    "Route time and distance"
   ]
  },
  {
   "cell_type": "code",
   "execution_count": null,
   "id": "933aa07e",
   "metadata": {},
   "outputs": [],
   "source": [
    "# calculate the distance and time of the route to each encampment"
   ]
  },
  {
   "cell_type": "code",
   "execution_count": null,
   "id": "5366b122",
   "metadata": {},
   "outputs": [],
   "source": [
    "from route import *\n",
    "\n",
    "route = intersection\n",
    "for i, r in encamp_df.iterrows():\n",
    "    route = commute_time(route, str(i), zip(r['lon'], r['lat']), 'foot-walking')"
   ]
  },
  {
   "cell_type": "code",
   "execution_count": null,
   "id": "a3ae0a46",
   "metadata": {},
   "outputs": [],
   "source": [
    "route"
   ]
  },
  {
   "cell_type": "markdown",
   "id": "d1e5023d",
   "metadata": {},
   "source": [
    "## Preliminary CDCR Data Breakdowns and Analysis <a id =cdcr></a>\n",
    "\n",
    "CDCR stands for California Department of Corrections and Rehabilitation that manages the State of California's prison system. We sent a Public Record Act (PRA) requests in summer 2022 that asked for a list of all felon inmates in a CDCR institution (exclude offenders under the age of 18 and those who CDCR have determined pose a danger to themselves or CDCR) between 1 July 2012 and 1 July 2022. The list contains the following data elements:\n",
    "- Latest CDCR Number\n",
    "- Current Age \n",
    "- Race (as of the file date)\n",
    "- Ethnicity (as of the file date)\n",
    "- County of Last Legal Residence (at time of release)\n",
    "- Controlling Offense\n",
    "- Name of Sentencing Judge\n",
    "- Sentence (aggregate sentence in months)\n",
    "- Date CDCR commitment began (admission/return date)\n",
    "- Release Date (for inmates still in custody, this field is blank)\n",
    "\n",
    "In this section, we are going to have a very preliminary data analysis on the CDCR data since we receive this data very recently. \n",
    "\n",
    "**Note**: CDCR PRA request and data can be found through [Public Records Archive](https://californiacdcr.govqa.us/WEBAPP/_rs/(S(fs4bbcmqt1oxrxmpyuimr4zu))/openrecordssummary.aspx?view=1&sSessionID=10713234206NQYLMAIHWDKKWISNSBBRKSLDGJMJT) with the reference number `C006029-071222`.\n"
   ]
  },
  {
   "cell_type": "code",
   "execution_count": null,
   "id": "20460ca0",
   "metadata": {},
   "outputs": [],
   "source": [
    "cdcr = pd.read_excel('C006029-071222.xlsx')\n",
    "cdcr.head()"
   ]
  },
  {
   "cell_type": "code",
   "execution_count": null,
   "id": "ab9bf8a2",
   "metadata": {},
   "outputs": [],
   "source": [
    "# check the percentage of missing data\n",
    "print(\"The percentage of missing information in the CDCR data are\")\n",
    "print(cdcr.isna().sum() / cdcr.shape[0] * 100)"
   ]
  },
  {
   "cell_type": "code",
   "execution_count": null,
   "id": "ba5e0ff3",
   "metadata": {},
   "outputs": [],
   "source": [
    "# missingno package allows for visualization of missing data within cdcr data\n",
    "msno.bar(cdcr)"
   ]
  },
  {
   "cell_type": "markdown",
   "id": "6a56a15f",
   "metadata": {},
   "source": [
    "There are total 402339 cases been recorded by CDCR within the past 10 years. Approximately 19% of the overall data are missing release date, which may be because some inmates are still serving their sentences. Moreover, about 0.75% of the entire data is missing the judge's name, which may slightly lead to future implications for the CDCR sentencing analysis in San Diego County because I will use the judge's name as a cross-reference to find the sentencing location of each CDCR inmate."
   ]
  },
  {
   "cell_type": "code",
   "execution_count": null,
   "id": "d0b60dc3",
   "metadata": {},
   "outputs": [],
   "source": [
    "cdcr.describe()"
   ]
  },
  {
   "cell_type": "code",
   "execution_count": null,
   "id": "bb806428",
   "metadata": {},
   "outputs": [],
   "source": [
    "# check the top sentence group by race\n",
    "cdcr_sentence = cdcr.groupby(['Sentence (in months)', 'Race'], as_index = False).size().sort_values(['Sentence (in months)'])\n",
    "cdcr_sentence[:17]"
   ]
  },
  {
   "cell_type": "markdown",
   "id": "8a201974",
   "metadata": {},
   "source": [
    "From the above charts, the average sentence duration for the felon inmates who are provided from CDCR is $1638.33$ months ($\\thicksim 136$ years) with the average current age of 41. It is noticable that the maximum of sentence duration is $1000000$ months($\\thicksim 83333$ years). According to \"What’s the Point of Sentencing Anyone to 141,000 Years in Prison?\" by Eric Grundhauser, the reason for sentencing a person to hundreds or even thousands of years of imprisonment in the United States is the admission of multiple crimes committed by the same person and each count represents a victim [[4](#ref4)]. However, it is exploration-worthy that why some felon inmates received a **zero** day of sentence? In addition, the number of Blacks and Hispanic of receving 0 day sentence is higher than Whites."
   ]
  },
  {
   "cell_type": "markdown",
   "id": "1dc70068",
   "metadata": {},
   "source": [
    "**Time Trends with CDCR Commitment Date**\n",
    "\n",
    "The below historgram shows the temporal changes of the amount of CDCR cases based on their commitment beginning date. However, there are some expected cases before 2012 which is not in the time range we asked for."
   ]
  },
  {
   "cell_type": "code",
   "execution_count": null,
   "id": "9d10a8e7",
   "metadata": {},
   "outputs": [],
   "source": [
    "sns.histplot(data=cdcr, x='Date CDCR commitment began', kde=True)"
   ]
  },
  {
   "cell_type": "code",
   "execution_count": null,
   "id": "b8d86265",
   "metadata": {},
   "outputs": [],
   "source": [
    "cdcr['Date CDCR commitment began'].min()"
   ]
  },
  {
   "cell_type": "markdown",
   "id": "99fbaa7f",
   "metadata": {},
   "source": [
    "Take a look on the overall racial breakdown:"
   ]
  },
  {
   "cell_type": "code",
   "execution_count": null,
   "id": "6971325a",
   "metadata": {
    "scrolled": true
   },
   "outputs": [],
   "source": [
    "# racial breakdown of the cdcr sentence data\n",
    "cdcr_race =  cdcr.groupby(['Race'], as_index=False).size()\n",
    "cdcr_race['proportion'] = cdcr_race['size'] / cdcr_race['size'].sum() * 100\n",
    "cdcr_race"
   ]
  },
  {
   "cell_type": "markdown",
   "id": "3938ce73",
   "metadata": {},
   "source": [
    "California census data show that Whites alone account for 61.6%; Blacks only 12.4%; Latinos 18.7%; and Asians only 6%. There is substantial overrepresentation of Blacks and Hispanics compared to the state census data. The proportion of Asians and Whites are noticable low in the sentence data. "
   ]
  },
  {
   "cell_type": "markdown",
   "id": "0ccf17fc",
   "metadata": {},
   "source": [
    " We want to group the cases by sentencing over 1 year, 10 years, and 100 years in order to look for any racial distribution difference in different sentence time."
   ]
  },
  {
   "cell_type": "code",
   "execution_count": null,
   "id": "21681aec",
   "metadata": {},
   "outputs": [],
   "source": [
    "sentence_1yr = cdcr[cdcr['Sentence (in months)'] >= 12].groupby(['Race'], as_index=False).size()\n",
    "sentence_1yr['proportion'] = sentence_1yr['size'] / sentence_1yr['size'].sum() * 100\n",
    "sentence_1yr"
   ]
  },
  {
   "cell_type": "code",
   "execution_count": null,
   "id": "43ff0fb4",
   "metadata": {},
   "outputs": [],
   "source": [
    "sentence_10yrs = cdcr[cdcr['Sentence (in months)'] >= 120].groupby(['Race'], as_index=False).size()\n",
    "sentence_10yrs['proportion'] = sentence_10yrs['size'] / sentence_10yrs['size'].sum() * 100\n",
    "sentence_10yrs"
   ]
  },
  {
   "cell_type": "code",
   "execution_count": null,
   "id": "03133bf6",
   "metadata": {
    "scrolled": true
   },
   "outputs": [],
   "source": [
    "sentence_100yrs = cdcr[cdcr['Sentence (in months)'] >= 1200].groupby(['Race'], as_index=False).size()\n",
    "sentence_100yrs['proportion'] = sentence_100yrs['size'] / sentence_100yrs['size'].sum() * 100\n",
    "sentence_100yrs"
   ]
  },
  {
   "cell_type": "markdown",
   "id": "8283efd3",
   "metadata": {},
   "source": [
    "Interestingly, the percentage of Blacks significantly increases as the sentence duration increases. On the other hand, the percentage of Hispanics and Whites decrease as the sentence duration increases."
   ]
  },
  {
   "cell_type": "markdown",
   "id": "23621523",
   "metadata": {},
   "source": [
    "**The Composition of CDCR Offenses**"
   ]
  },
  {
   "cell_type": "code",
   "execution_count": null,
   "id": "c5e67e1e",
   "metadata": {},
   "outputs": [],
   "source": [
    "common_crime = cdcr.groupby('Controlling Offense', as_index=False).size().sort_values(['size'], ascending=False)\n",
    "common_crime['proportion'] = common_crime['size'] / common_crime['size'].sum() * 100\n",
    "common_crime.cumsum().iloc[:37]"
   ]
  },
  {
   "cell_type": "markdown",
   "id": "c453e4b0",
   "metadata": {},
   "source": [
    "From above, top 37 crimes takes proportion of the 80% of the entire data. Thus, we will pick some specific crime to test their racial composition comparing to the corresponding crime in RIPA data. We want to see whether or not these crimes are racially disproportionate than expected."
   ]
  },
  {
   "cell_type": "markdown",
   "id": "e61ad37b",
   "metadata": {},
   "source": [
    "# Racial differences \n",
    "- crimes that might be inappropriate / difference racial compositions than expected\n",
    "    - compare to that crime's RIPA data (this is best)\n",
    "    - compare to general population of all prisoners (this is better)\n",
    "    - compare to CA population (this is weak)\n",
    "- top 37 crimes takes proportion of the 80% of the entire data\n",
    "- get RIPA data to compare across all of CA, or if not avail then get top metro areas and combine\n"
   ]
  },
  {
   "cell_type": "code",
   "execution_count": null,
   "id": "6fcce675",
   "metadata": {},
   "outputs": [],
   "source": [
    "## Find out the sentence region by cross-referencing the judge name on the judge duty location"
   ]
  },
  {
   "cell_type": "code",
   "execution_count": null,
   "id": "0ce348f4",
   "metadata": {},
   "outputs": [],
   "source": [
    "former = pd.read_csv('Former judges.csv', header = 1).drop(columns = \"State\")\n",
    "born_died = former['Born–died'].str.split('–',n = 1, expand = True)\n",
    "former['Born'] = born_died[0]\n",
    "former['Died'] = born_died[1]\n",
    "former = former.drop(columns='Born–died')\n",
    "current = pd.read_csv(\"Current judges.csv\", header = 1).drop(columns = ['Title', 'Duty station'])\n",
    "current = current.rename(columns={'Active':'Active service','Chief':'Chief Judge','Senior':'Senior status'})\n",
    "superior = pd.read_csv('superior court judges.csv').rename(columns = {'Tenure': 'Active service', 'Appointed By': 'Appointed by'})\n",
    "sd_judge = pd.concat([former,current,superior])\n",
    "sd_judge"
   ]
  },
  {
   "cell_type": "code",
   "execution_count": null,
   "id": "1ef6db51",
   "metadata": {},
   "outputs": [],
   "source": [
    "from nameparser import HumanName"
   ]
  },
  {
   "cell_type": "code",
   "execution_count": null,
   "id": "86c3a637",
   "metadata": {},
   "outputs": [],
   "source": [
    "cdcr_judge = []\n",
    "null_list = cdcr[cdcr['Judge\\'s Name'].isnull()].index.tolist()\n",
    "for i in range(len(cdcr['Judge\\'s Name'])):\n",
    "    if i in null_list:\n",
    "        cdcr_judge.append(1)\n",
    "    else:\n",
    "        name = HumanName(cdcr['Judge\\'s Name'][i])\n",
    "        cdcr_judge.append(name.first + \" \" + name.last)"
   ]
  },
  {
   "cell_type": "code",
   "execution_count": null,
   "id": "7e300326",
   "metadata": {},
   "outputs": [],
   "source": [
    "cdcr['Judge'] = cdcr_judge"
   ]
  },
  {
   "cell_type": "code",
   "execution_count": null,
   "id": "15814b58",
   "metadata": {},
   "outputs": [],
   "source": [
    "sd_judge['Name'] = sd_judge['Judge'].apply(lambda x: HumanName(x).first + ' ' + HumanName(x).last)\n",
    "sd_judge"
   ]
  },
  {
   "cell_type": "code",
   "execution_count": null,
   "id": "834894d6",
   "metadata": {},
   "outputs": [],
   "source": [
    "sd_cases = cdcr[cdcr['Judge'].isin(sd_judge['Name'])]\n",
    "sd_cases"
   ]
  },
  {
   "cell_type": "code",
   "execution_count": null,
   "id": "c4c46cc6",
   "metadata": {},
   "outputs": [],
   "source": [
    "print(sd_cases['Date CDCR commitment began'].min(), sd_cases['Date CDCR commitment began'].max())"
   ]
  },
  {
   "cell_type": "code",
   "execution_count": null,
   "id": "ce93a744",
   "metadata": {},
   "outputs": [],
   "source": [
    "sd_cases['Date CDCR commitment began'].hist(bins = 53)"
   ]
  },
  {
   "cell_type": "code",
   "execution_count": null,
   "id": "37b838c1",
   "metadata": {},
   "outputs": [],
   "source": [
    "cases_after2012 = sd_cases[sd_cases['Date CDCR commitment began'] >= '2012-07-01']\n",
    "cases_after2012"
   ]
  },
  {
   "cell_type": "code",
   "execution_count": null,
   "id": "b8d4525a",
   "metadata": {},
   "outputs": [],
   "source": [
    "common_crime = cases_after2012.groupby('Controlling Offense', as_index=False).size().sort_values(['size'], ascending=False)\n",
    "common_crime['proportion'] = common_crime['size'] / common_crime['size'].sum() * 100\n",
    "common_crime.iloc[:15]#.cumsum()"
   ]
  },
  {
   "cell_type": "markdown",
   "id": "194e6d78",
   "metadata": {},
   "source": [
    "racial breakdown before cases above 500+ or top 10 offense"
   ]
  },
  {
   "cell_type": "markdown",
   "id": "32abb01c",
   "metadata": {},
   "source": [
    "#### Crime 1 - PC 459\n",
    "The most common crime of CDCR data in San Diego cases is `PC459`.\n",
    "    \n",
    "    The crime of burglary under California Penal Code Section 459 PC requires a prosecutor to prove the following elements: The defendant entered a building, room within a building or locked vehicle AND. When he or she entered into the building, room or vehicle, he or she intended to commit theft or a felony."
   ]
  },
  {
   "cell_type": "code",
   "execution_count": null,
   "id": "e02d8837",
   "metadata": {},
   "outputs": [],
   "source": [
    "crime1 = cases_after2012[cases_after2012['Controlling Offense'] == \"PC459\"]"
   ]
  },
  {
   "cell_type": "code",
   "execution_count": null,
   "id": "891a3c5c",
   "metadata": {},
   "outputs": [],
   "source": [
    "# breaking down + graphing racial distribution of crime 1 in SD CDCR data\n",
    "race_crime1_cdcr =  crime1.groupby(['Race'], as_index=False).size()\n",
    "race_crime1_cdcr['Crime1(CDCR)%'] = race_crime1_cdcr['size'] / race_crime1_cdcr['size'].sum() * 100\n",
    "race_crime1_cdcr = race_crime1_cdcr.rename(columns={'size': 'Crime1(CDCR)#'})\n",
    "race_crime1_cdcr"
   ]
  },
  {
   "cell_type": "code",
   "execution_count": null,
   "id": "3d7ad2ce",
   "metadata": {},
   "outputs": [],
   "source": [
    "## check whether this crime is also in the RIPA data\n",
    "crime1_keywords = 'PC459 | 459 | PC 459| burglary'\n",
    "crime1_these = df['reason_for_stop_explanation'].str.lower().str.contains(crime1_keywords, na=False)\n",
    "\n",
    "print('Specifically labelled burglary OR PC459 for both infraction and misdemeanor:\\n',\n",
    "      '{} stops covering {} persons'.format( \n",
    "          df.loc[crime1_these,'stop_id'].unique().shape[0], \n",
    "          df.loc[crime1_these].shape[0] ) \n",
    "     )\n",
    "\n",
    "ripa_crime1 = df.loc[crime1_these]\n",
    "ripa_crime1['type'] = ripa_crime1.code.apply( lambda x: 'infraction' if x == 65002 else 'misdemeanor')"
   ]
  },
  {
   "cell_type": "code",
   "execution_count": null,
   "id": "c641049d",
   "metadata": {},
   "outputs": [],
   "source": [
    "# graph the distribution of local violations of illegal lodging\n",
    "plt.rcParams[\"figure.figsize\"] = (9, 6)\n",
    "g  = sns.histplot(data=ripa_crime1, x='year-month', hue='type', multiple='stack')\n",
    "g.set_xticklabels(sorted(ripa_crime1['year-month'].unique()), rotation=40, fontsize=8)\n",
    "g.set_xlabel('');\n",
    "g.set_title('PC 459 in RIPA');"
   ]
  },
  {
   "cell_type": "code",
   "execution_count": null,
   "id": "7b364453",
   "metadata": {},
   "outputs": [],
   "source": [
    "# racial breakdown of PC 459 in RIPA data\n",
    "race_crime1_ripa =  ripa_crime1.groupby(['race'], as_index=False).size()\n",
    "race_crime1_ripa['Crime1(RIPA)%'] = race_crime1_ripa['size'] / race_crime1_ripa['size'].sum() * 100\n",
    "race_crime1_ripa = race_crime1_ripa.rename(columns={'size': 'Crime1(RIPA)#', 'race':'Race'})\n",
    "race_crime1_ripa"
   ]
  },
  {
   "cell_type": "code",
   "execution_count": null,
   "id": "302d432e",
   "metadata": {},
   "outputs": [],
   "source": [
    "race_crime1_cdcr = race_crime1_cdcr.replace(['Hispanic', 'Mexican'],\n",
    "                         ['Hispanic/Latino/a','Hispanic/Latino/a']).groupby(['Race'], as_index=False).agg('sum')\n",
    "race_crime1_cdcr = race_crime1_cdcr.replace(['Black'],['Black/African American'])\n",
    "race_crime1_ripa = race_crime1_ripa.replace(['Asian', 'Pacific Islander','Middle Eastern or South Asian'],\n",
    "                         ['Asian or Pacific Islander','Asian or Pacific Islander','Asian or Pacific Islander']).groupby(['Race'], as_index=False).agg('sum')\n",
    "race_crime1_ripa = race_crime1_ripa.replace(['Asian','Native American'],['Asian or Pacific Islander','American Indian/Alaskan Native'])\n",
    "race_crime1 = race_crime1_cdcr.merge(race_crime1_ripa, how='outer', on='Race')\n",
    "race_crime1"
   ]
  },
  {
   "cell_type": "markdown",
   "id": "904c81e8",
   "metadata": {},
   "source": [
    "#### Crime 2 - PC212.5(c)\n",
    "The second most common crime of CDCR data in San Diego cases is `PC212.5(c)`.\n",
    "    \n",
    "    Penal Code 212.5 PC is the California statute that defines the crime of first-degree robbery. People commit this offense if they rob the driver or passenger of a vehicle, a person in an inhabited dwelling (for example, a house), or a person who has recently used an ATM. Robbery of the first degree is a felony offense punishable by up to 9 years in state prison."
   ]
  },
  {
   "cell_type": "code",
   "execution_count": null,
   "id": "c00ab98b",
   "metadata": {},
   "outputs": [],
   "source": [
    "crime2 = cases_after2012[cases_after2012['Controlling Offense'] == \"PC212.5(c)\"]"
   ]
  },
  {
   "cell_type": "code",
   "execution_count": null,
   "id": "d0ba7d74",
   "metadata": {},
   "outputs": [],
   "source": [
    "# breaking down + graphing racial distribution of crime 1 in SD CDCR data\n",
    "race_crime2_cdcr =  crime2.groupby(['Race'], as_index=False).size()\n",
    "race_crime2_cdcr['Crime2(CDCR)%'] = race_crime2_cdcr['size'] / race_crime2_cdcr['size'].sum() * 100\n",
    "race_crime2_cdcr = race_crime2_cdcr.rename(columns={'size': 'Crime2(CDCR)#'})\n",
    "race_crime2_cdcr"
   ]
  },
  {
   "cell_type": "code",
   "execution_count": null,
   "id": "86ce7ebd",
   "metadata": {},
   "outputs": [],
   "source": [
    "## check whether this crime is also in the RIPA data\n",
    "crime2_keywords = 'PC212.5\\(c\\)|PC 212.5\\(c\\)|212.5c| 212.5 c| 212.5 \\(c\\) |robbery'\n",
    "crime2_these = df['reason_for_stop_explanation'].str.lower().str.contains(crime2_keywords, na=False)\n",
    "\n",
    "print('Specifically labelled PC212.5(c) for both infraction and misdemeanor:\\n',\n",
    "      '{} stops covering {} persons'.format( \n",
    "          df.loc[crime2_these,'stop_id'].unique().shape[0], \n",
    "          df.loc[crime2_these].shape[0] ) \n",
    "     )\n",
    "\n",
    "ripa_crime2 = df.loc[crime2_these]\n",
    "ripa_crime2['type'] = ripa_crime2.code.apply( lambda x: 'infraction' if x == 65002 else 'misdemeanor')"
   ]
  },
  {
   "cell_type": "code",
   "execution_count": null,
   "id": "dd84c775",
   "metadata": {},
   "outputs": [],
   "source": [
    "# racial breakdown of PC 459 in RIPA data\n",
    "race_crime2_ripa =  ripa_crime2.groupby(['race'], as_index=False).size()\n",
    "race_crime2_ripa['Crime2(RIPA)%'] = race_crime2_ripa['size'] / race_crime2_ripa['size'].sum() * 100\n",
    "race_crime2_ripa = race_crime2_ripa.rename(columns={'size': 'Crime2(RIPA)#', 'race':'Race'})\n",
    "race_crime2_ripa"
   ]
  },
  {
   "cell_type": "code",
   "execution_count": null,
   "id": "6729da6d",
   "metadata": {},
   "outputs": [],
   "source": [
    "race_crime2_cdcr = race_crime2_cdcr.replace(['Hispanic', 'Mexican'],\n",
    "                         ['Hispanic/Latino/a','Hispanic/Latino/a']).groupby(['Race'], as_index=False).agg('sum')\n",
    "race_crime2_cdcr = race_crime2_cdcr.replace(['Black'],['Black/African American'])\n",
    "race_crime2_ripa = race_crime2_ripa.replace(['Asian', 'Pacific Islander','Middle Eastern or South Asian'],\n",
    "                         ['Asian or Pacific Islander','Asian or Pacific Islander','Asian or Pacific Islander']).groupby(['Race'], as_index=False).agg('sum')\n",
    "race_crime2_ripa = race_crime2_ripa.replace(['Asian','Native American'],['Asian or Pacific Islander','American Indian/Alaskan Native'])\n",
    "race_crime2 = race_crime2_cdcr.merge(race_crime2_ripa, how='outer', on='Race')\n",
    "race_crime2"
   ]
  },
  {
   "cell_type": "markdown",
   "id": "1b4c26a4",
   "metadata": {},
   "source": [
    "#### Crime 3 - PC245(a)(4)\n",
    "The third most common crime of CDCR data in San Diego cases is `PC245(a)(4)`.\n",
    "    \n",
    "    Penal Code 245(a)(4) PC – Assault by Means Likely to Produce Great Bodily Injury. Penal Code 245(a)(4) PC is the California statute that makes it a crime for a person to: commit an assault, and. to do so by using force that is likely to produce “great bodily injury.”"
   ]
  },
  {
   "cell_type": "code",
   "execution_count": null,
   "id": "12214f8f",
   "metadata": {},
   "outputs": [],
   "source": [
    "crime3 = cases_after2012[cases_after2012['Controlling Offense'] == \"PC245(a)(4)\"]"
   ]
  },
  {
   "cell_type": "code",
   "execution_count": null,
   "id": "ff6be4e3",
   "metadata": {},
   "outputs": [],
   "source": [
    "# breaking down + graphing racial distribution of crime 1 in SD CDCR data\n",
    "race_crime3_cdcr =  crime3.groupby(['Race'], as_index=False).size()\n",
    "race_crime3_cdcr['Crime3(CDCR)%'] = race_crime3_cdcr['size'] / race_crime3_cdcr['size'].sum() * 100\n",
    "race_crime3_cdcr = race_crime3_cdcr.rename(columns={'size': 'Crime3(CDCR)#'})\n",
    "race_crime3_cdcr"
   ]
  },
  {
   "cell_type": "code",
   "execution_count": null,
   "id": "e4b01f3c",
   "metadata": {},
   "outputs": [],
   "source": [
    "## check whether this crime is also in the RIPA data\n",
    "crime3_keywords = '245\\(a\\)\\(4\\)|245\\(a\\) \\(4\\)|212.5a4|212.5 a 4|245 \\(a\\) \\(4\\)|great bodily injury|gbh|gbi'\n",
    "crime3_these = df['reason_for_stop_explanation'].str.lower().str.contains(crime3_keywords, na=False)\n",
    "\n",
    "print('Specifically labelled PC245(a)(4) for both infraction and misdemeanor:\\n',\n",
    "      '{} stops covering {} persons'.format( \n",
    "          df.loc[crime3_these,'stop_id'].unique().shape[0], \n",
    "          df.loc[crime3_these].shape[0] ) \n",
    "     )\n",
    "\n",
    "ripa_crime3 = df.loc[crime3_these]\n",
    "ripa_crime3['type'] = ripa_crime3.code.apply( lambda x: 'infraction' if x == 65002 else 'misdemeanor')"
   ]
  },
  {
   "cell_type": "code",
   "execution_count": null,
   "id": "eb8100b0",
   "metadata": {},
   "outputs": [],
   "source": [
    "## more keywords in this"
   ]
  },
  {
   "cell_type": "code",
   "execution_count": null,
   "id": "8d016ff3",
   "metadata": {},
   "outputs": [],
   "source": [
    "# racial breakdown of PC 459 in RIPA data\n",
    "race_crime3_ripa =  ripa_crime3.groupby(['race'], as_index=False).size()\n",
    "race_crime3_ripa['Crime3(RIPA)%'] = race_crime3_ripa['size'] / race_crime3_ripa['size'].sum() * 100\n",
    "race_crime3_ripa = race_crime3_ripa.rename(columns={'size': 'Crime3(RIPA)#', 'race':'Race'})\n",
    "race_crime3_ripa"
   ]
  },
  {
   "cell_type": "code",
   "execution_count": null,
   "id": "335f5d6d",
   "metadata": {},
   "outputs": [],
   "source": [
    "race_crime3_cdcr = race_crime3_cdcr.replace(['Hispanic', 'Mexican'],\n",
    "                         ['Hispanic/Latino/a','Hispanic/Latino/a']).groupby(['Race'], as_index=False).agg('sum')\n",
    "race_crime3_cdcr = race_crime3_cdcr.replace(['Black'],['Black/African American'])\n",
    "race_crime3_ripa = race_crime3_ripa.replace(['Asian', 'Pacific Islander','Middle Eastern or South Asian'],\n",
    "                         ['Asian or Pacific Islander','Asian or Pacific Islander','Asian or Pacific Islander']).groupby(['Race'], as_index=False).agg('sum')\n",
    "race_crime3_ripa = race_crime3_ripa.replace(['Asian','Native American'],['Asian or Pacific Islander','American Indian/Alaskan Native'])\n",
    "race_crime3 = race_crime3_cdcr.merge(race_crime3_ripa, how='outer', on='Race')\n",
    "race_crime3"
   ]
  },
  {
   "cell_type": "markdown",
   "id": "28425b41",
   "metadata": {},
   "source": [
    "#### Crime 4 - PC245(a)(1)\n",
    "The fourth most common crime of CDCR data in San Diego cases is `PC245(a)(1)`.\n",
    "    \n",
    "    California Penal Code [CPC] §245(a)(1) – Assault With A Deadly Weapon – Assault With A Deadly Weapon occurs whenever anyone assaults another person with a deadly weapon, or a weapon other than a firearm, or when anyone assaults another person using force likely to produce great bodily injury."
   ]
  },
  {
   "cell_type": "code",
   "execution_count": null,
   "id": "83d3f5fe",
   "metadata": {},
   "outputs": [],
   "source": [
    "crime4 = cases_after2012[cases_after2012['Controlling Offense'] == \"PC245(a)(1)\"]"
   ]
  },
  {
   "cell_type": "code",
   "execution_count": null,
   "id": "4950b6b6",
   "metadata": {},
   "outputs": [],
   "source": [
    "# breaking down + graphing racial distribution of crime 1 in SD CDCR data\n",
    "race_crime4_cdcr =  crime4.groupby(['Race'], as_index=False).size()\n",
    "race_crime4_cdcr['Crime4(CDCR)%'] = race_crime4_cdcr['size'] / race_crime4_cdcr['size'].sum() * 100\n",
    "race_crime4_cdcr = race_crime4_cdcr.rename(columns={'size': 'Crime4(CDCR)#'})\n",
    "race_crime4_cdcr"
   ]
  },
  {
   "cell_type": "code",
   "execution_count": null,
   "id": "82235614",
   "metadata": {},
   "outputs": [],
   "source": [
    "## check whether this crime is also in the RIPA data\n",
    "crime4_keywords = '245\\(a\\)\\(1\\)|245\\(a\\) \\(1\\)|212.5a1|212.5 a 1|245 \\(a\\) \\(1\\)|deadly weapon|ADW'\n",
    "crime4_these = df['reason_for_stop_explanation'].str.lower().str.contains(crime4_keywords, na=False)\n",
    "\n",
    "print('Specifically labelled PC245(a)(1) for both infraction and misdemeanor:\\n',\n",
    "      '{} stops covering {} persons'.format( \n",
    "          df.loc[crime4_these,'stop_id'].unique().shape[0], \n",
    "          df.loc[crime4_these].shape[0] ) \n",
    "     )\n",
    "\n",
    "ripa_crime4 = df.loc[crime4_these]\n",
    "ripa_crime4['type'] = ripa_crime4.code.apply( lambda x: 'infraction' if x == 65002 else 'misdemeanor')"
   ]
  },
  {
   "cell_type": "code",
   "execution_count": null,
   "id": "d62a981d",
   "metadata": {},
   "outputs": [],
   "source": [
    "# racial breakdown of PC 459 in RIPA data\n",
    "race_crime4_ripa =  ripa_crime4.groupby(['race'], as_index=False).size()\n",
    "race_crime4_ripa['Crime4(RIPA)%'] = race_crime4_ripa['size'] / race_crime4_ripa['size'].sum() * 100\n",
    "race_crime4_ripa = race_crime4_ripa.rename(columns={'size': 'Crime4(RIPA)#', 'race':'Race'})\n",
    "race_crime4_ripa"
   ]
  },
  {
   "cell_type": "code",
   "execution_count": null,
   "id": "640861a4",
   "metadata": {},
   "outputs": [],
   "source": [
    "race_crime4_cdcr = race_crime4_cdcr.replace(['Hispanic', 'Mexican'],\n",
    "                         ['Hispanic/Latino/a','Hispanic/Latino/a']).groupby(['Race'], as_index=False).agg('sum')\n",
    "race_crime4_cdcr = race_crime4_cdcr.replace(['Black'],['Black/African American'])\n",
    "race_crime4_ripa = race_crime4_ripa.replace(['Asian', 'Pacific Islander','Middle Eastern or South Asian'],\n",
    "                         ['Asian or Pacific Islander','Asian or Pacific Islander','Asian or Pacific Islander']).groupby(['Race'], as_index=False).agg('sum')\n",
    "race_crime4_ripa = race_crime4_ripa.replace(['Asian','Native American'],['Asian or Pacific Islander','American Indian/Alaskan Native'])\n",
    "race_crime4 = race_crime4_cdcr.merge(race_crime4_ripa, how='outer', on='Race')\n",
    "race_crime4"
   ]
  },
  {
   "cell_type": "markdown",
   "id": "e82ca3d5",
   "metadata": {},
   "source": [
    "#### Crime 5 - VC2800.2(a)\n",
    "The fifth most common crime of CDCR data in San Diego cases is `VC2800.2(a)`.\n",
    "    \n",
    "    VC 2800.2(a): Charged when the defendant uses his or her vehicle in an attempt to escape police capture and does so recklessly"
   ]
  },
  {
   "cell_type": "code",
   "execution_count": null,
   "id": "921f3807",
   "metadata": {},
   "outputs": [],
   "source": [
    "crime5 = cases_after2012[cases_after2012['Controlling Offense'] == \"VC2800.2(a)\"]"
   ]
  },
  {
   "cell_type": "code",
   "execution_count": null,
   "id": "24a5f0d4",
   "metadata": {},
   "outputs": [],
   "source": [
    "# breaking down + graphing racial distribution of crime 1 in SD CDCR data\n",
    "race_crime5_cdcr =  crime5.groupby(['Race'], as_index=False).size()\n",
    "race_crime5_cdcr['Crime5(CDCR)%'] = race_crime5_cdcr['size'] / race_crime5_cdcr['size'].sum() * 100\n",
    "race_crime5_cdcr = race_crime5_cdcr.rename(columns={'size': 'Crime5(CDCR)#'})\n",
    "race_crime5_cdcr"
   ]
  },
  {
   "cell_type": "code",
   "execution_count": null,
   "id": "b886b37c",
   "metadata": {},
   "outputs": [],
   "source": [
    "## check whether this crime is also in the RIPA data\n",
    "crime5_keywords = '2800.2\\(a\\)|2800.2 \\(a\\)|2800.2 a|escape|evade'\n",
    "crime5_these = df['reason_for_stop_explanation'].str.lower().str.contains(crime5_keywords, na=False)\n",
    "\n",
    "print('Specifically labelled VC2800.2(a) for both infraction and misdemeanor:\\n',\n",
    "      '{} stops covering {} persons'.format( \n",
    "          df.loc[crime5_these,'stop_id'].unique().shape[0], \n",
    "          df.loc[crime5_these].shape[0] ) \n",
    "     )\n",
    "\n",
    "ripa_crime5 = df.loc[crime5_these]\n",
    "ripa_crime5['type'] = ripa_crime5.code.apply( lambda x: 'infraction' if x == 65002 else 'misdemeanor')"
   ]
  },
  {
   "cell_type": "code",
   "execution_count": null,
   "id": "05644c09",
   "metadata": {},
   "outputs": [],
   "source": [
    "# racial breakdown of PC 459 in RIPA data\n",
    "race_crime5_ripa =  ripa_crime5.groupby(['race'], as_index=False).size()\n",
    "race_crime5_ripa['Crime5(RIPA)%'] = race_crime5_ripa['size'] / race_crime5_ripa['size'].sum() * 100\n",
    "race_crime5_ripa = race_crime5_ripa.rename(columns={'size': 'Crime5(RIPA)#', 'race':'Race'})\n",
    "race_crime5_ripa"
   ]
  },
  {
   "cell_type": "code",
   "execution_count": null,
   "id": "2e4c52f3",
   "metadata": {},
   "outputs": [],
   "source": [
    "race_crime5_cdcr = race_crime5_cdcr.replace(['Hispanic', 'Mexican'],\n",
    "                         ['Hispanic/Latino/a','Hispanic/Latino/a']).groupby(['Race'], as_index=False).agg('sum')\n",
    "race_crime5_cdcr = race_crime5_cdcr.replace(['Black'],['Black/African American'])\n",
    "race_crime5_ripa = race_crime5_ripa.replace(['Asian', 'Pacific Islander','Middle Eastern or South Asian'],\n",
    "                         ['Asian or Pacific Islander','Asian or Pacific Islander','Asian or Pacific Islander']).groupby(['Race'], as_index=False).agg('sum')\n",
    "race_crime5_ripa = race_crime5_ripa.replace(['Asian','Native American'],['Asian or Pacific Islander','American Indian/Alaskan Native'])\n",
    "race_crime5 = race_crime5_cdcr.merge(race_crime5_ripa, how='outer', on='Race')\n",
    "race_crime5"
   ]
  },
  {
   "cell_type": "markdown",
   "id": "ccd563ef",
   "metadata": {},
   "source": [
    "#### Crime 6 - PC29800(a)(1)\n",
    "The sixth most common crime of CDCR data in San Diego cases is `PC29800(a)(1)`.\n",
    "    \n",
    "    Penal Code 29800(a)(1) PC restricts convicted felons, narcotics addicts, or persons with active felony warrants from owning, purchasing, or possessing firearms in California. Doing so is itself a felony and punishable by up to 3 years in jail or prison."
   ]
  },
  {
   "cell_type": "code",
   "execution_count": null,
   "id": "a89e3a59",
   "metadata": {},
   "outputs": [],
   "source": [
    "crime6 = cases_after2012[cases_after2012['Controlling Offense'] == \"PC29800(a)(1)\"]"
   ]
  },
  {
   "cell_type": "code",
   "execution_count": null,
   "id": "898c4647",
   "metadata": {},
   "outputs": [],
   "source": [
    "# breaking down + graphing racial distribution of crime 1 in SD CDCR data\n",
    "race_crime6_cdcr =  crime6.groupby(['Race'], as_index=False).size()\n",
    "race_crime6_cdcr['Crime6(CDCR)%'] = race_crime6_cdcr['size'] / race_crime6_cdcr['size'].sum() * 100\n",
    "race_crime6_cdcr = race_crime6_cdcr.rename(columns={'size': 'Crime6(CDCR)#'})\n",
    "race_crime6_cdcr"
   ]
  },
  {
   "cell_type": "code",
   "execution_count": null,
   "id": "5f317491",
   "metadata": {},
   "outputs": [],
   "source": []
  },
  {
   "cell_type": "code",
   "execution_count": null,
   "id": "063bde59",
   "metadata": {},
   "outputs": [],
   "source": [
    "# extract keywords from the df result explanation"
   ]
  },
  {
   "cell_type": "code",
   "execution_count": null,
   "id": "ca516111",
   "metadata": {},
   "outputs": [],
   "source": [
    "# check whether this crime is also in the RIPA data\n",
    "crime6_keywords = '29800\\(a\\)\\(\\1\\)|29800 \\(a\\)\\(1\\)|29800a1|29800 a1|29800 a 1'\n",
    "crime6_these = df['reason_for_stop_explanation'].str.lower().str.contains(crime6_keywords, na=False)\n",
    "\n",
    "print('Specifically labelled PC 29800(a)(1) for both infraction and misdemeanor:\\n',\n",
    "      '{} stops covering {} persons'.format( \n",
    "          df.loc[crime6_these,'stop_id'].unique().shape[0], \n",
    "          df.loc[crime6_these].shape[0] ) \n",
    "     )\n",
    "\n",
    "ripa_crime6 = df.loc[crime6_these]\n",
    "ripa_crime6['type'] = ripa_crime6.code.apply( lambda x: 'infraction' if x == 65002 else 'misdemeanor')"
   ]
  },
  {
   "cell_type": "code",
   "execution_count": null,
   "id": "55a2e456",
   "metadata": {},
   "outputs": [],
   "source": [
    "## warrent for arrest"
   ]
  },
  {
   "cell_type": "code",
   "execution_count": null,
   "id": "29a427df",
   "metadata": {},
   "outputs": [],
   "source": [
    "# racial breakdown of PC 459 in RIPA data\n",
    "race_crime6_ripa =  ripa_crime6.groupby(['race'], as_index=False).size()\n",
    "race_crime6_ripa['Crime6(RIPA)%'] = race_crime6_ripa['size'] / race_crime6_ripa['size'].sum() * 100\n",
    "race_crime6_ripa = race_crime6_ripa.rename(columns={'size': 'Crime6(RIPA)#', 'race':'Race'})\n",
    "race_crime6_ripa"
   ]
  },
  {
   "cell_type": "code",
   "execution_count": null,
   "id": "f53c0bd4",
   "metadata": {},
   "outputs": [],
   "source": [
    "race_crime6_cdcr = race_crime6_cdcr.replace(['Hispanic', 'Mexican'],\n",
    "                         ['Hispanic/Latino/a','Hispanic/Latino/a']).groupby(['Race'], as_index=False).agg('sum')\n",
    "race_crime6_cdcr = race_crime6_cdcr.replace(['Black'],['Black/African American'])\n",
    "race_crime6_ripa = race_crime6_ripa.replace(['Asian', 'Pacific Islander','Middle Eastern or South Asian'],\n",
    "                         ['Asian or Pacific Islander','Asian or Pacific Islander','Asian or Pacific Islander']).groupby(['Race'], as_index=False).agg('sum')\n",
    "race_crime6_ripa = race_crime6_ripa.replace(['Asian','Native American'],['Asian or Pacific Islander','American Indian/Alaskan Native'])\n",
    "race_crime6 = race_crime6_cdcr.merge(race_crime6_ripa, how='outer', on='Race')\n",
    "race_crime6"
   ]
  },
  {
   "cell_type": "markdown",
   "id": "13699c9a",
   "metadata": {},
   "source": [
    "#### Crime 7 - PC273.5(a)\n",
    "The seventh most common crime of CDCR data in San Diego cases is `PC273.5(a)`.\n",
    "    \n",
    "    California Penal Code Section 273.5(a) PC makes it illegal to injure a spouse, cohabitant or fellow parent in an act of domestic violence. This offense is also referred to as domestic abuse, domestic violence, or corporal injury to a spouse."
   ]
  },
  {
   "cell_type": "code",
   "execution_count": null,
   "id": "f09eba66",
   "metadata": {},
   "outputs": [],
   "source": [
    "crime7 = cases_after2012[cases_after2012['Controlling Offense'] == \"PC273.5(a)\"]"
   ]
  },
  {
   "cell_type": "code",
   "execution_count": null,
   "id": "1273536c",
   "metadata": {},
   "outputs": [],
   "source": [
    "# breaking down + graphing racial distribution of crime 1 in SD CDCR data\n",
    "race_crime7_cdcr =  crime7.groupby(['Race'], as_index=False).size()\n",
    "race_crime7_cdcr['Crime7(CDCR)%'] = race_crime7_cdcr['size'] / race_crime7_cdcr['size'].sum() * 100\n",
    "race_crime7_cdcr = race_crime7_cdcr.rename(columns={'size': 'Crime7(CDCR)#'})\n",
    "race_crime7_cdcr"
   ]
  },
  {
   "cell_type": "code",
   "execution_count": null,
   "id": "34466674",
   "metadata": {},
   "outputs": [],
   "source": [
    "# check whether this crime is also in the RIPA data\n",
    "crime7_keywords = '273.5\\(a\\)|273.5 \\(a\\)|273.5a|273.5 a|domestic abuse|domestic violence'\n",
    "crime7_these = df['reason_for_stop_explanation'].str.lower().str.contains(crime7_keywords, na=False)\n",
    "\n",
    "print('Specifically labelled PC 273.5(a) for both infraction and misdemeanor:\\n',\n",
    "      '{} stops covering {} persons'.format( \n",
    "          df.loc[crime7_these,'stop_id'].unique().shape[0], \n",
    "          df.loc[crime7_these].shape[0] ) \n",
    "     )\n",
    "\n",
    "ripa_crime7 = df.loc[crime7_these]\n",
    "ripa_crime7['type'] = ripa_crime7.code.apply( lambda x: 'infraction' if x == 65002 else 'misdemeanor')"
   ]
  },
  {
   "cell_type": "code",
   "execution_count": null,
   "id": "d0c955de",
   "metadata": {},
   "outputs": [],
   "source": [
    "# racial breakdown of PC 459 in RIPA data\n",
    "race_crime7_ripa =  ripa_crime7.groupby(['race'], as_index=False).size()\n",
    "race_crime7_ripa['Crime7(RIPA)%'] = race_crime7_ripa['size'] / race_crime7_ripa['size'].sum() * 100\n",
    "race_crime7_ripa = race_crime7_ripa.rename(columns={'size': 'Crime7(RIPA)#', 'race':'Race'})\n",
    "race_crime7_ripa"
   ]
  },
  {
   "cell_type": "code",
   "execution_count": null,
   "id": "9e6dbe85",
   "metadata": {},
   "outputs": [],
   "source": [
    "race_crime7_cdcr = race_crime7_cdcr.replace(['Hispanic', 'Mexican'],\n",
    "                         ['Hispanic/Latino/a','Hispanic/Latino/a']).groupby(['Race'], as_index=False).agg('sum')\n",
    "race_crime7_cdcr = race_crime7_cdcr.replace(['Black'],['Black/African American'])\n",
    "race_crime7_ripa = race_crime7_ripa.replace(['Asian', 'Pacific Islander','Middle Eastern or South Asian'],\n",
    "                         ['Asian or Pacific Islander','Asian or Pacific Islander','Asian or Pacific Islander']).groupby(['Race'], as_index=False).agg('sum')\n",
    "race_crime7_ripa = race_crime7_ripa.replace(['Asian','Native American'],['Asian or Pacific Islander','American Indian/Alaskan Native'])\n",
    "race_crime7 = race_crime7_cdcr.merge(race_crime7_ripa, how='outer', on='Race')\n",
    "race_crime7"
   ]
  },
  {
   "cell_type": "code",
   "execution_count": null,
   "id": "ad8e3b60",
   "metadata": {},
   "outputs": [],
   "source": [
    "race_offense = race_crime1.merge(race_crime2, how='outer', on='Race')\n",
    "race_offense = race_offense.merge(race_crime3, how='outer', on='Race')\n",
    "race_offense = race_offense.merge(race_crime4, how='outer', on='Race')\n",
    "race_offense = race_offense.merge(race_crime5, how='outer', on='Race')\n",
    "race_offense = race_offense.merge(race_crime6, how='outer', on='Race')\n",
    "race_offense = race_offense.merge(race_crime7, how='outer', on='Race')\n",
    "\n",
    "race_offense.set_index('Race', inplace = True)\n",
    "race_offense"
   ]
  },
  {
   "cell_type": "code",
   "execution_count": null,
   "id": "b9349443",
   "metadata": {},
   "outputs": [],
   "source": [
    "race_offense.T"
   ]
  },
  {
   "cell_type": "code",
   "execution_count": null,
   "id": "2192f5b5",
   "metadata": {},
   "outputs": [],
   "source": [
    "crime_count = race_offense[['Crime1(CDCR)#','Crime1(RIPA)#',\n",
    "                            'Crime2(CDCR)#','Crime2(RIPA)#',\n",
    "                            'Crime3(CDCR)#','Crime3(RIPA)#',\n",
    "                            'Crime4(CDCR)#','Crime4(RIPA)#',\n",
    "                            'Crime5(CDCR)#','Crime4(RIPA)#',\n",
    "                            'Crime6(CDCR)#','Crime6(RIPA)#',\n",
    "                            'Crime7(CDCR)#','Crime7(RIPA)#']]"
   ]
  },
  {
   "cell_type": "code",
   "execution_count": null,
   "id": "7f7890da",
   "metadata": {},
   "outputs": [],
   "source": [
    "plt.rcParams[\"figure.figsize\"] = (12, 8)\n",
    "crime_count.plot.barh(stacked=True)\n",
    "plt.show()"
   ]
  },
  {
   "cell_type": "code",
   "execution_count": null,
   "id": "6131b757",
   "metadata": {},
   "outputs": [],
   "source": [
    "crime_count.T.plot.barh(stacked=True)\n",
    "plt.show()"
   ]
  },
  {
   "cell_type": "code",
   "execution_count": null,
   "id": "01c43b78",
   "metadata": {},
   "outputs": [],
   "source": [
    "crime_perct = race_offense[['Crime1(CDCR)%','Crime1(RIPA)%',\n",
    "                            'Crime2(CDCR)%','Crime2(RIPA)%',\n",
    "                            'Crime3(CDCR)%','Crime3(RIPA)%',\n",
    "                            'Crime4(CDCR)%','Crime4(RIPA)%',\n",
    "                            'Crime5(CDCR)%','Crime5(RIPA)%',\n",
    "                            #'Crime6(CDCR)%','Crime6(RIPA)%',\n",
    "                            'Crime7(CDCR)%','Crime7(RIPA)%']]"
   ]
  },
  {
   "cell_type": "code",
   "execution_count": null,
   "id": "37ec695b",
   "metadata": {},
   "outputs": [],
   "source": [
    "# input raw number\n",
    "# abbrev for crime description\n",
    "# bars needed to be group in crime (subplot?)\n",
    "crime_perct.T.plot.barh(stacked=True)\n",
    "plt.legend(loc=\"upper right\")\n",
    "plt.show()"
   ]
  },
  {
   "cell_type": "code",
   "execution_count": null,
   "id": "a2a32757",
   "metadata": {},
   "outputs": [],
   "source": [
    "# racial distribution vis in different crime (individual plots (percentage/normalized))"
   ]
  },
  {
   "cell_type": "markdown",
   "id": "7e09145b",
   "metadata": {},
   "source": [
    "https://quarto.org/\n",
    "\n",
    "bar graph (some kind of visualizations)"
   ]
  },
  {
   "cell_type": "markdown",
   "id": "77bea7d1",
   "metadata": {},
   "source": [
    "## Results & Discussion<a id='res'></a>"
   ]
  },
  {
   "cell_type": "markdown",
   "id": "7ac24c84",
   "metadata": {},
   "source": [
    "First of all, an analysis of the racial composition of the RIPA homeless survey data reveals that the the percentage of Black/African American community is greatly overstated, which makes up only 6.4% of the population in San Diego, accounts for 24% of the RIPA homeless survey data. However, since San Diego's homeless population data shows 24% Black, this exploration is therefore inconclusive as there is no clear statistical evidence that a disproportionate number of Black/African-Americans are being deterred due to racial bias.\n",
    "\n",
    "Similarly, most of the homeless-related stops occurred in the East Village area of San Diego, specifically on Imperial Avenue, serving the large homeless camp mentioned by defense attorney Colleen Cusack; the distribution of stops seemed to converge with the distribution of bus stops in San Diego. However, because the tests were severely lacking in demonstrable statistical evidence of bias, the project could not properly conclude that any bias affected the outcome of the police stops and the resulting charges.\n",
    "\n",
    "That said, the current results of this project are not necessarily applicable to the entire court system because the data measured here are for the city of San Diego and are not representative of the entire state or even San Diego County.\n",
    "\n",
    "But in the next step, I will build a model to test in more depth the question of whether regional population size and bus stop locations have an impact on homeless stops.\n",
    "\n",
    "In the meantime, from CDCR's preliminary racial distribution analysis of the sentencing data over a 10-year period, we learn that Black/African American and Mexican-American groups appear at significantly higher rates than the California Census data. However, due to time constraints, it is too late for me to conduct additional testing on this. In the next step of the study, I will better explore the CDCR sentencing data more closely."
   ]
  },
  {
   "cell_type": "markdown",
   "id": "7703c2dc",
   "metadata": {},
   "source": [
    "## Acknowledgment <a id = 'ack'></a>\n",
    "\n",
    " - Program: Undergraduate Research Scholarships (URS) - Chancellor's Research Scholarship for Social Sciences\n",
    " - Mentor - Dr. Jason Fleischer\n",
    " - Student Researcher - Sreetama Chowdhury\n",
    " - Collaboration Partnership\n",
    "- Coleen Cusack (Criminal Defense Attorney)\n",
    "- Greg Moran, Lyndsay Winkley (Data Reporters at the San Diego Union-Tribune)\n"
   ]
  },
  {
   "cell_type": "markdown",
   "id": "c742536f",
   "metadata": {},
   "source": [
    "## References <a id='ref'></a>\n",
    "\n",
    "1. <a id='ref1'></a>“Stopped by police in San Diego? A lot depends on where you live, drive”:https://www.sandiegouniontribune.com/news/watchdog/story/2022-01-16/stopped-by-police-in-san-diego-a-lot-depends-on-where-you-live-drive by Greg Moran, Lyndsay Winkley, Lauryn Schroeder, Cristina Byvik, and Michelle Gilchrist\n",
    "\n",
    "2. <a id='ref2'></a>“The California Racial Justice Act & San Diego PD RIPA Data”:https://github.com/FleischerResearchLab/CRJA-analysis/blob/main/src/CRJA%20%2B%20SDPD%20Ripa%20Data.ipynb by Sreetama Chowdhury\n",
    "\n",
    "3. <a id='ref3'></a>\"County of San Diego 2022 Point-in-Time Data\":https://www.rtfhsd.org/wp-content/uploads/2022-San-Diego-Region-FINAL_05192022-1.pdf\n",
    "\n",
    "4. <a id='ref4'></a>\"What’s the Point of Sentencing Anyone to 141,000 Years in Prison?\": https://www.atlasobscura.com/articles/whats-the-point-of-sentencing-anyone-to-141000-years-in-prison by Eric Grundhauser"
   ]
  }
 ],
 "metadata": {
  "kernelspec": {
   "display_name": "Python 3",
   "language": "python",
   "name": "python3"
  },
  "language_info": {
   "codemirror_mode": {
    "name": "ipython",
    "version": 3
   },
   "file_extension": ".py",
   "mimetype": "text/x-python",
   "name": "python",
   "nbconvert_exporter": "python",
   "pygments_lexer": "ipython3",
   "version": "3.8.5"
  }
 },
 "nbformat": 4,
 "nbformat_minor": 5
}
