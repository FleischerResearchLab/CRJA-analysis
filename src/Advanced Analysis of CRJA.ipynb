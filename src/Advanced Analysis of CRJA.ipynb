{
 "cells": [
  {
   "cell_type": "markdown",
   "metadata": {},
   "source": [
    "# Analysis of Racial Equity in San Diego Criminal Justice System\n",
    "\n",
    "Jiayi Zhao & Sreetama Chowdhury"
   ]
  },
  {
   "cell_type": "markdown",
   "metadata": {},
   "source": [
    "## Abstract \n",
    "\n",
    "The California Racial Justice Act (RJA) approved in 2020 which prohibits state prosecutors from racially discriminating against suspects, prosecutors are not allowed to prosecute suspects as long as they can prove that law enforcement officials discriminated against them; even if a suspect is convicted, a retrial is available. However, the RJA does not mandate the publication of aggregated data on racial disparity allegations, convictions, and sentences, as well as defining acceptable statistical methods to demonstrate racial disparity. This project is a preliminary search to find out what aspects of criminal justice data might be useful to those citing the CRJA. Accordingly, this project aims to seek and disclose data on the racial composition of charges, convictions, and sentences in San Diego County and its municipalities through the submission of Public Records Act (PRA) and Freedom of Information Act (FOIA) requests, as well as data analyzed using the Pandas python library. To some extent, this project will include a precise analysis on the traffic stop reason and resultant charges in San Diego neighborhoods from traffic stop data collected under the Racial and Identity Profiling Act of 2015 (RIPA) to investigate any statistical evidence of racial bias affecting the outcomes of different stop reasons and their resultant charges in different city neighborhoods of San Diego county."
   ]
  },
  {
   "cell_type": "markdown",
   "metadata": {},
   "source": [
    "## Table of Contents\n",
    "\n",
    "1. ### [Background & Prior Work](#intro)\n",
    "2. ### [Methods](#methods)\n",
    "3. ### [References](#ref)"
   ]
  },
  {
   "cell_type": "markdown",
   "metadata": {},
   "source": [
    "## Background & Prior Work <a id='intro'></a>\n",
    "\n",
    "California Governor Gavin Newsom signed several laws after taking office in 2019 to promote racial equality and justice. Among them, The California Racial Justice Act (AB 2542), proposed by Assemblyman Ash Kalra in the South Bay constituency, was also signed by Newsom in September 2020, which would prohibit the use of race or ethnicity to seek or obtain a conviction or sentence. This new law prohibits state prosecutors from racially discriminating against suspects, prosecutors are not allowed to prosecute suspects as long as they can prove that law enforcement officials discriminated against them; even if a suspect is convicted, a retrial is available.\n",
    "\n",
    "However, the only public race and ethnicity related data set is the traffic stop data under the Racial and Identity Profiling Act (RIPA) from the San Diego Police Department. There are researchers and journalists utilizing the traffic stop data to analyze whether there exists racial “bias affecting the outcomes of police stops and the resultant charges” [[2](#ref2)]. Both of the prior works by Greg Moran, et al and Sreetama Chowdhury conclude that there is no statistically significant evidence of bias. However, richer & whiter neighborhoods have lower stop rates than equivalent sized poorer & browner neighborhoods [[1](#ref1)]. \n",
    "\n",
    "The goal of this research is to extend both prior works that update the traffic stop database that Chowdhury constructed and seek for a more precise analysis on the traffic stop reason and resultant charges in San Diego neighborhoods to investigate whether the disproportionate stop rate among races will lead to a disproportionate arrest and citation rate. In addition, this project aims to seek and disclose more data on the racial composition of charges, convictions, and sentences in San Diego County and its municipalities through the submission of Public Records Act (PRA) and Freedom of Information Act (FOIA) requests, as well as data analyzed using the Pandas python library."
   ]
  },
  {
   "cell_type": "markdown",
   "metadata": {},
   "source": [
    "## Methods <a id='methods'></a>\n",
    "\n",
    "All data used can be found & downloaded [here](https://data.sandiego.gov/datasets/police-ripa-stops/) and on linked pages."
   ]
  },
  {
   "cell_type": "code",
   "execution_count": null,
   "metadata": {},
   "outputs": [],
   "source": [
    "#import + consolidate San Diego RIPA data into one massive df (result_df)"
   ]
  },
  {
   "cell_type": "code",
   "execution_count": 1,
   "metadata": {},
   "outputs": [],
   "source": [
    "import pandas as pd   \n",
    "import missingno as msno\n",
    "import matplotlib.pyplot as plt\n",
    "from astral import LocationInfo\n",
    "from astral.geocoder import database, lookup\n",
    "import seaborn as sns\n",
    "import datetime\n",
    "from datetime import date\n",
    "from astral.sun import sun"
   ]
  },
  {
   "cell_type": "code",
   "execution_count": null,
   "metadata": {},
   "outputs": [],
   "source": [
    "# city = lookup(\"San Diego\", database())\n",
    "\n",
    "# def convert_dtype_float(x):\n",
    "#     if not x:\n",
    "#         return 0\n",
    "#     try:\n",
    "#         return float(x)   \n",
    "#     except:        \n",
    "#         return 0\n",
    "    \n",
    "# def convert_dtype_string(x):\n",
    "#     if not x:\n",
    "#         return ''\n",
    "#     try:\n",
    "#         return str(x)   \n",
    "#     except:        \n",
    "#         return ''\n",
    "    \n",
    "# convert_dict = {'date_stop': str}\n",
    "    \n",
    "# contraband_evid_df = pd.read_csv(\"data/ripa_contraband_evid_datasd.csv\")                                \n",
    "# disability_df = pd.read_csv(\"data/ripa_disability_datasd.csv\")\n",
    "# gender_df = pd.read_csv(\"data/ripa_gender_datasd.csv\", converters = {\"gender\": convert_dtype_string})\n",
    "# prop_seize_basis_df = pd.read_csv(\"data/ripa_prop_seize_basis_datasd.csv\", converters = {\"basisforpropertyseizure\": convert_dtype_string})\n",
    "# prop_seize_type_df = pd.read_csv(\"data/ripa_prop_seize_type_datasd.csv\", converters = {\"type_of_property_seized\": convert_dtype_string})\n",
    "# race_df = pd.read_csv(\"data/ripa_race_datasd.csv\")\n",
    "# stop_result_df = pd.read_csv(\"data/ripa_stop_result_datasd.csv\")\n",
    "# stop_reason_df = pd.read_csv(\"data/ripa_stop_reason_datasd.csv\", converters = {\"reason_for_stopcode\": convert_dtype_float})\n",
    "# stop_details_df = pd.read_csv(\"data/ripa_stops_datasd.csv\", converters = {\"land_mark\": convert_dtype_string}) \n",
    "# stop_details_df = stop_details_df.astype(convert_dict)\n",
    "# result_df = pd.merge(contraband_evid_df, disability_df, how=\"outer\", on=[\"stop_id\",\"pid\"])\n",
    "# result_df = pd.merge(result_df, gender_df, how=\"outer\", on=[\"stop_id\",\"pid\"])\n",
    "# result_df = pd.merge(result_df, prop_seize_basis_df, how=\"outer\", on=[\"stop_id\",\"pid\"])\n",
    "# result_df = pd.merge(result_df, prop_seize_type_df, how=\"outer\", on=[\"stop_id\",\"pid\"])\n",
    "# result_df = pd.merge(result_df, race_df, how=\"outer\", on=[\"stop_id\",\"pid\"])\n",
    "# result_df = pd.merge(result_df, stop_result_df, how=\"outer\", on=[\"stop_id\",\"pid\"])\n",
    "# result_df = pd.merge(result_df, stop_reason_df, how=\"outer\", on=[\"stop_id\",\"pid\"])\n",
    "# result_df = pd.merge(result_df, stop_details_df, how=\"outer\", on=[\"stop_id\",\"pid\"])\n",
    "# result_df['datetime_stop'] = pd.to_datetime(result_df['date_stop'] + ' ' + result_df['time_stop'])"
   ]
  },
  {
   "cell_type": "code",
   "execution_count": null,
   "metadata": {},
   "outputs": [],
   "source": [
    "# result_df.to_csv('df.csv')"
   ]
  },
  {
   "cell_type": "code",
   "execution_count": 2,
   "metadata": {},
   "outputs": [
    {
     "name": "stderr",
     "output_type": "stream",
     "text": [
      "/Users/vikizhao/opt/anaconda3/lib/python3.8/site-packages/IPython/core/interactiveshell.py:3146: DtypeWarning: Columns (29,33) have mixed types.Specify dtype option on import or set low_memory=False.\n",
      "  has_raised = await self.run_ast_nodes(code_ast.body, cell_name,\n"
     ]
    }
   ],
   "source": [
    "result_df = pd.read_csv('df.csv')"
   ]
  },
  {
   "cell_type": "markdown",
   "metadata": {},
   "source": [
    "### PART 1: PRELIMINARY DATA BREAKDOWNS & ANALYSIS"
   ]
  },
  {
   "cell_type": "code",
   "execution_count": null,
   "metadata": {},
   "outputs": [],
   "source": [
    "# missingno package allows for visualization of missing data within result_df"
   ]
  },
  {
   "cell_type": "code",
   "execution_count": null,
   "metadata": {},
   "outputs": [],
   "source": [
    "msno.bar(result_df)"
   ]
  },
  {
   "cell_type": "code",
   "execution_count": null,
   "metadata": {},
   "outputs": [],
   "source": [
    "# construct a column of the full address of stops"
   ]
  },
  {
   "cell_type": "code",
   "execution_count": 3,
   "metadata": {},
   "outputs": [
    {
     "name": "stderr",
     "output_type": "stream",
     "text": [
      "<ipython-input-3-f4bfacd512a9>:2: SettingWithCopyWarning: \n",
      "A value is trying to be set on a copy of a slice from a DataFrame.\n",
      "Try using .loc[row_indexer,col_indexer] = value instead\n",
      "\n",
      "See the caveats in the documentation: https://pandas.pydata.org/pandas-docs/stable/user_guide/indexing.html#returning-a-view-versus-a-copy\n",
      "  t['address_block'] = t['address_block'].astype('Int64').astype(str)\n"
     ]
    }
   ],
   "source": [
    "t = result_df[['intersection','address_block', 'land_mark', 'address_street', 'address_city']]\n",
    "t['address_block'] = t['address_block'].astype('Int64').astype(str)\n",
    "t = t.astype(str).replace('<NA>', '').replace('nan', '')\n",
    "t['full_address'] = t.apply(lambda x: ' '.join(x), axis=1)"
   ]
  },
  {
   "cell_type": "code",
   "execution_count": 5,
   "metadata": {},
   "outputs": [],
   "source": [
    "# apply geocode to convert the full address into coordinates"
   ]
  },
  {
   "cell_type": "code",
   "execution_count": 6,
   "metadata": {},
   "outputs": [],
   "source": [
    "from geopy.geocoders import Nominatim\n",
    "geolocator = Nominatim(timeout=10, user_agent = \"myGeolocator\")\n",
    "t['geocodes'] = t['full_address'].head(5).apply(geolocator.geocode, country_codes='usa')\n",
    "\n",
    "t['lat'] = t['geocodes'].head(5).apply(lambda x: x.latitude if x else None)\n",
    "t['lon'] = t['geocodes'].head(5).apply(lambda x: x.longitude if x else None)"
   ]
  },
  {
   "cell_type": "code",
   "execution_count": 7,
   "metadata": {},
   "outputs": [
    {
     "data": {
      "text/html": [
       "<div>\n",
       "<style scoped>\n",
       "    .dataframe tbody tr th:only-of-type {\n",
       "        vertical-align: middle;\n",
       "    }\n",
       "\n",
       "    .dataframe tbody tr th {\n",
       "        vertical-align: top;\n",
       "    }\n",
       "\n",
       "    .dataframe thead th {\n",
       "        text-align: right;\n",
       "    }\n",
       "</style>\n",
       "<table border=\"1\" class=\"dataframe\">\n",
       "  <thead>\n",
       "    <tr style=\"text-align: right;\">\n",
       "      <th></th>\n",
       "      <th>intersection</th>\n",
       "      <th>address_block</th>\n",
       "      <th>land_mark</th>\n",
       "      <th>address_street</th>\n",
       "      <th>address_city</th>\n",
       "      <th>full_address</th>\n",
       "      <th>geocodes</th>\n",
       "      <th>lat</th>\n",
       "      <th>lon</th>\n",
       "    </tr>\n",
       "  </thead>\n",
       "  <tbody>\n",
       "    <tr>\n",
       "      <th>0</th>\n",
       "      <td></td>\n",
       "      <td>700</td>\n",
       "      <td></td>\n",
       "      <td>Grand Avenue</td>\n",
       "      <td>SAN DIEGO</td>\n",
       "      <td>700  Grand Avenue SAN DIEGO</td>\n",
       "      <td>(700, Grand Avenue, Mission Beach, San Diego, ...</td>\n",
       "      <td>32.794545</td>\n",
       "      <td>-117.255888</td>\n",
       "    </tr>\n",
       "    <tr>\n",
       "      <th>1</th>\n",
       "      <td>I-5</td>\n",
       "      <td></td>\n",
       "      <td></td>\n",
       "      <td>NOBEL DRIVE</td>\n",
       "      <td>SAN DIEGO</td>\n",
       "      <td>I-5   NOBEL DRIVE SAN DIEGO</td>\n",
       "      <td>(Nobel Drive, La Jolla Colony, University City...</td>\n",
       "      <td>32.868219</td>\n",
       "      <td>-117.220656</td>\n",
       "    </tr>\n",
       "    <tr>\n",
       "      <th>2</th>\n",
       "      <td></td>\n",
       "      <td>4400</td>\n",
       "      <td></td>\n",
       "      <td>59th Street</td>\n",
       "      <td>SAN DIEGO</td>\n",
       "      <td>4400  59th Street SAN DIEGO</td>\n",
       "      <td>(4400, 59th Street, El Cerrito Heights, San Di...</td>\n",
       "      <td>32.758321</td>\n",
       "      <td>-117.070370</td>\n",
       "    </tr>\n",
       "    <tr>\n",
       "      <th>3</th>\n",
       "      <td></td>\n",
       "      <td>4400</td>\n",
       "      <td></td>\n",
       "      <td>59th Street</td>\n",
       "      <td>SAN DIEGO</td>\n",
       "      <td>4400  59th Street SAN DIEGO</td>\n",
       "      <td>(4400, 59th Street, El Cerrito Heights, San Di...</td>\n",
       "      <td>32.758321</td>\n",
       "      <td>-117.070370</td>\n",
       "    </tr>\n",
       "    <tr>\n",
       "      <th>4</th>\n",
       "      <td></td>\n",
       "      <td>4800</td>\n",
       "      <td></td>\n",
       "      <td>NIAGARA AVE</td>\n",
       "      <td>SAN DIEGO</td>\n",
       "      <td>4800  NIAGARA AVE SAN DIEGO</td>\n",
       "      <td>(4800, Niagara Avenue, Ocean Beach, San Diego,...</td>\n",
       "      <td>32.744019</td>\n",
       "      <td>-117.248383</td>\n",
       "    </tr>\n",
       "  </tbody>\n",
       "</table>\n",
       "</div>"
      ],
      "text/plain": [
       "  intersection address_block land_mark address_street address_city  \\\n",
       "0                        700             Grand Avenue    SAN DIEGO   \n",
       "1          I-5                            NOBEL DRIVE    SAN DIEGO   \n",
       "2                       4400              59th Street    SAN DIEGO   \n",
       "3                       4400              59th Street    SAN DIEGO   \n",
       "4                       4800              NIAGARA AVE    SAN DIEGO   \n",
       "\n",
       "                   full_address  \\\n",
       "0   700  Grand Avenue SAN DIEGO   \n",
       "1   I-5   NOBEL DRIVE SAN DIEGO   \n",
       "2   4400  59th Street SAN DIEGO   \n",
       "3   4400  59th Street SAN DIEGO   \n",
       "4   4800  NIAGARA AVE SAN DIEGO   \n",
       "\n",
       "                                            geocodes        lat         lon  \n",
       "0  (700, Grand Avenue, Mission Beach, San Diego, ...  32.794545 -117.255888  \n",
       "1  (Nobel Drive, La Jolla Colony, University City...  32.868219 -117.220656  \n",
       "2  (4400, 59th Street, El Cerrito Heights, San Di...  32.758321 -117.070370  \n",
       "3  (4400, 59th Street, El Cerrito Heights, San Di...  32.758321 -117.070370  \n",
       "4  (4800, Niagara Avenue, Ocean Beach, San Diego,...  32.744019 -117.248383  "
      ]
     },
     "execution_count": 7,
     "metadata": {},
     "output_type": "execute_result"
    }
   ],
   "source": [
    "t = t.head(5)\n",
    "t"
   ]
  },
  {
   "cell_type": "code",
   "execution_count": 8,
   "metadata": {},
   "outputs": [
    {
     "data": {
      "text/plain": [
       "[[-117.197842, 32.747106],\n",
       " [-117.198277, 32.747372],\n",
       " [-117.2218506, 32.7563492],\n",
       " [-117.1494912, 32.7173509],\n",
       " [-117.148547, 32.7065843],\n",
       " [-117.1141481936995, 32.5640853],\n",
       " [-117.1500023, 32.7115382],\n",
       " [-117.1458286, 32.7126201]]"
      ]
     },
     "execution_count": 8,
     "metadata": {},
     "output_type": "execute_result"
    }
   ],
   "source": [
    "encamp = [\"2500 Sports Arena Blvd San Diego\", \"2600 Sports Arena Blvd San Diego\", \"2700 Sports Arena Blvd San Diego\",\n",
    "         \"16th street San Diego\", \"17th street San Diego\", \"Imperial street San Diego\",\n",
    "          \"Market street San Diego\", \"G street San Diego\"]\n",
    "\n",
    "dest = []\n",
    "for x in encamp:\n",
    "    lat = geolocator.geocode(x).latitude\n",
    "    lon = geolocator.geocode(x).longitude\n",
    "    dest.append([lon, lat])\n",
    "\n",
    "dest"
   ]
  },
  {
   "cell_type": "code",
   "execution_count": 9,
   "metadata": {},
   "outputs": [
    {
     "name": "stderr",
     "output_type": "stream",
     "text": [
      "/Users/vikizhao/Downloads/route.py:28: SettingWithCopyWarning: \n",
      "A value is trying to be set on a copy of a slice from a DataFrame.\n",
      "Try using .loc[row_indexer,col_indexer] = value instead\n",
      "\n",
      "See the caveats in the documentation: https://pandas.pydata.org/pandas-docs/stable/user_guide/indexing.html#returning-a-view-versus-a-copy\n",
      "  result[\"To_{}_dist(km)\".format(dest_name)] = dist\n",
      "/Users/vikizhao/Downloads/route.py:29: SettingWithCopyWarning: \n",
      "A value is trying to be set on a copy of a slice from a DataFrame.\n",
      "Try using .loc[row_indexer,col_indexer] = value instead\n",
      "\n",
      "See the caveats in the documentation: https://pandas.pydata.org/pandas-docs/stable/user_guide/indexing.html#returning-a-view-versus-a-copy\n",
      "  result[\"To_{}_time(min)\".format(dest_name)] = [x / 60 for x in time]\n"
     ]
    }
   ],
   "source": [
    "from route import *\n",
    "\n",
    "df = t\n",
    "for i in range(len(encamp)):\n",
    "    df = commute_time(df, str(i), dest[i], 'foot-walking')"
   ]
  },
  {
   "cell_type": "code",
   "execution_count": 10,
   "metadata": {},
   "outputs": [
    {
     "data": {
      "text/html": [
       "<div>\n",
       "<style scoped>\n",
       "    .dataframe tbody tr th:only-of-type {\n",
       "        vertical-align: middle;\n",
       "    }\n",
       "\n",
       "    .dataframe tbody tr th {\n",
       "        vertical-align: top;\n",
       "    }\n",
       "\n",
       "    .dataframe thead th {\n",
       "        text-align: right;\n",
       "    }\n",
       "</style>\n",
       "<table border=\"1\" class=\"dataframe\">\n",
       "  <thead>\n",
       "    <tr style=\"text-align: right;\">\n",
       "      <th></th>\n",
       "      <th>intersection</th>\n",
       "      <th>address_block</th>\n",
       "      <th>land_mark</th>\n",
       "      <th>address_street</th>\n",
       "      <th>address_city</th>\n",
       "      <th>full_address</th>\n",
       "      <th>geocodes</th>\n",
       "      <th>lat</th>\n",
       "      <th>lon</th>\n",
       "      <th>To_0_dist(km)</th>\n",
       "      <th>...</th>\n",
       "      <th>To_3_dist(km)</th>\n",
       "      <th>To_3_time(min)</th>\n",
       "      <th>To_4_dist(km)</th>\n",
       "      <th>To_4_time(min)</th>\n",
       "      <th>To_5_dist(km)</th>\n",
       "      <th>To_5_time(min)</th>\n",
       "      <th>To_6_dist(km)</th>\n",
       "      <th>To_6_time(min)</th>\n",
       "      <th>To_7_dist(km)</th>\n",
       "      <th>To_7_time(min)</th>\n",
       "    </tr>\n",
       "  </thead>\n",
       "  <tbody>\n",
       "    <tr>\n",
       "      <th>0</th>\n",
       "      <td></td>\n",
       "      <td>700</td>\n",
       "      <td></td>\n",
       "      <td>Grand Avenue</td>\n",
       "      <td>SAN DIEGO</td>\n",
       "      <td>700  Grand Avenue SAN DIEGO</td>\n",
       "      <td>(700, Grand Avenue, Mission Beach, San Diego, ...</td>\n",
       "      <td>32.794545</td>\n",
       "      <td>-117.255888</td>\n",
       "      <td>9.07</td>\n",
       "      <td>...</td>\n",
       "      <td>18.08</td>\n",
       "      <td>216.986667</td>\n",
       "      <td>19.05</td>\n",
       "      <td>228.625333</td>\n",
       "      <td>37.29</td>\n",
       "      <td>439.342333</td>\n",
       "      <td>18.69</td>\n",
       "      <td>224.220333</td>\n",
       "      <td>19.20</td>\n",
       "      <td>230.447167</td>\n",
       "    </tr>\n",
       "    <tr>\n",
       "      <th>1</th>\n",
       "      <td>I-5</td>\n",
       "      <td></td>\n",
       "      <td></td>\n",
       "      <td>NOBEL DRIVE</td>\n",
       "      <td>SAN DIEGO</td>\n",
       "      <td>I-5   NOBEL DRIVE SAN DIEGO</td>\n",
       "      <td>(Nobel Drive, La Jolla Colony, University City...</td>\n",
       "      <td>32.868219</td>\n",
       "      <td>-117.220656</td>\n",
       "      <td>17.34</td>\n",
       "      <td>...</td>\n",
       "      <td>22.59</td>\n",
       "      <td>271.117333</td>\n",
       "      <td>23.83</td>\n",
       "      <td>285.941500</td>\n",
       "      <td>43.93</td>\n",
       "      <td>518.976500</td>\n",
       "      <td>23.15</td>\n",
       "      <td>277.758500</td>\n",
       "      <td>23.91</td>\n",
       "      <td>286.889833</td>\n",
       "    </tr>\n",
       "    <tr>\n",
       "      <th>2</th>\n",
       "      <td></td>\n",
       "      <td>4400</td>\n",
       "      <td></td>\n",
       "      <td>59th Street</td>\n",
       "      <td>SAN DIEGO</td>\n",
       "      <td>4400  59th Street SAN DIEGO</td>\n",
       "      <td>(4400, 59th Street, El Cerrito Heights, San Di...</td>\n",
       "      <td>32.758321</td>\n",
       "      <td>-117.070370</td>\n",
       "      <td>14.30</td>\n",
       "      <td>...</td>\n",
       "      <td>11.75</td>\n",
       "      <td>141.052167</td>\n",
       "      <td>12.83</td>\n",
       "      <td>153.948333</td>\n",
       "      <td>28.63</td>\n",
       "      <td>343.521000</td>\n",
       "      <td>12.52</td>\n",
       "      <td>150.182000</td>\n",
       "      <td>11.91</td>\n",
       "      <td>142.882833</td>\n",
       "    </tr>\n",
       "    <tr>\n",
       "      <th>3</th>\n",
       "      <td></td>\n",
       "      <td>4400</td>\n",
       "      <td></td>\n",
       "      <td>59th Street</td>\n",
       "      <td>SAN DIEGO</td>\n",
       "      <td>4400  59th Street SAN DIEGO</td>\n",
       "      <td>(4400, 59th Street, El Cerrito Heights, San Di...</td>\n",
       "      <td>32.758321</td>\n",
       "      <td>-117.070370</td>\n",
       "      <td>14.30</td>\n",
       "      <td>...</td>\n",
       "      <td>11.75</td>\n",
       "      <td>141.052167</td>\n",
       "      <td>12.83</td>\n",
       "      <td>153.948333</td>\n",
       "      <td>28.63</td>\n",
       "      <td>343.521000</td>\n",
       "      <td>12.52</td>\n",
       "      <td>150.182000</td>\n",
       "      <td>11.91</td>\n",
       "      <td>142.882833</td>\n",
       "    </tr>\n",
       "    <tr>\n",
       "      <th>4</th>\n",
       "      <td></td>\n",
       "      <td>4800</td>\n",
       "      <td></td>\n",
       "      <td>NIAGARA AVE</td>\n",
       "      <td>SAN DIEGO</td>\n",
       "      <td>4800  NIAGARA AVE SAN DIEGO</td>\n",
       "      <td>(4800, Niagara Avenue, Ocean Beach, San Diego,...</td>\n",
       "      <td>32.744019</td>\n",
       "      <td>-117.248383</td>\n",
       "      <td>6.02</td>\n",
       "      <td>...</td>\n",
       "      <td>12.10</td>\n",
       "      <td>145.227000</td>\n",
       "      <td>13.07</td>\n",
       "      <td>156.865500</td>\n",
       "      <td>31.31</td>\n",
       "      <td>367.582667</td>\n",
       "      <td>12.71</td>\n",
       "      <td>152.460667</td>\n",
       "      <td>13.22</td>\n",
       "      <td>158.687333</td>\n",
       "    </tr>\n",
       "  </tbody>\n",
       "</table>\n",
       "<p>5 rows × 25 columns</p>\n",
       "</div>"
      ],
      "text/plain": [
       "  intersection address_block land_mark address_street address_city  \\\n",
       "0                        700             Grand Avenue    SAN DIEGO   \n",
       "1          I-5                            NOBEL DRIVE    SAN DIEGO   \n",
       "2                       4400              59th Street    SAN DIEGO   \n",
       "3                       4400              59th Street    SAN DIEGO   \n",
       "4                       4800              NIAGARA AVE    SAN DIEGO   \n",
       "\n",
       "                   full_address  \\\n",
       "0   700  Grand Avenue SAN DIEGO   \n",
       "1   I-5   NOBEL DRIVE SAN DIEGO   \n",
       "2   4400  59th Street SAN DIEGO   \n",
       "3   4400  59th Street SAN DIEGO   \n",
       "4   4800  NIAGARA AVE SAN DIEGO   \n",
       "\n",
       "                                            geocodes        lat         lon  \\\n",
       "0  (700, Grand Avenue, Mission Beach, San Diego, ...  32.794545 -117.255888   \n",
       "1  (Nobel Drive, La Jolla Colony, University City...  32.868219 -117.220656   \n",
       "2  (4400, 59th Street, El Cerrito Heights, San Di...  32.758321 -117.070370   \n",
       "3  (4400, 59th Street, El Cerrito Heights, San Di...  32.758321 -117.070370   \n",
       "4  (4800, Niagara Avenue, Ocean Beach, San Diego,...  32.744019 -117.248383   \n",
       "\n",
       "   To_0_dist(km)  ...  To_3_dist(km)  To_3_time(min)  To_4_dist(km)  \\\n",
       "0           9.07  ...          18.08      216.986667          19.05   \n",
       "1          17.34  ...          22.59      271.117333          23.83   \n",
       "2          14.30  ...          11.75      141.052167          12.83   \n",
       "3          14.30  ...          11.75      141.052167          12.83   \n",
       "4           6.02  ...          12.10      145.227000          13.07   \n",
       "\n",
       "   To_4_time(min)  To_5_dist(km)  To_5_time(min)  To_6_dist(km)  \\\n",
       "0      228.625333          37.29      439.342333          18.69   \n",
       "1      285.941500          43.93      518.976500          23.15   \n",
       "2      153.948333          28.63      343.521000          12.52   \n",
       "3      153.948333          28.63      343.521000          12.52   \n",
       "4      156.865500          31.31      367.582667          12.71   \n",
       "\n",
       "   To_6_time(min)  To_7_dist(km)  To_7_time(min)  \n",
       "0      224.220333          19.20      230.447167  \n",
       "1      277.758500          23.91      286.889833  \n",
       "2      150.182000          11.91      142.882833  \n",
       "3      150.182000          11.91      142.882833  \n",
       "4      152.460667          13.22      158.687333  \n",
       "\n",
       "[5 rows x 25 columns]"
      ]
     },
     "execution_count": 10,
     "metadata": {},
     "output_type": "execute_result"
    }
   ],
   "source": [
    "df"
   ]
  },
  {
   "cell_type": "markdown",
   "metadata": {},
   "source": [
    "## References<a id='ref'></a>\n",
    "\n",
    "1. <a id='ref1'></a> “Stopped by police in San Diego? A lot depends on where you live, drive”:https://www.sandiegouniontribune.com/news/watchdog/story/2022-01-16/stopped-by-police-in-san-diego-a-lot-depends-on-where-you-live-drive by Greg Moran, Lyndsay Winkley, Lauryn Schroeder, Cristina Byvik, and Michelle Gilchrist\n",
    "\n",
    "2. <a id='ref2'></a>“The California Racial Justice Act & San Diego PD RIPA Data”:https://github.com/FleischerResearchLab/CRJA-analysis/blob/main/src/CRJA%20%2B%20SDPD%20Ripa%20Data.ipynb by Sreetama Chowdhury"
   ]
  },
  {
   "cell_type": "code",
   "execution_count": null,
   "metadata": {},
   "outputs": [],
   "source": []
  }
 ],
 "metadata": {
  "kernelspec": {
   "display_name": "Python 3",
   "language": "python",
   "name": "python3"
  },
  "language_info": {
   "codemirror_mode": {
    "name": "ipython",
    "version": 3
   },
   "file_extension": ".py",
   "mimetype": "text/x-python",
   "name": "python",
   "nbconvert_exporter": "python",
   "pygments_lexer": "ipython3",
   "version": "3.8.5"
  }
 },
 "nbformat": 4,
 "nbformat_minor": 5
}
