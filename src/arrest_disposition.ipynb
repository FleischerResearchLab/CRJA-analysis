{
 "cells": [
  {
   "cell_type": "code",
   "execution_count": null,
   "metadata": {},
   "outputs": [],
   "source": [
    "\n",
    "import sys  \n",
    "#!{sys.executable} -m pip install pandas\n",
    "import pandas as pd\n",
    "\n",
    "df = pd.read_csv('./OnlineArrestDispoData1980-2020.csv')\n",
    "print(df.columns)"
   ]
  },
  {
   "cell_type": "code",
   "execution_count": null,
   "metadata": {},
   "outputs": [],
   "source": [
    "df = df[df['YEAR'] > 2010]\n",
    "df['TOTAL'] = df['F_TOTAL'] + df['M_TOTAL'] + df['S_TOTAL']"
   ]
  },
  {
   "cell_type": "code",
   "execution_count": null,
   "metadata": {},
   "outputs": [],
   "source": [
    "#!{sys.executable} -m pip install matplotlib\n",
    "import matplotlib.pyplot as plt\n",
    "\n",
    "df_race = df[df['RACE'] == \"Black\"]\n",
    "\n",
    "df_release = df_race[df_race['ARREST_DISP_CODE'] == \"Released\"]\n",
    "df_complaint_sought = df_race[df_race['ARREST_DISP_CODE'] == \"Complaint Sought\"]\n",
    "df_to_other = df_race[df_race['ARREST_DISP_CODE'] == \"To Other Agency\"]\n",
    "df_within_dept = df_race[df_race['ARREST_DISP_CODE'] == \"Within Department\"]\n",
    "df_probation = df_race[df_race['ARREST_DISP_CODE'] == \"Juvenile Probation\"]\n",
    "\n",
    "total_arrest = df_race['TOTAL'].sum()\n",
    "\n",
    "total_release = df_release['TOTAL'].sum()\n",
    "total_complaint_sought = df_complaint_sought['TOTAL'].sum()\n",
    "total_to_other = df_to_other['TOTAL'].sum()\n",
    "total_within_dept = df_within_dept['TOTAL'].sum()\n",
    "total_probation = df_probation['TOTAL'].sum()\n",
    "\n",
    "# initialize list of lists\n",
    "data = [['Black',(total_release/total_arrest)*100,\n",
    "         (total_to_other/total_arrest)*100, (total_within_dept/total_arrest)*100, \n",
    "          (total_probation/total_arrest)*100, (total_complaint_sought/total_arrest)*100]]\n",
    "  \n",
    "df_data_black = pd.DataFrame(data, columns = ['Race', 'Released', 'To Other Agency', \n",
    "                                         'Within Department', 'Juvenile Probation', 'Complaint Sought'])\n",
    "                        \n"
   ]
  },
  {
   "cell_type": "code",
   "execution_count": null,
   "metadata": {},
   "outputs": [],
   "source": [
    "df_race = df[df['RACE'] == \"White\"]\n",
    "\n",
    "df_release = df_race[df_race['ARREST_DISP_CODE'] == \"Released\"]\n",
    "df_complaint_sought = df_race[df_race['ARREST_DISP_CODE'] == \"Complaint Sought\"]\n",
    "df_to_other = df_race[df_race['ARREST_DISP_CODE'] == \"To Other Agency\"]\n",
    "df_within_dept = df_race[df_race['ARREST_DISP_CODE'] == \"Within Department\"]\n",
    "df_probation = df_race[df_race['ARREST_DISP_CODE'] == \"Juvenile Probation\"]\n",
    "\n",
    "total_arrest = df_race['TOTAL'].sum()\n",
    "\n",
    "total_release = df_release['TOTAL'].sum()\n",
    "total_complaint_sought = df_complaint_sought['TOTAL'].sum()\n",
    "total_to_other = df_to_other['TOTAL'].sum()\n",
    "total_within_dept = df_within_dept['TOTAL'].sum()\n",
    "total_probation = df_probation['TOTAL'].sum()\n",
    "\n",
    "# initialize list of lists\n",
    "data = [['White',(total_release/total_arrest)*100,\n",
    "         (total_to_other/total_arrest)*100, (total_within_dept/total_arrest)*100, \n",
    "          (total_probation/total_arrest)*100, (total_complaint_sought/total_arrest)*100]]\n",
    "  \n",
    "df_data_white = pd.DataFrame(data, columns = ['Race', 'Released', 'To Other Agency', \n",
    "                                         'Within Department', 'Juvenile Probation', 'Complaint Sought'])\n",
    "                    \n"
   ]
  },
  {
   "cell_type": "code",
   "execution_count": null,
   "metadata": {},
   "outputs": [],
   "source": [
    "df_race = df[df['RACE'] == \"Hispanic\"]\n",
    "\n",
    "df_release = df_race[df_race['ARREST_DISP_CODE'] == \"Released\"]\n",
    "df_complaint_sought = df_race[df_race['ARREST_DISP_CODE'] == \"Complaint Sought\"]\n",
    "df_to_other = df_race[df_race['ARREST_DISP_CODE'] == \"To Other Agency\"]\n",
    "df_within_dept = df_race[df_race['ARREST_DISP_CODE'] == \"Within Department\"]\n",
    "df_probation = df_race[df_race['ARREST_DISP_CODE'] == \"Juvenile Probation\"]\n",
    "\n",
    "total_arrest = df_race['TOTAL'].sum()\n",
    "\n",
    "total_release = df_release['TOTAL'].sum()\n",
    "total_complaint_sought = df_complaint_sought['TOTAL'].sum()\n",
    "total_to_other = df_to_other['TOTAL'].sum()\n",
    "total_within_dept = df_within_dept['TOTAL'].sum()\n",
    "total_probation = df_probation['TOTAL'].sum()\n",
    "\n",
    "# initialize list of lists\n",
    "data = [['Hispanic',(total_release/total_arrest)*100,\n",
    "         (total_to_other/total_arrest)*100, (total_within_dept/total_arrest)*100, \n",
    "          (total_probation/total_arrest)*100, (total_complaint_sought/total_arrest)*100]]\n",
    "  \n",
    "df_data_hispanic = pd.DataFrame(data, columns = ['Race', 'Released', 'To Other Agency', \n",
    "                                         'Within Department', 'Juvenile Probation', 'Complaint Sought'])\n",
    "                    \n"
   ]
  },
  {
   "cell_type": "code",
   "execution_count": null,
   "metadata": {},
   "outputs": [],
   "source": [
    "df_race = df[df['RACE'] == \"Other\"]\n",
    "\n",
    "df_release = df_race[df_race['ARREST_DISP_CODE'] == \"Released\"]\n",
    "df_complaint_sought = df_race[df_race['ARREST_DISP_CODE'] == \"Complaint Sought\"]\n",
    "df_to_other = df_race[df_race['ARREST_DISP_CODE'] == \"To Other Agency\"]\n",
    "df_within_dept = df_race[df_race['ARREST_DISP_CODE'] == \"Within Department\"]\n",
    "df_probation = df_race[df_race['ARREST_DISP_CODE'] == \"Juvenile Probation\"]\n",
    "\n",
    "total_arrest = df_race['TOTAL'].sum()\n",
    "\n",
    "total_release = df_release['TOTAL'].sum()\n",
    "total_complaint_sought = df_complaint_sought['TOTAL'].sum()\n",
    "total_to_other = df_to_other['TOTAL'].sum()\n",
    "total_within_dept = df_within_dept['TOTAL'].sum()\n",
    "total_probation = df_probation['TOTAL'].sum()\n",
    "\n",
    "# initialize list of lists\n",
    "data = [['Other',(total_release/total_arrest)*100,\n",
    "         (total_to_other/total_arrest)*100, (total_within_dept/total_arrest)*100, \n",
    "          (total_probation/total_arrest)*100, (total_complaint_sought/total_arrest)*100]]\n",
    "  \n",
    "df_data_others = pd.DataFrame(data, columns = ['Race', 'Released', 'To Other Agency', \n",
    "                                         'Within Department', 'Juvenile Probation', 'Complaint Sought'])\n",
    "                    \n"
   ]
  },
  {
   "cell_type": "code",
   "execution_count": null,
   "metadata": {},
   "outputs": [],
   "source": [
    "df_final = pd.concat([df_data_black, df_data_white, df_data_hispanic, df_data_others])\n",
    "df_final = df_final.set_index('Race')\n",
    "df_final.plot.barh(stacked=True)"
   ]
  },
  {
   "cell_type": "code",
   "execution_count": null,
   "metadata": {},
   "outputs": [],
   "source": [
    "force_df = pd.read_csv('./URSUS_Civilian-Officer_2020.csv')\n"
   ]
  },
  {
   "cell_type": "code",
   "execution_count": null,
   "metadata": {},
   "outputs": [],
   "source": [
    "officer_force_df = force_df[force_df['Civilian_Officer'] ==  \"Civilian\"]\n",
    "force_racial_breakdown_df = officer_force_df.groupby(['Race_Ethnic_Group'], as_index=True).size()\n",
    "force_racial_breakdown_df.plot.barh()"
   ]
  },
  {
   "cell_type": "code",
   "execution_count": null,
   "metadata": {},
   "outputs": [],
   "source": [
    "civilian_resistence_df = force_df[force_df['Civilian_Officer'] ==  \"Civilian\"]\n",
    "civilian_resistence_df = civilian_resistence_df[civilian_resistence_df['CIVILIAN_Resistance_Type'] ==\"assaultive\"]\n",
    "racial_breakdown_df = civilian_resistence_df.groupby(['Race_Ethnic_Group'], as_index=True).size()\n",
    "racial_breakdown_df.plot.barh(stacked= True)"
   ]
  },
  {
   "cell_type": "code",
   "execution_count": null,
   "metadata": {},
   "outputs": [],
   "source": []
  }
 ],
 "metadata": {
  "kernelspec": {
   "display_name": "Python 3",
   "language": "python",
   "name": "python3"
  },
  "language_info": {
   "codemirror_mode": {
    "name": "ipython",
    "version": 3
   },
   "file_extension": ".py",
   "mimetype": "text/x-python",
   "name": "python",
   "nbconvert_exporter": "python",
   "pygments_lexer": "ipython3",
   "version": "3.8.5"
  }
 },
 "nbformat": 4,
 "nbformat_minor": 4
}
